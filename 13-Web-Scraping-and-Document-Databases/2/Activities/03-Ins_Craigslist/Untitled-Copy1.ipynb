{
 "cells": [
  {
   "cell_type": "code",
   "execution_count": 47,
   "metadata": {},
   "outputs": [],
   "source": [
    "from selenium import webdriver\n",
    "from bs4 import BeautifulSoup\n",
    "import requests"
   ]
  },
  {
   "cell_type": "code",
   "execution_count": 52,
   "metadata": {},
   "outputs": [],
   "source": [
    "driver= webdriver.Chrome('C:/Users/renuka/Desktop/chromedriver.exe')"
   ]
  },
  {
   "cell_type": "raw",
   "metadata": {},
   "source": [
    "#driver.get('https://www.instagram.com/michaeljackson/')\n",
    "driver.get(\"https://www.instagram.com/explore/tags/italy/\")\n",
    "#response = requests.get()\n",
    "soup = BeautifulSoup(driver.page_source,\"lxml\")\n",
    "driver.quit()"
   ]
  },
  {
   "cell_type": "code",
   "execution_count": 12,
   "metadata": {},
   "outputs": [],
   "source": [
    "#print(soup.prettify)"
   ]
  },
  {
   "cell_type": "code",
   "execution_count": 53,
   "metadata": {},
   "outputs": [],
   "source": [
    "#driver.get('https://www.instagram.com/michaeljackson/')\n",
    "driver.get(\"https://www.instagram.com/explore/tags/italy/\")\n",
    "#response = requests.get()\n",
    "soup = BeautifulSoup(driver.page_source,\"lxml\")\n",
    "driver.quit()"
   ]
  },
  {
   "cell_type": "code",
   "execution_count": 15,
   "metadata": {},
   "outputs": [
    {
     "name": "stdout",
     "output_type": "stream",
     "text": [
      "Name:#italy\n",
      "Posts:79,057,297\n"
     ]
    }
   ],
   "source": [
    "for item in soup.select('._ex0oh'):\n",
    "    name = item.select('._8zv80')[0].text\n",
    "    posts= item.select('._fd86t')[0].text\n",
    "    #following = item.select('._fd86t').text\n",
    "    print('Name:{}\\nPosts:{}'.format(name,posts))"
   ]
  },
  {
   "cell_type": "code",
   "execution_count": 44,
   "metadata": {},
   "outputs": [
    {
     "name": "stdout",
     "output_type": "stream",
     "text": [
      "Name:officialpandaexpress\n",
      "Posts:705\n",
      "Followers:110k\n",
      "Following:325\n"
     ]
    }
   ],
   "source": [
    "#section class='._o6mpc'\n",
    "for item in soup.select('._o6mpc'):\n",
    "    name = item.select('._rf3jb')[0].text\n",
    "    posts = item.select('._fd86t')[0].text\n",
    "    followers = item.select('._fd86t')[1].text\n",
    "    following = item.select('._fd86t')[2].text\n",
    "    #likes = item.select('._1ibs3')[2].text\n",
    "   \n",
    "    print('Name:{}\\nPosts:{}\\nFollowers:{}\\nFollowing:{}'.format(name,posts,followers,following))\n",
    "          "
   ]
  },
  {
   "cell_type": "code",
   "execution_count": 62,
   "metadata": {},
   "outputs": [],
   "source": [
    "for item in soup.select('._mli86'):\n",
    "    likes = item.select('._puatn')[0].text\n",
    "    print('Likes:{}'.format(likes))"
   ]
  },
  {
   "cell_type": "code",
   "execution_count": 55,
   "metadata": {},
   "outputs": [
    {
     "data": {
      "text/plain": [
       "[]"
      ]
     },
     "execution_count": 55,
     "metadata": {},
     "output_type": "execute_result"
    }
   ],
   "source": [
    "results = soup.find_all('div', class_=\"._mli86\")\n",
    "results"
   ]
  },
  {
   "cell_type": "code",
   "execution_count": null,
   "metadata": {},
   "outputs": [],
   "source": []
  }
 ],
 "metadata": {
  "kernelspec": {
   "display_name": "Python [conda env:pythondata]",
   "language": "python",
   "name": "conda-env-pythondata-py"
  },
  "language_info": {
   "codemirror_mode": {
    "name": "ipython",
    "version": 3
   },
   "file_extension": ".py",
   "mimetype": "text/x-python",
   "name": "python",
   "nbconvert_exporter": "python",
   "pygments_lexer": "ipython3",
   "version": "3.6.4"
  }
 },
 "nbformat": 4,
 "nbformat_minor": 2
}
