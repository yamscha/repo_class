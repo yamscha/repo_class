{
 "cells": [
  {
   "cell_type": "code",
   "execution_count": 1,
   "metadata": {},
   "outputs": [],
   "source": [
    "# Dependency\n",
    "from os import getcwd\n",
    "from os.path import join\n",
    "from bs4 import BeautifulSoup as bs"
   ]
  },
  {
   "cell_type": "code",
   "execution_count": 8,
   "metadata": {},
   "outputs": [
    {
     "name": "stderr",
     "output_type": "stream",
     "text": [
      "'ls' is not recognized as an internal or external command,\n",
      "operable program or batch file.\n"
     ]
    }
   ],
   "source": []
  },
  {
   "cell_type": "code",
   "execution_count": 2,
   "metadata": {},
   "outputs": [],
   "source": [
    "with open(join(getcwd(), '..', 'Resources', 'template.html')) as file:\n",
    "    \n",
    "    # Read HTMLa    html = file.read()\n",
    "\n",
    "    # Create a Beautiful Soup object\n",
    "    soup = bs(html, 'lxml')"
   ]
  },
  {
   "cell_type": "code",
   "execution_count": 9,
   "metadata": {},
   "outputs": [],
   "source": [
    "#html"
   ]
  },
  {
   "cell_type": "code",
   "execution_count": 3,
   "metadata": {},
   "outputs": [
    {
     "name": "stdout",
     "output_type": "stream",
     "text": [
      "Top Ten Stories From 1996\n"
     ]
    }
   ],
   "source": [
    "title = soup.title.text\n",
    "print(title)"
   ]
  },
  {
   "cell_type": "code",
   "execution_count": 11,
   "metadata": {},
   "outputs": [
    {
     "name": "stdout",
     "output_type": "stream",
     "text": [
      "\n",
      "\n",
      "What were the biggest stories of the year?\n",
      "\n",
      "It's a question journalists like to ask themselves at the end of every\n",
      "            year. Now you can join in the process. Here are our selections for the top ten news\n",
      "            stories of 1996.\n",
      "\n",
      "            Disagree with our choices? Then tell us what stories you think were most compelling\n",
      "            in the poll below.\n",
      "\n",
      "\n",
      "\n",
      "What makes a big\n",
      "            story BIG?\n",
      "\n",
      "It depends on your criteria, of course, and your perspective. That's why we offered\n",
      "            a poll to find out what you think.\n",
      "For our list, we polled producers throughout the CNN/Pathfinder family of networks\n",
      "            and publications, and weighed such criteria as a story's long-term implications,\n",
      "            geopolitical significance, user interest, amount of coverage, and old-fashioned newsworthiness.\n",
      "            All these things help make a \"big\" story big.\n",
      "By no means do we think our lists are the final word. Even our polls among CNN\n",
      "            producers turned up a wide variety of responses. The process is meant to encourage\n",
      "            you to reconsider the stories that dominated the media during the past year and determine\n",
      "            for yourself which were mere sensations and which were truly significant.\n",
      "            \n",
      "© 1996 Cable News Network, Inc.\n",
      "All Rights Reserved.\n"
     ]
    }
   ],
   "source": [
    "#print all paragraphs texts\n",
    "\n",
    "para1 = soup.find_all('p')\n",
    "for para in para1:\n",
    "    print(para.text)"
   ]
  },
  {
   "cell_type": "code",
   "execution_count": 24,
   "metadata": {},
   "outputs": [],
   "source": [
    "tds = soup.find_all('td')\n",
    "headlines =[]\n",
    "for td in tds:\n",
    "    #if(td.a and td.a.text):\n",
    "    if(td.a) and (td.a.text):\n",
    "        headlines.append(td)\n",
    "            "
   ]
  },
  {
   "cell_type": "code",
   "execution_count": null,
   "metadata": {},
   "outputs": [],
   "source": [
    "\"\"\"\n",
    "It's safer to be more specific\n",
    "\"\"\"\n",
    "#tds = soup.html.body.blockquote.center.find_all('table')[0].find_all('td')\n",
    "#headlines = []\n",
    "#for td in tds:\n",
    "    # If td element has an anchor...# And the anchor has non-blank text...\n",
    " #   if td.a and td.a.text:\n",
    "  #      # Append the td to the list\n",
    "   #     headlines.append(td)"
   ]
  },
  {
   "cell_type": "code",
   "execution_count": 25,
   "metadata": {},
   "outputs": [
    {
     "data": {
      "text/plain": [
       "[<td><a href=\"topten/israel/israel.index.html\" target=\"_top\"><b>Israel</b> elects <b>Netanyahu</b></a></td>,\n",
       " <td><a href=\"topten/twa/twa.index.html\" target=\"_top\">Crash of TWA Flight 800</a></td>,\n",
       " <td><a href=\"topten/yeltsin/yeltsin.index.html\" target=\"_top\"><b>Russia</b> elects <b>Yeltsin</b></a></td>,\n",
       " <td><a href=\"topten/clinton/clinton.index.html\" target=\"_top\"><b>U.S</b>. elects <b>Clinton</b></a></td>,\n",
       " <td><a href=\"topten/hutu/hutu.index.html\" target=\"_top\"><b>Hutu-Tutsi</b> conflict in central Africa</a></td>,\n",
       " <td><a href=\"topten/bosnia/bosnia.index.html\" target=\"_top\">Peace, elections in <b>Bosnia</b></a></td>,\n",
       " <td><a href=\"topten/saudi/saudi.index.html\" target=\"_top\"><b>U.S</b>. base bombed in <b>Saudi Arabia</b></a></td>,\n",
       " <td><a href=\"topten/olympics/olympics.index.html\" target=\"_top\">Centennial <b>Olympic</b> Games</a></td>,\n",
       " <td><a href=\"topten/aids/aids.index.html\" target=\"_top\">Advances against <b>AIDS</b></a></td>,\n",
       " <td><a href=\"topten/unabomb/unabomb.index.html\" target=\"_top\"><b>Unabomb</b> suspect <b>Ted Kaczynski</b> arrested</a></td>,\n",
       " <td colspan=\"2\"><center><a href=\"http://www-cgi.cnn.com/cgi-bin/poll/heavypoll.pl?slug=9612%2Fyir_top_10\" target=\"_top\">The top 10 stories according to our users</a></center></td>,\n",
       " <td><strong><a href=\"/feedback/index.html\" name=\"_top\">Tell us what you think</a></strong><br/><br/>\n",
       " <strong><a href=\"/feedback/comments.html\" name=\"_top\">You said it...</a></strong></td>]"
      ]
     },
     "execution_count": 25,
     "metadata": {},
     "output_type": "execute_result"
    }
   ],
   "source": [
    "headlines"
   ]
  },
  {
   "cell_type": "code",
   "execution_count": 26,
   "metadata": {},
   "outputs": [
    {
     "name": "stdout",
     "output_type": "stream",
     "text": [
      "Israel elects Netanyahu\n",
      "Crash of TWA Flight 800\n",
      "Russia elects Yeltsin\n",
      "U.S. elects Clinton\n"
     ]
    }
   ],
   "source": [
    "for i in range(4):\n",
    "    print(headlines[i].text)"
   ]
  }
 ],
 "metadata": {
  "kernelspec": {
   "display_name": "Python [conda env:pythondata]",
   "language": "python",
   "name": "conda-env-pythondata-py"
  },
  "language_info": {
   "codemirror_mode": {
    "name": "ipython",
    "version": 3
   },
   "file_extension": ".py",
   "mimetype": "text/x-python",
   "name": "python",
   "nbconvert_exporter": "python",
   "pygments_lexer": "ipython3",
   "version": "3.6.4"
  }
 },
 "nbformat": 4,
 "nbformat_minor": 2
}
