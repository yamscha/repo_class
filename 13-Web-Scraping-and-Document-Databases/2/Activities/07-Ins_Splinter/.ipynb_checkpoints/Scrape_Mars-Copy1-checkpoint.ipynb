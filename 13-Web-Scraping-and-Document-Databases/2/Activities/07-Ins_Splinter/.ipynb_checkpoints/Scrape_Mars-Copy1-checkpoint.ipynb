{
 "cells": [
  {
   "cell_type": "code",
   "execution_count": 21,
   "metadata": {},
   "outputs": [],
   "source": [
    "import time\n",
    "from splinter import Browser\n",
    "from bs4 import BeautifulSoup\n",
    "import pandas as pd\n",
    "from selenium import webdriver"
   ]
  },
  {
   "cell_type": "code",
   "execution_count": null,
   "metadata": {},
   "outputs": [],
   "source": [
    "def init_browser():\n",
    "    # @NOTE: Replace the path with your actual path to the chromedriver\n",
    "    executable_path = {\"executable_path\": 'C:/Users/renuka/Desktop/chromedriver.exe'}\n",
    "    return Browser(\"chrome\", **executable_path, headless=False)"
   ]
  },
  {
   "cell_type": "code",
   "execution_count": null,
   "metadata": {},
   "outputs": [],
   "source": [
    "def scrape():\n",
    "    browser = init_browser()\n",
    "    listings = {}\n",
    "\n",
    "    url='https://twitter.com/marswxreport?lang=en'\n",
    "    \n",
    "    time.sleep(1)\n",
    "\n",
    "    html = browser.html\n",
    "    soup = BeautifulSoup(html, \"html.parser\")\n",
    "\n",
    "    listings = soup.find(\"p\",class_=\"TweetTextSize\").text\n",
    "    #print(listings)\n",
    "    #listings[\"price\"] = soup.find(\"span\", class_=\"result-price\").get_text()\n",
    "    #listings[\"hood\"] = soup.find(\"span\", class_=\"result-hood\").get_text()\n",
    "\n",
    "    return listings"
   ]
  },
  {
   "cell_type": "code",
   "execution_count": null,
   "metadata": {},
   "outputs": [],
   "source": [
    "#scrape()"
   ]
  },
  {
   "cell_type": "code",
   "execution_count": null,
   "metadata": {},
   "outputs": [],
   "source": [
    "def init_browser1():\n",
    "    driver= webdriver.Chrome('C:/Users/renuka/Desktop/chromedriver.exe')"
   ]
  },
  {
   "cell_type": "code",
   "execution_count": 22,
   "metadata": {},
   "outputs": [],
   "source": [
    "def scrape1():\n",
    "    driver= webdriver.Chrome('C:/Users/renuka/Desktop/chromedriver.exe')\n",
    "    driver.get('https://twitter.com/marswxreport?lang=en')\n",
    "    soup1= BeautifulSoup(driver.page_source,'lxml')\n",
    "    driver.quit()\n",
    "    mars_listings ={}\n",
    "    mars_listings[\"mars_weather\"] = soup1.select('.TweetTextSize')[0].text\n",
    "    return mars_listings"
   ]
  },
  {
   "cell_type": "code",
   "execution_count": 23,
   "metadata": {},
   "outputs": [
    {
     "data": {
      "text/plain": [
       "{'mars_weather': 'Sol 2026 (April 18, 2018), Sunny, high -6C/21F, low -73C/-99F, pressure at 7.19 hPa, daylight 05:26-17:21'}"
      ]
     },
     "execution_count": 23,
     "metadata": {},
     "output_type": "execute_result"
    }
   ],
   "source": [
    "scrape1()"
   ]
  },
  {
   "cell_type": "code",
   "execution_count": null,
   "metadata": {},
   "outputs": [],
   "source": [
    "mars_weather = soup1.select('.TweetTextSize')[0].text\n",
    "mars_weather"
   ]
  },
  {
   "cell_type": "code",
   "execution_count": 24,
   "metadata": {},
   "outputs": [],
   "source": [
    "from flask import Flask, render_template, jsonify, redirect\n",
    "from flask_pymongo import PyMongo\n",
    "#import scrape_craigslist"
   ]
  },
  {
   "cell_type": "code",
   "execution_count": 25,
   "metadata": {},
   "outputs": [],
   "source": [
    "#app = Flask(__name__)\n",
    "\n",
    "#mongo = PyMongo(app)\n"
   ]
  },
  {
   "cell_type": "code",
   "execution_count": 26,
   "metadata": {},
   "outputs": [],
   "source": [
    "#@app.route(\"/\")\n",
    "#def index1():\n",
    " #   mars_tweet = mongo.db.mars_tweet.find_one()\n",
    "  #  return render_template(\"index.html\", mars_tweet=mars_tweet)"
   ]
  },
  {
   "cell_type": "code",
   "execution_count": null,
   "metadata": {},
   "outputs": [],
   "source": []
  },
  {
   "cell_type": "code",
   "execution_count": 27,
   "metadata": {},
   "outputs": [
    {
     "name": "stderr",
     "output_type": "stream",
     "text": [
      " * Running on http://127.0.0.1:5000/ (Press CTRL+C to quit)\n",
      "[2018-04-21 10:08:19,717] ERROR in app: Exception on / [GET]\n",
      "Traceback (most recent call last):\n",
      "  File \"C:\\Users\\renuka\\Anaconda3\\envs\\pythondata\\lib\\site-packages\\flask\\app.py\", line 1982, in wsgi_app\n",
      "    response = self.full_dispatch_request()\n",
      "  File \"C:\\Users\\renuka\\Anaconda3\\envs\\pythondata\\lib\\site-packages\\flask\\app.py\", line 1614, in full_dispatch_request\n",
      "    rv = self.handle_user_exception(e)\n",
      "  File \"C:\\Users\\renuka\\Anaconda3\\envs\\pythondata\\lib\\site-packages\\flask\\app.py\", line 1517, in handle_user_exception\n",
      "    reraise(exc_type, exc_value, tb)\n",
      "  File \"C:\\Users\\renuka\\Anaconda3\\envs\\pythondata\\lib\\site-packages\\flask\\_compat.py\", line 33, in reraise\n",
      "    raise value\n",
      "  File \"C:\\Users\\renuka\\Anaconda3\\envs\\pythondata\\lib\\site-packages\\flask\\app.py\", line 1612, in full_dispatch_request\n",
      "    rv = self.dispatch_request()\n",
      "  File \"C:\\Users\\renuka\\Anaconda3\\envs\\pythondata\\lib\\site-packages\\flask\\app.py\", line 1598, in dispatch_request\n",
      "    return self.view_functions[rule.endpoint](**req.view_args)\n",
      "  File \"<ipython-input-26-25fe4b12eb0d>\", line 4, in index1\n",
      "    return render_template(\"index.html\", mars_tweet=mars_tweet)\n",
      "  File \"C:\\Users\\renuka\\Anaconda3\\envs\\pythondata\\lib\\site-packages\\flask\\templating.py\", line 133, in render_template\n",
      "    return _render(ctx.app.jinja_env.get_or_select_template(template_name_or_list),\n",
      "  File \"C:\\Users\\renuka\\Anaconda3\\envs\\pythondata\\lib\\site-packages\\jinja2\\environment.py\", line 869, in get_or_select_template\n",
      "    return self.get_template(template_name_or_list, parent, globals)\n",
      "  File \"C:\\Users\\renuka\\Anaconda3\\envs\\pythondata\\lib\\site-packages\\jinja2\\environment.py\", line 830, in get_template\n",
      "    return self._load_template(name, self.make_globals(globals))\n",
      "  File \"C:\\Users\\renuka\\Anaconda3\\envs\\pythondata\\lib\\site-packages\\jinja2\\environment.py\", line 804, in _load_template\n",
      "    template = self.loader.load(self, name, globals)\n",
      "  File \"C:\\Users\\renuka\\Anaconda3\\envs\\pythondata\\lib\\site-packages\\jinja2\\loaders.py\", line 113, in load\n",
      "    source, filename, uptodate = self.get_source(environment, name)\n",
      "  File \"C:\\Users\\renuka\\Anaconda3\\envs\\pythondata\\lib\\site-packages\\flask\\templating.py\", line 57, in get_source\n",
      "    return self._get_source_fast(environment, template)\n",
      "  File \"C:\\Users\\renuka\\Anaconda3\\envs\\pythondata\\lib\\site-packages\\flask\\templating.py\", line 85, in _get_source_fast\n",
      "    raise TemplateNotFound(template)\n",
      "jinja2.exceptions.TemplateNotFound: index.html\n",
      "127.0.0.1 - - [21/Apr/2018 10:08:19] \"GET / HTTP/1.1\" 500 -\n"
     ]
    }
   ],
   "source": [
    "#@app.route(\"/scrape1\")\n",
    "#def scrape4():\n",
    " #   mars_tweet = mongo.db.mars_tweet\n",
    "  #  listings_data = scrape1()\n",
    "   # mars_listings.update(\n",
    "    #    {},\n",
    "     #   listings_data,\n",
    "      #  upsert=True\n",
    "   # )\n",
    "   # return redirect(\"http://localhost:5000/\", code=302)\n",
    "\n",
    "\n",
    "#if __name__ == \"__main__\":\n",
    "  #  app.run(debug=False)"
   ]
  }
 ],
 "metadata": {
  "kernelspec": {
   "display_name": "Python [default]",
   "language": "python",
   "name": "python3"
  },
  "language_info": {
   "codemirror_mode": {
    "name": "ipython",
    "version": 3
   },
   "file_extension": ".py",
   "mimetype": "text/x-python",
   "name": "python",
   "nbconvert_exporter": "python",
   "pygments_lexer": "ipython3",
   "version": "3.6.4"
  }
 },
 "nbformat": 4,
 "nbformat_minor": 2
}
