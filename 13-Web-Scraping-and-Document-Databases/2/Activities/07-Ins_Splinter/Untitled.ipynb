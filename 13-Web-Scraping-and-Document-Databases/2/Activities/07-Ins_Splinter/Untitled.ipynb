{
 "cells": [
  {
   "cell_type": "code",
   "execution_count": 13,
   "metadata": {},
   "outputs": [],
   "source": [
    "# https://splinter.readthedocs.io/en/latest/drivers/chrome.html\n",
    "from splinter import Browser\n",
    "from bs4 import BeautifulSoup\n",
    "from selenium import webdriver\n"
   ]
  },
  {
   "cell_type": "code",
   "execution_count": 14,
   "metadata": {},
   "outputs": [],
   "source": [
    "driver= webdriver.Chrome('C:/Users/renuka/Desktop/chromedriver.exe')"
   ]
  },
  {
   "cell_type": "code",
   "execution_count": 15,
   "metadata": {},
   "outputs": [],
   "source": [
    "#driver.get('https://www.instagram.com/michaeljackson/')\n",
    "driver.get(\"https://www.instagram.com/michaeljackson/\")\n",
    "#response = requests.get()\n",
    "soup = BeautifulSoup(driver.page_source,\"lxml\")\n",
    "driver.quit()"
   ]
  },
  {
   "cell_type": "code",
   "execution_count": 17,
   "metadata": {},
   "outputs": [
    {
     "name": "stdout",
     "output_type": "stream",
     "text": [
      "Name :Michael Jackson\n",
      "Followers :103\n",
      "Following :4\n"
     ]
    }
   ],
   "source": [
    "for item in soup.select('._o6mpc'):\n",
    "    name = item.select('._kc4z2')[0].text\n",
    "    followers= item.select('._fd86t')[0].text\n",
    "    following = item.select('._fd86t')[2].text\n",
    "    print('Name :{}\\nFollowers :{}\\nFollowing :{}'.format(name,followers,following))"
   ]
  },
  {
   "cell_type": "code",
   "execution_count": null,
   "metadata": {},
   "outputs": [],
   "source": []
  }
 ],
 "metadata": {
  "kernelspec": {
   "display_name": "Python [conda env:pythondata]",
   "language": "python",
   "name": "conda-env-pythondata-py"
  },
  "language_info": {
   "codemirror_mode": {
    "name": "ipython",
    "version": 3
   },
   "file_extension": ".py",
   "mimetype": "text/x-python",
   "name": "python",
   "nbconvert_exporter": "python",
   "pygments_lexer": "ipython3",
   "version": "3.6.4"
  }
 },
 "nbformat": 4,
 "nbformat_minor": 2
}
