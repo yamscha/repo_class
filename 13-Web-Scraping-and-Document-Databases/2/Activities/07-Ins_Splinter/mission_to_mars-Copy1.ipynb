{
 "cells": [
  {
   "cell_type": "code",
   "execution_count": 2,
   "metadata": {},
   "outputs": [],
   "source": [
    "from selenium import webdriver\n",
    "from bs4 import BeautifulSoup\n",
    "import requests"
   ]
  },
  {
   "cell_type": "code",
   "execution_count": 4,
   "metadata": {},
   "outputs": [],
   "source": [
    "driver= webdriver.Chrome('C:/Users/renuka/Desktop/chromedriver.exe')"
   ]
  },
  {
   "cell_type": "code",
   "execution_count": 28,
   "metadata": {},
   "outputs": [],
   "source": [
    "url = 'https://twitter.com/marswxreport?lang=en'"
   ]
  },
  {
   "cell_type": "code",
   "execution_count": 33,
   "metadata": {},
   "outputs": [],
   "source": [
    "driver.get('https://twitter.com/marswxreport?lang=en')\n",
    "soup= BeautifulSoup(driver.page_source,'lxml')\n",
    "driver.quit()"
   ]
  },
  {
   "cell_type": "code",
   "execution_count": 41,
   "metadata": {},
   "outputs": [],
   "source": [
    "#for item in soup.select('.js-tweet-text-container'):\n",
    " #   text1 = item.select('.TweetTextSize')[0].text\n",
    "  #  print(text1)"
   ]
  },
  {
   "cell_type": "code",
   "execution_count": null,
   "metadata": {},
   "outputs": [],
   "source": [
    "### Question2: Mars Weather\n",
    "\n",
    "#####***** Visit the Mars Weather twitter account [here](https://twitter.com/marswxreport?lang=en)*************\n",
    "#####***** and scrape the latest Mars weather tweet from the page. \n",
    "#####***** Save the tweet text for the weather report as a variable called `mars_weather`."
   ]
  },
  {
   "cell_type": "code",
   "execution_count": 40,
   "metadata": {},
   "outputs": [
    {
     "data": {
      "text/plain": [
       "'Sol 2024 (April 16, 2018), Sunny, high -7C/19F, low -76C/-104F, pressure at 7.20 hPa, daylight 05:26-17:21'"
      ]
     },
     "execution_count": 40,
     "metadata": {},
     "output_type": "execute_result"
    }
   ],
   "source": [
    "mars_weather = soup.select('.TweetTextSize')[0].text\n",
    "mars_weather"
   ]
  },
  {
   "cell_type": "code",
   "execution_count": null,
   "metadata": {},
   "outputs": [],
   "source": [
    "#########***********end of solution2*********************###################"
   ]
  },
  {
   "cell_type": "code",
   "execution_count": null,
   "metadata": {},
   "outputs": [],
   "source": [
    "### Question 3 Mars Hemisperes\n",
    "\n",
    "#* Visit the USGS Astrogeology site [here](https://astrogeology.usgs.gov/search/results?q=hemisphere+enhanced&k1=target&v1=Mars) \n",
    "#to obtain high resolution images for each of Mar's hemispheres."
   ]
  },
  {
   "cell_type": "code",
   "execution_count": 66,
   "metadata": {},
   "outputs": [],
   "source": [
    "driver= webdriver.Chrome('C:/Users/renuka/Desktop/chromedriver.exe')"
   ]
  },
  {
   "cell_type": "code",
   "execution_count": null,
   "metadata": {},
   "outputs": [],
   "source": []
  },
  {
   "cell_type": "code",
   "execution_count": 67,
   "metadata": {},
   "outputs": [],
   "source": [
    "driver.get('https://astrogeology.usgs.gov/search/results?q=hemisphere+enhanced&k1=target&v1=Mars')\n",
    "soup1= BeautifulSoup(driver.page_source,'lxml')\n",
    "driver.quit()"
   ]
  },
  {
   "cell_type": "code",
   "execution_count": 146,
   "metadata": {},
   "outputs": [],
   "source": [
    "name_list=[]\n",
    "for item in soup1.select('.description'):\n",
    "    name = item.select('h3')[0].text\n",
    "    name_list.append(name)\n",
    "    #print(name_list)\n",
    "    "
   ]
  },
  {
   "cell_type": "code",
   "execution_count": 74,
   "metadata": {},
   "outputs": [],
   "source": [
    "one = soup1.find_all('div',class_='description')\n",
    "#one"
   ]
  },
  {
   "cell_type": "code",
   "execution_count": 85,
   "metadata": {},
   "outputs": [
    {
     "name": "stdout",
     "output_type": "stream",
     "text": [
      "[<a class=\"itemLink product-item\" href=\"/search/map/Mars/Viking/cerberus_enhanced\"><h3>Cerberus Hemisphere Enhanced</h3></a>]\n",
      "[<a class=\"itemLink product-item\" href=\"/search/map/Mars/Viking/schiaparelli_enhanced\"><h3>Schiaparelli Hemisphere Enhanced</h3></a>]\n",
      "[<a class=\"itemLink product-item\" href=\"/search/map/Mars/Viking/syrtis_major_enhanced\"><h3>Syrtis Major Hemisphere Enhanced</h3></a>]\n",
      "[<a class=\"itemLink product-item\" href=\"/search/map/Mars/Viking/valles_marineris_enhanced\"><h3>Valles Marineris Hemisphere Enhanced</h3></a>]\n"
     ]
    }
   ],
   "source": [
    "for item in soup1.select('.description'):\n",
    "    link_list = item.select('.itemLink')\n",
    "    #name_list.append(name)\n",
    "    print(link_list)\n",
    "    "
   ]
  },
  {
   "cell_type": "code",
   "execution_count": null,
   "metadata": {},
   "outputs": [],
   "source": []
  },
  {
   "cell_type": "code",
   "execution_count": 144,
   "metadata": {},
   "outputs": [],
   "source": [
    "image_url =[]\n",
    "for item in soup1.select('.description'):\n",
    "    #print(item.attrs['href'])\n",
    "    two_all = item.select('.itemLink')\n",
    "    for i in two_all:\n",
    "        image = i.attrs['href']\n",
    "        image_url.append(image)\n",
    "    \n",
    "   "
   ]
  },
  {
   "cell_type": "code",
   "execution_count": 145,
   "metadata": {},
   "outputs": [
    {
     "data": {
      "text/plain": [
       "['/search/map/Mars/Viking/cerberus_enhanced',\n",
       " '/search/map/Mars/Viking/schiaparelli_enhanced',\n",
       " '/search/map/Mars/Viking/syrtis_major_enhanced',\n",
       " '/search/map/Mars/Viking/valles_marineris_enhanced']"
      ]
     },
     "execution_count": 145,
     "metadata": {},
     "output_type": "execute_result"
    }
   ],
   "source": [
    "image_url"
   ]
  },
  {
   "cell_type": "code",
   "execution_count": 147,
   "metadata": {},
   "outputs": [
    {
     "data": {
      "text/plain": [
       "{'Ttile': ['Cerberus Hemisphere Enhanced',\n",
       "  'Schiaparelli Hemisphere Enhanced',\n",
       "  'Syrtis Major Hemisphere Enhanced',\n",
       "  'Valles Marineris Hemisphere Enhanced'],\n",
       " 'url': ['/search/map/Mars/Viking/cerberus_enhanced',\n",
       "  '/search/map/Mars/Viking/schiaparelli_enhanced',\n",
       "  '/search/map/Mars/Viking/syrtis_major_enhanced',\n",
       "  '/search/map/Mars/Viking/valles_marineris_enhanced']}"
      ]
     },
     "execution_count": 147,
     "metadata": {},
     "output_type": "execute_result"
    }
   ],
   "source": [
    "list_to_dict ={\"Ttile\":name_list,\n",
    "               \"url\":image_url,\n",
    "               }\n",
    "list_to_dict"
   ]
  },
  {
   "cell_type": "code",
   "execution_count": 148,
   "metadata": {},
   "outputs": [
    {
     "data": {
      "text/html": [
       "<div>\n",
       "<style scoped>\n",
       "    .dataframe tbody tr th:only-of-type {\n",
       "        vertical-align: middle;\n",
       "    }\n",
       "\n",
       "    .dataframe tbody tr th {\n",
       "        vertical-align: top;\n",
       "    }\n",
       "\n",
       "    .dataframe thead th {\n",
       "        text-align: right;\n",
       "    }\n",
       "</style>\n",
       "<table border=\"1\" class=\"dataframe\">\n",
       "  <thead>\n",
       "    <tr style=\"text-align: right;\">\n",
       "      <th></th>\n",
       "      <th>Ttile</th>\n",
       "      <th>url</th>\n",
       "    </tr>\n",
       "  </thead>\n",
       "  <tbody>\n",
       "    <tr>\n",
       "      <th>0</th>\n",
       "      <td>Cerberus Hemisphere Enhanced</td>\n",
       "      <td>/search/map/Mars/Viking/cerberus_enhanced</td>\n",
       "    </tr>\n",
       "    <tr>\n",
       "      <th>1</th>\n",
       "      <td>Schiaparelli Hemisphere Enhanced</td>\n",
       "      <td>/search/map/Mars/Viking/schiaparelli_enhanced</td>\n",
       "    </tr>\n",
       "    <tr>\n",
       "      <th>2</th>\n",
       "      <td>Syrtis Major Hemisphere Enhanced</td>\n",
       "      <td>/search/map/Mars/Viking/syrtis_major_enhanced</td>\n",
       "    </tr>\n",
       "    <tr>\n",
       "      <th>3</th>\n",
       "      <td>Valles Marineris Hemisphere Enhanced</td>\n",
       "      <td>/search/map/Mars/Viking/valles_marineris_enhanced</td>\n",
       "    </tr>\n",
       "  </tbody>\n",
       "</table>\n",
       "</div>"
      ],
      "text/plain": [
       "                                  Ttile  \\\n",
       "0          Cerberus Hemisphere Enhanced   \n",
       "1      Schiaparelli Hemisphere Enhanced   \n",
       "2      Syrtis Major Hemisphere Enhanced   \n",
       "3  Valles Marineris Hemisphere Enhanced   \n",
       "\n",
       "                                                 url  \n",
       "0          /search/map/Mars/Viking/cerberus_enhanced  \n",
       "1      /search/map/Mars/Viking/schiaparelli_enhanced  \n",
       "2      /search/map/Mars/Viking/syrtis_major_enhanced  \n",
       "3  /search/map/Mars/Viking/valles_marineris_enhanced  "
      ]
     },
     "execution_count": 148,
     "metadata": {},
     "output_type": "execute_result"
    }
   ],
   "source": [
    "url_title = pd.DataFrame(list_to_dict)\n",
    "url_title"
   ]
  },
  {
   "cell_type": "code",
   "execution_count": null,
   "metadata": {},
   "outputs": [],
   "source": [
    "#if item.has_attr('href'):"
   ]
  },
  {
   "cell_type": "code",
   "execution_count": 73,
   "metadata": {},
   "outputs": [
    {
     "name": "stdout",
     "output_type": "stream",
     "text": [
      "/cache/images/dfaf3849e74bf973b59eb50dab52b583_cerberus_enhanced.tif_thumb.png\n",
      "/cache/images/7677c0a006b83871b5a2f66985ab5857_schiaparelli_enhanced.tif_thumb.png\n",
      "/cache/images/aae41197e40d6d4f3ea557f8cfe51d15_syrtis_major_enhanced.tif_thumb.png\n",
      "/cache/images/04085d99ec3713883a9a57f42be9c725_valles_marineris_enhanced.tif_thumb.png\n"
     ]
    }
   ],
   "source": [
    "for item in soup.select('.thumb'):\n",
    "    if item.has_attr('src'):\n",
    "        print (item.attrs['src'])"
   ]
  },
  {
   "cell_type": "code",
   "execution_count": 68,
   "metadata": {},
   "outputs": [
    {
     "name": "stdout",
     "output_type": "stream",
     "text": [
      "<img alt=\"Cerberus Hemisphere Enhanced thumbnail\" class=\"thumb\" src=\"/cache/images/dfaf3849e74bf973b59eb50dab52b583_cerberus_enhanced.tif_thumb.png\"/>\n",
      "<img alt=\"Schiaparelli Hemisphere Enhanced thumbnail\" class=\"thumb\" src=\"/cache/images/7677c0a006b83871b5a2f66985ab5857_schiaparelli_enhanced.tif_thumb.png\"/>\n",
      "<img alt=\"Syrtis Major Hemisphere Enhanced thumbnail\" class=\"thumb\" src=\"/cache/images/aae41197e40d6d4f3ea557f8cfe51d15_syrtis_major_enhanced.tif_thumb.png\"/>\n",
      "<img alt=\"Valles Marineris Hemisphere Enhanced thumbnail\" class=\"thumb\" src=\"/cache/images/04085d99ec3713883a9a57f42be9c725_valles_marineris_enhanced.tif_thumb.png\"/>\n"
     ]
    }
   ],
   "source": [
    "for item in soup.select('.item'):\n",
    "    image = item.select('.thumb')[0]\n",
    "    print(image)"
   ]
  },
  {
   "cell_type": "code",
   "execution_count": null,
   "metadata": {},
   "outputs": [],
   "source": [
    "### NASA Mars News\n",
    "\n",
    "#######* Scrape the [NASA Mars News Site](https://mars.nasa.gov/news/) \n",
    "######## and collect the latest News Title and Paragragh Text. Assign the text to variables that you can reference later.\n"
   ]
  },
  {
   "cell_type": "code",
   "execution_count": 3,
   "metadata": {},
   "outputs": [],
   "source": [
    "url ='https://mars.nasa.gov/news/'"
   ]
  },
  {
   "cell_type": "code",
   "execution_count": 5,
   "metadata": {},
   "outputs": [],
   "source": [
    "driver.get('https://mars.nasa.gov/news/')\n",
    "#response = requests.get()\n",
    "soup = BeautifulSoup(driver.page_source,\"lxml\")\n",
    "driver.quit()\n"
   ]
  },
  {
   "cell_type": "code",
   "execution_count": 23,
   "metadata": {},
   "outputs": [],
   "source": [
    "title_list =[]\n",
    "for item in soup.select('.list_text'):\n",
    "    title = item.select('.content_title')[0].text\n",
    "    title_list.append(title)\n",
    "    #print(title)"
   ]
  },
  {
   "cell_type": "code",
   "execution_count": 22,
   "metadata": {},
   "outputs": [],
   "source": [
    "para_list =[]\n",
    "for item in soup.select('.list_text'):\n",
    "    para = item.select('.article_teaser_body')[0].text\n",
    "    para_list.append(para)\n",
    "    #print(para)"
   ]
  },
  {
   "cell_type": "code",
   "execution_count": null,
   "metadata": {},
   "outputs": [],
   "source": [
    "list_to_dict = {'Title':title_list,\n",
    "                'Paragraph':para_list}"
   ]
  },
  {
   "cell_type": "code",
   "execution_count": null,
   "metadata": {},
   "outputs": [],
   "source": [
    "#list_to_dict"
   ]
  },
  {
   "cell_type": "code",
   "execution_count": 33,
   "metadata": {},
   "outputs": [],
   "source": [
    "#title = soup.select('.content_title')[0].text\n",
    "#title\n",
    "#para = soup.select('.article_teaser_body')[0].text\n",
    "#para\n",
    "#print(soup.prettify())"
   ]
  },
  {
   "cell_type": "code",
   "execution_count": 35,
   "metadata": {},
   "outputs": [],
   "source": [
    "import pandas as pd"
   ]
  },
  {
   "cell_type": "code",
   "execution_count": 36,
   "metadata": {},
   "outputs": [
    {
     "data": {
      "text/html": [
       "<div>\n",
       "<style scoped>\n",
       "    .dataframe tbody tr th:only-of-type {\n",
       "        vertical-align: middle;\n",
       "    }\n",
       "\n",
       "    .dataframe tbody tr th {\n",
       "        vertical-align: top;\n",
       "    }\n",
       "\n",
       "    .dataframe thead th {\n",
       "        text-align: right;\n",
       "    }\n",
       "</style>\n",
       "<table border=\"1\" class=\"dataframe\">\n",
       "  <thead>\n",
       "    <tr style=\"text-align: right;\">\n",
       "      <th></th>\n",
       "      <th>Paragraph</th>\n",
       "      <th>Title</th>\n",
       "    </tr>\n",
       "  </thead>\n",
       "  <tbody>\n",
       "    <tr>\n",
       "      <th>0</th>\n",
       "      <td>The first CubeSat mission to deep space will l...</td>\n",
       "      <td>NASA Engineers Dream Big with Small Spacecraft</td>\n",
       "    </tr>\n",
       "    <tr>\n",
       "      <th>1</th>\n",
       "      <td>On May 5, millions of Californians may witness...</td>\n",
       "      <td>Bound for Mars: Countdown to First Interplanet...</td>\n",
       "    </tr>\n",
       "    <tr>\n",
       "      <th>2</th>\n",
       "      <td>NASA is investing in technology concepts, incl...</td>\n",
       "      <td>NASA Invests in Visionary Technology</td>\n",
       "    </tr>\n",
       "    <tr>\n",
       "      <th>3</th>\n",
       "      <td>NASA is about to go on a journey to study the ...</td>\n",
       "      <td>NASA is Ready to Study the Heart of Mars</td>\n",
       "    </tr>\n",
       "    <tr>\n",
       "      <th>4</th>\n",
       "      <td>InSight, the next mission to the Red Planet, w...</td>\n",
       "      <td>‘Marsquakes’ Could Shake Up Planetary Science</td>\n",
       "    </tr>\n",
       "  </tbody>\n",
       "</table>\n",
       "</div>"
      ],
      "text/plain": [
       "                                           Paragraph  \\\n",
       "0  The first CubeSat mission to deep space will l...   \n",
       "1  On May 5, millions of Californians may witness...   \n",
       "2  NASA is investing in technology concepts, incl...   \n",
       "3  NASA is about to go on a journey to study the ...   \n",
       "4  InSight, the next mission to the Red Planet, w...   \n",
       "\n",
       "                                               Title  \n",
       "0     NASA Engineers Dream Big with Small Spacecraft  \n",
       "1  Bound for Mars: Countdown to First Interplanet...  \n",
       "2              NASA Invests in Visionary Technology   \n",
       "3           NASA is Ready to Study the Heart of Mars  \n",
       "4      ‘Marsquakes’ Could Shake Up Planetary Science  "
      ]
     },
     "execution_count": 36,
     "metadata": {},
     "output_type": "execute_result"
    }
   ],
   "source": [
    "para_data = pd.DataFrame(list_to_dict)\n",
    "para_data.head()"
   ]
  },
  {
   "cell_type": "code",
   "execution_count": 25,
   "metadata": {},
   "outputs": [],
   "source": [
    "#######************* End of solution1 *******###########"
   ]
  },
  {
   "cell_type": "code",
   "execution_count": 27,
   "metadata": {},
   "outputs": [],
   "source": []
  },
  {
   "cell_type": "code",
   "execution_count": 30,
   "metadata": {},
   "outputs": [],
   "source": []
  },
  {
   "cell_type": "code",
   "execution_count": null,
   "metadata": {},
   "outputs": [],
   "source": []
  }
 ],
 "metadata": {
  "kernelspec": {
   "display_name": "Python [conda env:pythondata]",
   "language": "python",
   "name": "conda-env-pythondata-py"
  },
  "language_info": {
   "codemirror_mode": {
    "name": "ipython",
    "version": 3
   },
   "file_extension": ".py",
   "mimetype": "text/x-python",
   "name": "python",
   "nbconvert_exporter": "python",
   "pygments_lexer": "ipython3",
   "version": "3.6.4"
  }
 },
 "nbformat": 4,
 "nbformat_minor": 2
}
