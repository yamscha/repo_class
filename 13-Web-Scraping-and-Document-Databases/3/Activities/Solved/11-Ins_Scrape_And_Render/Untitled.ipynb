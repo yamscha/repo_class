{
 "cells": [
  {
   "cell_type": "code",
   "execution_count": 19,
   "metadata": {},
   "outputs": [],
   "source": [
    "import time\n",
    "from splinter import Browser\n",
    "from bs4 import BeautifulSoup\n",
    "import pandas as pd\n",
    "from selenium import webdriver"
   ]
  },
  {
   "cell_type": "code",
   "execution_count": 20,
   "metadata": {},
   "outputs": [],
   "source": [
    "def init_browser():\n",
    "    # @NOTE: Replace the path with your actual path to the chromedriver\n",
    "    executable_path = {\"executable_path\": 'C:/Users/renuka/Desktop/chromedriver.exe'}\n",
    "    return Browser(\"chrome\", **executable_path, headless=False)\n"
   ]
  },
  {
   "cell_type": "code",
   "execution_count": 21,
   "metadata": {},
   "outputs": [],
   "source": [
    "def scrape():\n",
    "    browser = init_browser()\n",
    "    listings = {}\n",
    "\n",
    "    #url = \"https://raleigh.craigslist.org/search/hhh?max_price=1500&availabilityMode=0\"\n",
    "    url= \"https://twitter.com/marswxreport?lang=en\"\n",
    "    browser.visit(url)\n",
    "    time.sleep(1)\n",
    "\n",
    "    html = browser.html\n",
    "    soup = BeautifulSoup(html, \"html.parser\")\n",
    "    \n",
    "    listings[\"tweet\"]= soup.find('p',class_='TweetTextSize').get_text()\n",
    "    \n",
    "    #listings[\"headline\"] = soup.find(\"a\", class_=\"result-title\").get_text()\n",
    "    #listings[\"price\"] = soup.find(\"span\", class_=\"result-price\").get_text()\n",
    "    #listings[\"hood\"] = soup.find(\"span\", class_=\"result-hood\").get_text()\n",
    "\n",
    "    return listings"
   ]
  },
  {
   "cell_type": "code",
   "execution_count": 22,
   "metadata": {},
   "outputs": [
    {
     "data": {
      "text/plain": [
       "{'tweet': 'Sol 2026 (April 18, 2018), Sunny, high -6C/21F, low -73C/-99F, pressure at 7.19 hPa, daylight 05:26-17:21'}"
      ]
     },
     "execution_count": 22,
     "metadata": {},
     "output_type": "execute_result"
    }
   ],
   "source": [
    "scrape()"
   ]
  },
  {
   "cell_type": "code",
   "execution_count": null,
   "metadata": {},
   "outputs": [],
   "source": [
    "                             ######app.py##############"
   ]
  },
  {
   "cell_type": "code",
   "execution_count": 14,
   "metadata": {},
   "outputs": [],
   "source": [
    "from flask import Flask, render_template, jsonify, redirect\n",
    "from flask_pymongo import PyMongo\n",
    "#import scrape_craigslist"
   ]
  },
  {
   "cell_type": "code",
   "execution_count": 15,
   "metadata": {},
   "outputs": [],
   "source": [
    "app = Flask(__name__)\n",
    "\n",
    "mongo = PyMongo(app)\n"
   ]
  },
  {
   "cell_type": "code",
   "execution_count": 16,
   "metadata": {},
   "outputs": [],
   "source": [
    "@app.route(\"/\")\n",
    "def index1():\n",
    "    listings = mongo.db.listings.find_one()\n",
    "    #return render_template(\"index.html\", listings=listings)\n",
    "    return listings"
   ]
  },
  {
   "cell_type": "code",
   "execution_count": 17,
   "metadata": {},
   "outputs": [
    {
     "name": "stderr",
     "output_type": "stream",
     "text": [
      " * Running on http://127.0.0.1:5000/ (Press CTRL+C to quit)\n",
      "127.0.0.1 - - [21/Apr/2018 12:27:38] \"GET / HTTP/1.1\" 200 -\n",
      "C:\\Users\\renuka\\Anaconda3\\envs\\pythondata\\lib\\site-packages\\ipykernel\\__main__.py:9: DeprecationWarning: update is deprecated. Use replace_one, update_one or update_many instead.\n",
      "127.0.0.1 - - [21/Apr/2018 12:28:24] \"GET /scrape HTTP/1.1\" 302 -\n",
      "127.0.0.1 - - [21/Apr/2018 12:28:24] \"GET / HTTP/1.1\" 200 -\n",
      "127.0.0.1 - - [21/Apr/2018 12:28:48] \"GET /scrape HTTP/1.1\" 302 -\n",
      "127.0.0.1 - - [21/Apr/2018 12:28:48] \"GET / HTTP/1.1\" 200 -\n"
     ]
    }
   ],
   "source": [
    "@app.route(\"/scrape\")\n",
    "def scrape1():\n",
    "    listings = mongo.db.listings.find_all()\n",
    "    #listings_data = scrape_craigslist.scrape()\n",
    "    listings_data = scrape()\n",
    "    listings.update(\n",
    "        {},\n",
    "        listings_data,\n",
    "        upsert=True\n",
    "    )\n",
    "    return redirect(\"http://localhost:5000/\", code=302)\n",
    "\n",
    "\n",
    "if __name__ == \"__main__\":\n",
    "    app.run(debug=False)"
   ]
  },
  {
   "cell_type": "code",
   "execution_count": null,
   "metadata": {},
   "outputs": [],
   "source": []
  }
 ],
 "metadata": {
  "kernelspec": {
   "display_name": "Python [conda env:pythondata]",
   "language": "python",
   "name": "conda-env-pythondata-py"
  },
  "language_info": {
   "codemirror_mode": {
    "name": "ipython",
    "version": 3
   },
   "file_extension": ".py",
   "mimetype": "text/x-python",
   "name": "python",
   "nbconvert_exporter": "python",
   "pygments_lexer": "ipython3",
   "version": "3.6.4"
  }
 },
 "nbformat": 4,
 "nbformat_minor": 2
}
