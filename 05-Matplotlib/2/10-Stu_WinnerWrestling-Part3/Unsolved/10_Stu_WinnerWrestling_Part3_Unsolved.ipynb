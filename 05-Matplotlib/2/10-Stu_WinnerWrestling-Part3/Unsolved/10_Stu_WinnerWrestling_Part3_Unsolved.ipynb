{
 "cells": [
  {
   "cell_type": "markdown",
   "metadata": {},
   "source": [
    "### Part 3 - Charting Careers\n",
    "\n",
    "* Create a variable and an input that asks the user what wrestler they would like to look for. \n",
    "\n",
    "* Store an individual wrestler's wins over time in a variable\n",
    "\n",
    "* Store that same wrestler's losses over time in a variable as well\n",
    "\n",
    "* Create a line chart that will plot this wrestler's wins and losses from 2013 to 2016"
   ]
  },
  {
   "cell_type": "code",
   "execution_count": 8,
   "metadata": {
    "collapsed": true
   },
   "outputs": [],
   "source": [
    "import matplotlib.pyplot as plt\n",
    "import pandas as pd\n",
    "import numpy as np\n",
    "import os"
   ]
  },
  {
   "cell_type": "code",
   "execution_count": 10,
   "metadata": {},
   "outputs": [
    {
     "data": {
      "text/html": [
       "<div>\n",
       "<style>\n",
       "    .dataframe thead tr:only-child th {\n",
       "        text-align: right;\n",
       "    }\n",
       "\n",
       "    .dataframe thead th {\n",
       "        text-align: left;\n",
       "    }\n",
       "\n",
       "    .dataframe tbody tr th {\n",
       "        vertical-align: top;\n",
       "    }\n",
       "</style>\n",
       "<table border=\"1\" class=\"dataframe\">\n",
       "  <thead>\n",
       "    <tr style=\"text-align: right;\">\n",
       "      <th></th>\n",
       "      <th>2013 Wins</th>\n",
       "      <th>2013 Losses</th>\n",
       "      <th>2013 Draws</th>\n",
       "      <th>2014 Wins</th>\n",
       "      <th>2014 Losses</th>\n",
       "      <th>2014 Draws</th>\n",
       "      <th>2015 Wins</th>\n",
       "      <th>2015 Losses</th>\n",
       "      <th>2015 Draws</th>\n",
       "      <th>2016 Wins</th>\n",
       "      <th>2016 Losses</th>\n",
       "      <th>2016 Draws</th>\n",
       "      <th>Total Wins</th>\n",
       "      <th>Total Losses</th>\n",
       "      <th>Total Draws</th>\n",
       "      <th>Total Matches</th>\n",
       "    </tr>\n",
       "    <tr>\n",
       "      <th>Wrestler</th>\n",
       "      <th></th>\n",
       "      <th></th>\n",
       "      <th></th>\n",
       "      <th></th>\n",
       "      <th></th>\n",
       "      <th></th>\n",
       "      <th></th>\n",
       "      <th></th>\n",
       "      <th></th>\n",
       "      <th></th>\n",
       "      <th></th>\n",
       "      <th></th>\n",
       "      <th></th>\n",
       "      <th></th>\n",
       "      <th></th>\n",
       "      <th></th>\n",
       "    </tr>\n",
       "  </thead>\n",
       "  <tbody>\n",
       "    <tr>\n",
       "      <th>Dean Ambrose</th>\n",
       "      <td>70.0</td>\n",
       "      <td>134.0</td>\n",
       "      <td>4.0</td>\n",
       "      <td>129.0</td>\n",
       "      <td>36.0</td>\n",
       "      <td>2.0</td>\n",
       "      <td>150.0</td>\n",
       "      <td>63.0</td>\n",
       "      <td>5.0</td>\n",
       "      <td>133.0</td>\n",
       "      <td>67.0</td>\n",
       "      <td>4.0</td>\n",
       "      <td>482.0</td>\n",
       "      <td>300.0</td>\n",
       "      <td>15.0</td>\n",
       "      <td>797.0</td>\n",
       "    </tr>\n",
       "    <tr>\n",
       "      <th>Seth Rollins</th>\n",
       "      <td>50.0</td>\n",
       "      <td>150.0</td>\n",
       "      <td>4.0</td>\n",
       "      <td>87.0</td>\n",
       "      <td>105.0</td>\n",
       "      <td>4.0</td>\n",
       "      <td>51.0</td>\n",
       "      <td>124.0</td>\n",
       "      <td>1.0</td>\n",
       "      <td>39.0</td>\n",
       "      <td>75.0</td>\n",
       "      <td>4.0</td>\n",
       "      <td>227.0</td>\n",
       "      <td>454.0</td>\n",
       "      <td>13.0</td>\n",
       "      <td>694.0</td>\n",
       "    </tr>\n",
       "    <tr>\n",
       "      <th>Randy Orton</th>\n",
       "      <td>129.0</td>\n",
       "      <td>63.0</td>\n",
       "      <td>8.0</td>\n",
       "      <td>33.0</td>\n",
       "      <td>87.0</td>\n",
       "      <td>5.0</td>\n",
       "      <td>81.0</td>\n",
       "      <td>10.0</td>\n",
       "      <td>1.0</td>\n",
       "      <td>39.0</td>\n",
       "      <td>21.0</td>\n",
       "      <td>0.0</td>\n",
       "      <td>282.0</td>\n",
       "      <td>181.0</td>\n",
       "      <td>14.0</td>\n",
       "      <td>477.0</td>\n",
       "    </tr>\n",
       "    <tr>\n",
       "      <th>Roman Reigns</th>\n",
       "      <td>49.0</td>\n",
       "      <td>140.0</td>\n",
       "      <td>5.0</td>\n",
       "      <td>118.0</td>\n",
       "      <td>28.0</td>\n",
       "      <td>4.0</td>\n",
       "      <td>187.0</td>\n",
       "      <td>19.0</td>\n",
       "      <td>7.0</td>\n",
       "      <td>142.0</td>\n",
       "      <td>12.0</td>\n",
       "      <td>5.0</td>\n",
       "      <td>496.0</td>\n",
       "      <td>199.0</td>\n",
       "      <td>21.0</td>\n",
       "      <td>716.0</td>\n",
       "    </tr>\n",
       "    <tr>\n",
       "      <th>Ryback</th>\n",
       "      <td>103.0</td>\n",
       "      <td>88.0</td>\n",
       "      <td>3.0</td>\n",
       "      <td>43.0</td>\n",
       "      <td>114.0</td>\n",
       "      <td>1.0</td>\n",
       "      <td>138.0</td>\n",
       "      <td>34.0</td>\n",
       "      <td>2.0</td>\n",
       "      <td>37.0</td>\n",
       "      <td>17.0</td>\n",
       "      <td>1.0</td>\n",
       "      <td>321.0</td>\n",
       "      <td>253.0</td>\n",
       "      <td>7.0</td>\n",
       "      <td>581.0</td>\n",
       "    </tr>\n",
       "  </tbody>\n",
       "</table>\n",
       "</div>"
      ],
      "text/plain": [
       "              2013 Wins  2013 Losses  2013 Draws  2014 Wins  2014 Losses  \\\n",
       "Wrestler                                                                   \n",
       "Dean Ambrose       70.0        134.0         4.0      129.0         36.0   \n",
       "Seth Rollins       50.0        150.0         4.0       87.0        105.0   \n",
       "Randy Orton       129.0         63.0         8.0       33.0         87.0   \n",
       "Roman Reigns       49.0        140.0         5.0      118.0         28.0   \n",
       "Ryback            103.0         88.0         3.0       43.0        114.0   \n",
       "\n",
       "              2014 Draws  2015 Wins  2015 Losses  2015 Draws  2016 Wins  \\\n",
       "Wrestler                                                                  \n",
       "Dean Ambrose         2.0      150.0         63.0         5.0      133.0   \n",
       "Seth Rollins         4.0       51.0        124.0         1.0       39.0   \n",
       "Randy Orton          5.0       81.0         10.0         1.0       39.0   \n",
       "Roman Reigns         4.0      187.0         19.0         7.0      142.0   \n",
       "Ryback               1.0      138.0         34.0         2.0       37.0   \n",
       "\n",
       "              2016 Losses  2016 Draws  Total Wins  Total Losses  Total Draws  \\\n",
       "Wrestler                                                                       \n",
       "Dean Ambrose         67.0         4.0       482.0         300.0         15.0   \n",
       "Seth Rollins         75.0         4.0       227.0         454.0         13.0   \n",
       "Randy Orton          21.0         0.0       282.0         181.0         14.0   \n",
       "Roman Reigns         12.0         5.0       496.0         199.0         21.0   \n",
       "Ryback               17.0         1.0       321.0         253.0          7.0   \n",
       "\n",
       "              Total Matches  \n",
       "Wrestler                     \n",
       "Dean Ambrose          797.0  \n",
       "Seth Rollins          694.0  \n",
       "Randy Orton           477.0  \n",
       "Roman Reigns          716.0  \n",
       "Ryback                581.0  "
      ]
     },
     "execution_count": 10,
     "metadata": {},
     "output_type": "execute_result"
    }
   ],
   "source": [
    "# Take in all of our wrestling data and read it into pandas\n",
    "csvpath = os.path.join('..','Data', 'WWE-Total.csv')\n",
    "wrestlers_df = pd.read_csv(csvpath, index_col='Wrestler')\n",
    "wrestlers_df.head()"
   ]
  },
  {
   "cell_type": "code",
   "execution_count": 11,
   "metadata": {},
   "outputs": [
    {
     "name": "stdout",
     "output_type": "stream",
     "text": [
      "What wrestler's career would you like to look at?Dean Ambrose\n"
     ]
    }
   ],
   "source": [
    "# Collect the user's input to search through our data frame\n"
   ]
  },
  {
   "cell_type": "code",
   "execution_count": 12,
   "metadata": {
    "collapsed": true
   },
   "outputs": [],
   "source": [
    "# Create a series that looks for a wrestler by name and \n",
    "# then traces their wins from 2013 to 2016\n",
    "\n",
    "# Create a series that looks for a wrestler by name and\n",
    "# then traces their losses from 2013 to 2016\n"
   ]
  },
  {
   "cell_type": "code",
   "execution_count": 13,
   "metadata": {},
   "outputs": [
    {
     "data": {
      "image/png": "[encoded data removed]",
      "text/plain": [
       "<matplotlib.figure.Figure at 0x115f8f2e8>"
      ]
     },
     "metadata": {},
     "output_type": "display_data"
    }
   ],
   "source": [
    "# Create a list of the years that we will use as our x values\n",
    "\n",
    "# Plot our line that will be used to track a wrestler's wins \n",
    "# over the years\n",
    "\n",
    "# Plot our line that will be used to track a wrestler's losses\n",
    "# over the years\n",
    "\n",
    "# Place a legend on the chart in what matplotlib believes\n",
    "# to be the \"best\" location\n",
    "\n",
    "# Add labels and a title\n",
    "\n",
    "# Print our chart to the screen\n"
   ]
  },
  {
   "cell_type": "code",
   "execution_count": null,
   "metadata": {
    "collapsed": true
   },
   "outputs": [],
   "source": []
  }
 ],
 "metadata": {
  "kernelspec": {
   "display_name": "Python [conda env:PythonData]",
   "language": "python",
   "name": "conda-env-PythonData-py"
  },
  "language_info": {
   "codemirror_mode": {
    "name": "ipython",
    "version": 3
   },
   "file_extension": ".py",
   "mimetype": "text/x-python",
   "name": "python",
   "nbconvert_exporter": "python",
   "pygments_lexer": "ipython3",
   "version": "3.6.2"
  }
 },
 "nbformat": 4,
 "nbformat_minor": 2
}
