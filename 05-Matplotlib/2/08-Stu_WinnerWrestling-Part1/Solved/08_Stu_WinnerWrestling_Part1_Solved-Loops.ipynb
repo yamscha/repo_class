{
 "cells": [
  {
   "cell_type": "markdown",
   "metadata": {},
   "source": [
    "# Winnining Wrestlers Entertainment\n",
    "\n",
    "In this activity you will be taking four seperate csvs that were scraped down from a wrestling database, merging them together, and then creating charts to visualize a wrestler's wins and losses over the course of four years.\n",
    "\n",
    "### Part 1 - Macho Merging\n",
    "\n",
    "* You will likely need to perform three different merges over the course of this activity, changing the names of your columns as you go along."
   ]
  },
  {
   "cell_type": "code",
   "execution_count": 2,
   "metadata": {},
   "outputs": [],
   "source": []
  },
  {
   "cell_type": "code",
   "execution_count": 17,
   "metadata": {},
   "outputs": [],
   "source": [
    "import matplotlib.pyplot as plt\n",
    "import pandas as pd\n",
    "import numpy as np\n",
    "import os\n",
    "\n",
    "wrestlers_df = pd.DataFrame()\n",
    "for year in range(2013,2017):\n",
    "    file_path = os.path.join('..','Data','WWE-Data-{}.csv'.format(year))\n",
    "    w_df = pd.read_csv(file_path)\n",
    "\n",
    "    w_df.rename(columns={\n",
    "        \"Wins\":\"{} Wins\".format(year),\n",
    "        \"Losses\":\"{} Losses\".format(year),\n",
    "        \"Draws\":\"{} Draws\".format(year)},\n",
    "       inplace=True)\n",
    "    if len(wrestlers_df) > 0:\n",
    "        wrestlers_df = pd.merge(w_prev_df,w_df,how='outer', on='Wrestler')\n",
    "    else:\n",
    "        wrestlers_df = w_df\n",
    "\n",
    "output = os.path.join('..', '..', '09-Stu_WinnerWrestling-Part2','Data', 'WWE-Data-loops.csv')\n",
    "wrestlers_df.to_csv(output, index=False, header=True)"
   ]
  },
  {
   "cell_type": "code",
   "execution_count": 18,
   "metadata": {},
   "outputs": [
    {
     "data": {
      "text/html": [
       "<div>\n",
       "<style>\n",
       "    .dataframe thead tr:only-child th {\n",
       "        text-align: right;\n",
       "    }\n",
       "\n",
       "    .dataframe thead th {\n",
       "        text-align: left;\n",
       "    }\n",
       "\n",
       "    .dataframe tbody tr th {\n",
       "        vertical-align: top;\n",
       "    }\n",
       "</style>\n",
       "<table border=\"1\" class=\"dataframe\">\n",
       "  <thead>\n",
       "    <tr style=\"text-align: right;\">\n",
       "      <th></th>\n",
       "      <th>Wrestler</th>\n",
       "      <th>2013 Wins</th>\n",
       "      <th>2013 Losses</th>\n",
       "      <th>2013 Draws</th>\n",
       "      <th>2014 Wins</th>\n",
       "      <th>2014 Losses</th>\n",
       "      <th>2014 Draws</th>\n",
       "      <th>2015 Wins</th>\n",
       "      <th>2015 Losses</th>\n",
       "      <th>2015 Draws</th>\n",
       "      <th>2016 Wins</th>\n",
       "      <th>2016 Losses</th>\n",
       "      <th>2016 Draws</th>\n",
       "    </tr>\n",
       "  </thead>\n",
       "  <tbody>\n",
       "    <tr>\n",
       "      <th>0</th>\n",
       "      <td>Daniel Bryan</td>\n",
       "      <td>177.0</td>\n",
       "      <td>37.0</td>\n",
       "      <td>6.0</td>\n",
       "      <td>35.0</td>\n",
       "      <td>16.0</td>\n",
       "      <td>2.0</td>\n",
       "      <td>51.0</td>\n",
       "      <td>7.0</td>\n",
       "      <td>0.0</td>\n",
       "      <td>NaN</td>\n",
       "      <td>NaN</td>\n",
       "      <td>NaN</td>\n",
       "    </tr>\n",
       "  </tbody>\n",
       "</table>\n",
       "</div>"
      ],
      "text/plain": [
       "       Wrestler  2013 Wins  2013 Losses  2013 Draws  2014 Wins  2014 Losses  \\\n",
       "0  Daniel Bryan      177.0         37.0         6.0       35.0         16.0   \n",
       "\n",
       "   2014 Draws  2015 Wins  2015 Losses  2015 Draws  2016 Wins  2016 Losses  \\\n",
       "0         2.0       51.0          7.0         0.0        NaN          NaN   \n",
       "\n",
       "   2016 Draws  \n",
       "0         NaN  "
      ]
     },
     "execution_count": 18,
     "metadata": {},
     "output_type": "execute_result"
    }
   ],
   "source": [
    "w_prev_df.head(1)"
   ]
  },
  {
   "cell_type": "code",
   "execution_count": 19,
   "metadata": {},
   "outputs": [],
   "source": [
    "# Save to new csv file\n",
    "output = os.path.join('..', '..', '09-Stu_WinnerWrestling-Part2','Data', 'WWE-Data-loops.csv')\n",
    "wrestlers_df.to_csv(output, index=False, header=True)"
   ]
  },
  {
   "cell_type": "code",
   "execution_count": null,
   "metadata": {
    "collapsed": true
   },
   "outputs": [],
   "source": []
  }
 ],
 "metadata": {
  "kernelspec": {
   "display_name": "Python [PythonData]",
   "language": "python",
   "name": "pythondata"
  },
  "language_info": {
   "codemirror_mode": {
    "name": "ipython",
    "version": 3
   },
   "file_extension": ".py",
   "mimetype": "text/x-python",
   "name": "python",
   "nbconvert_exporter": "python",
   "pygments_lexer": "ipython3",
   "version": "3.6.3"
  }
 },
 "nbformat": 4,
 "nbformat_minor": 2
}
