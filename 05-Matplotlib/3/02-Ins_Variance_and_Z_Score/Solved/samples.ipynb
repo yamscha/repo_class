{
 "cells": [
  {
   "cell_type": "code",
   "execution_count": 16,
   "metadata": {},
   "outputs": [],
   "source": [
    "# Dependencies\n",
    "from math import sqrt\n",
    "import statistics\n",
    "from scipy.stats.mstats import zscore"
   ]
  },
  {
   "cell_type": "code",
   "execution_count": 1,
   "metadata": {},
   "outputs": [],
   "source": [
    "def mean(arr):\n",
    "    \"\"\"\n",
    "    Calculates the mean of a list of numbers.\n",
    "\n",
    "    Usage: mean([3, 4, 5, 6, 7]) # 5\n",
    "    \"\"\"\n",
    "    return sum(arr) / len(arr)"
   ]
  },
  {
   "cell_type": "code",
   "execution_count": 6,
   "metadata": {},
   "outputs": [
    {
     "name": "stdout",
     "output_type": "stream",
     "text": [
      "2.5\n",
      "2.5\n"
     ]
    }
   ],
   "source": [
    "tmp = [1,2,3,4]\n",
    "print(mean(tmp))\n",
    "print(statistics.mean(tmp))"
   ]
  },
  {
   "cell_type": "code",
   "execution_count": null,
   "metadata": {},
   "outputs": [],
   "source": []
  },
  {
   "cell_type": "code",
   "execution_count": 9,
   "metadata": {},
   "outputs": [],
   "source": [
    "def variance(arr):\n",
    "    mu = mean(arr)\n",
    "    return sum([(x - mu)**2 for x in arr]) / len(arr)"
   ]
  },
  {
   "cell_type": "code",
   "execution_count": 11,
   "metadata": {},
   "outputs": [
    {
     "name": "stdout",
     "output_type": "stream",
     "text": [
      "1.25\n",
      "1.25\n"
     ]
    }
   ],
   "source": [
    "tmp = [1,2,3,4]\n",
    "print(variance(tmp))\n",
    "print(statistics.pvariance(tmp))"
   ]
  },
  {
   "cell_type": "code",
   "execution_count": null,
   "metadata": {},
   "outputs": [],
   "source": []
  },
  {
   "cell_type": "code",
   "execution_count": 12,
   "metadata": {},
   "outputs": [],
   "source": [
    "def standard_deviation(arr):\n",
    "    return sqrt(variance(arr))"
   ]
  },
  {
   "cell_type": "code",
   "execution_count": 13,
   "metadata": {},
   "outputs": [
    {
     "name": "stdout",
     "output_type": "stream",
     "text": [
      "1.118033988749895\n",
      "1.118033988749895\n"
     ]
    }
   ],
   "source": [
    "tmp = [1,2,3,4]\n",
    "print(standard_deviation(tmp))\n",
    "print(statistics.pstdev(tmp))"
   ]
  },
  {
   "cell_type": "code",
   "execution_count": null,
   "metadata": {},
   "outputs": [],
   "source": []
  },
  {
   "cell_type": "code",
   "execution_count": 14,
   "metadata": {},
   "outputs": [],
   "source": [
    "def z_score(arr, index):\n",
    "    return (arr[index] - mean(arr)) / standard_deviation(arr)"
   ]
  },
  {
   "cell_type": "code",
   "execution_count": 17,
   "metadata": {},
   "outputs": [
    {
     "name": "stdout",
     "output_type": "stream",
     "text": [
      "-1.3416407864998738\n",
      "-1.3416407865\n"
     ]
    }
   ],
   "source": [
    "tmp = [1,2,3,4]\n",
    "print(z_score(tmp,0))\n",
    "print(zscore(tmp)[0])"
   ]
  },
  {
   "cell_type": "code",
   "execution_count": null,
   "metadata": {},
   "outputs": [],
   "source": []
  },
  {
   "cell_type": "code",
   "execution_count": 18,
   "metadata": {},
   "outputs": [],
   "source": [
    "def z_scores(arr):\n",
    "    return [z_score(arr, ind) for ind in range(0, len(arr))]"
   ]
  },
  {
   "cell_type": "code",
   "execution_count": 20,
   "metadata": {},
   "outputs": [
    {
     "name": "stdout",
     "output_type": "stream",
     "text": [
      "[-1.3416407864998738, -0.4472135954999579, 0.4472135954999579, 1.3416407864998738]\n",
      "[-1.34164079 -0.4472136   0.4472136   1.34164079]\n"
     ]
    }
   ],
   "source": [
    "tmp = [1,2,3,4]\n",
    "print(z_scores(tmp))\n",
    "print(zscore(tmp))"
   ]
  },
  {
   "cell_type": "code",
   "execution_count": null,
   "metadata": {},
   "outputs": [],
   "source": []
  },
  {
   "cell_type": "code",
   "execution_count": 22,
   "metadata": {},
   "outputs": [],
   "source": [
    "def zipped_z_scores(arr):\n",
    "    return list(zip(arr, z_scores(arr)))"
   ]
  },
  {
   "cell_type": "code",
   "execution_count": 24,
   "metadata": {},
   "outputs": [
    {
     "name": "stdout",
     "output_type": "stream",
     "text": [
      "[(1, -1.3416407864998738), (2, -0.4472135954999579), (3, 0.4472135954999579), (4, 1.3416407864998738)]\n"
     ]
    }
   ],
   "source": [
    "tmp = [1,2,3,4]\n",
    "print(zipped_z_scores(tmp))"
   ]
  },
  {
   "cell_type": "code",
   "execution_count": 25,
   "metadata": {},
   "outputs": [],
   "source": [
    "def summarize(title, arr):\n",
    "    print(\"Summarizing {}\".format(title))\n",
    "    print(\"Variance: {}\".format(variance(arr)))\n",
    "    print(\"Standard Deviation: {}\".format(standard_deviation(arr)))\n",
    "    print(\"Z-Scores: {}\".format(zipped_z_scores(arr)))\n",
    "    print(\"======\")"
   ]
  },
  {
   "cell_type": "code",
   "execution_count": 26,
   "metadata": {},
   "outputs": [
    {
     "name": "stdout",
     "output_type": "stream",
     "text": [
      "Summarizing Prices\n",
      "Variance: 1177294.9599999997\n",
      "Standard Deviation: 1085.032239152367\n",
      "Z-Scores: [(4, -0.8062433247913429), (425, -0.41823642065650596), (984, 0.09695564445364577), (2932, 1.8922940037283782), (49, -0.7647699027341751)]\n",
      "======\n",
      "Summarizing Bootcamp Ages\n",
      "Variance: 72.55555555555556\n",
      "Standard Deviation: 8.517954892787092\n",
      "Z-Scores: [(27, -1.1348576962825065), (35, -0.19566512004870779), (42, 0.6261283841558661), (52, 1.8001191044481146), (36, -0.07826604801948295), (28, -1.0174586242532817)]\n",
      "======\n",
      "Summarizing Birthday Party Ages\n",
      "Variance: 244.6938775510204\n",
      "Standard Deviation: 15.64269406307687\n",
      "Z-Scores: [(6, -0.8401914075580905), (5, -0.9041190146549017), (6, -0.8401914075580905), (6, -0.8401914075580905), (35, 1.0137091982494355), (34, 0.9497815911526242), (42, 1.4612024479271142)]\n",
      "======\n",
      "Summarizing Geograph Grades\n",
      "Variance: 8.0\n",
      "Standard Deviation: 2.8284271247461903\n",
      "Z-Scores: [(87, -1.414213562373095), (89, -0.7071067811865475), (91, 0.0), (93, 0.7071067811865475), (95, 1.414213562373095)]\n",
      "======\n",
      "Summarizing Quantum Mechanics Grades\n",
      "Variance: 1006.1224489795917\n",
      "Standard Deviation: 31.71943330167788\n",
      "Z-Scores: [(63, 0.5629716863888061), (63, 0.5629716863888061), (98, 1.6663961917108663), (13, -1.0133490354998513), (58, 0.4053396141999404), (13, -1.0133490354998513), (8, -1.170981107688717)]\n",
      "======\n",
      "Summarizing Prices\n",
      "Variance: 92039.55555555556\n",
      "Standard Deviation: 303.3802161571442\n",
      "Z-Scores: [(30, -0.36917371019996403), (31, -0.36587751635889293), (31, -0.36587751635889293), (32, -0.3625813225178218), (32, -0.3625813225178218), (40, -0.33621177178925293), (41, -0.33291557794818183), (41, -0.33291557794818183), (1000, 2.82813431563901)]\n",
      "======\n"
     ]
    }
   ],
   "source": [
    "# Prices of random electronics at Best Buy\n",
    "prices = [4, 425, 984, 2932, 49]\n",
    "summarize(\"Prices\", prices)\n",
    "\n",
    "# Ages of students in bootcamp\n",
    "bootcamp_classroom_ages = [27, 35, 42, 52, 36, 28]\n",
    "summarize(\"Bootcamp Ages\", bootcamp_classroom_ages)\n",
    "\n",
    "# Ages of children and parents at child's party\n",
    "birthday_party_ages = [6, 5, 6, 6, 35, 34, 42]\n",
    "summarize(\"Birthday Party Ages\", birthday_party_ages)\n",
    "\n",
    "# Test score from a 2nd grade geography test\n",
    "geo_grades = [87, 89, 91, 93, 95]\n",
    "summarize(\"Geograph Grades\", geo_grades)\n",
    "\n",
    "# Test scores from a graduate quantum mechanics midterm\n",
    "quantum_grades = [63, 63, 98, 13, 58, 13, 8]\n",
    "summarize(\"Quantum Mechanics Grades\", quantum_grades)\n",
    "\n",
    "# Prices\n",
    "summarize(\"Prices\", [30, 31, 31, 32, 32, 40, 41, 41, 1000])\n"
   ]
  },
  {
   "cell_type": "code",
   "execution_count": null,
   "metadata": {},
   "outputs": [],
   "source": []
  }
 ],
 "metadata": {
  "kernelspec": {
   "display_name": "Python [PythonData]",
   "language": "python",
   "name": "pythondata"
  },
  "language_info": {
   "codemirror_mode": {
    "name": "ipython",
    "version": 3
   },
   "file_extension": ".py",
   "mimetype": "text/x-python",
   "name": "python",
   "nbconvert_exporter": "python",
   "pygments_lexer": "ipython3",
   "version": "3.6.3"
  }
 },
 "nbformat": 4,
 "nbformat_minor": 2
}
