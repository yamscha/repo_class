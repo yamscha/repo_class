{
 "cells": [
  {
   "cell_type": "code",
   "execution_count": null,
   "metadata": {},
   "outputs": [],
   "source": [
    "# Dependencies\n",
    "from statistics import mean, median, mode, multi_mode\n",
    "\n",
    "# Prices of random electronics at Best Buy\n",
    "prices = [4, 425, 984, 2932, 49]\n",
    "print(\"Median Price: {}\".format(median(prices)))\n",
    "\n",
    "# Ages of students in bootcamp\n",
    "bootcamp_classroom_ages = [27, 35, 42, 52, 36, 28]\n",
    "print(\"Mean Bootcamp Age: {}\".format(mean(bootcamp_classroom_ages)))\n",
    "print(\"Median Bootcamp Age: {}\".format(median(bootcamp_classroom_ages)))\n",
    "\n",
    "# Ages of children and parents at child's party\n",
    "birthday_party_ages = [6, 5, 6, 6, 35, 42, 34]\n",
    "print(\"Mode of Birthday Party Ages: {}\".format(mean(birthday_party_ages)))\n",
    "\n",
    "# Test score from a 2nd grade geography test\n",
    "geo_grades = [87, 89, 91, 93, 95]\n",
    "print(\"Mean of Geography Test Scores: {}\".format(mean(geo_grades)))\n",
    "\n",
    "# Test scores from a graduate quantum mechanics midterm\n",
    "quantum_grades = [63, 63, 98, 13, 58, 13, 8]\n",
    "print(\"Median of QM Grades: {}\".format(median(quantum_grades)))\n",
    "print(\"Modes of QM Grades: {}\".format(multi_mode(quantum_grades)))\n",
    "print(mean(quantum_grades))\n"
   ]
  }
 ],
 "metadata": {
  "kernelspec": {
   "display_name": "Python [PythonData]",
   "language": "python",
   "name": "pythondata"
  },
  "language_info": {
   "codemirror_mode": {
    "name": "ipython",
    "version": 3
   },
   "file_extension": ".py",
   "mimetype": "text/x-python",
   "name": "python",
   "nbconvert_exporter": "python",
   "pygments_lexer": "ipython3",
   "version": "3.6.3"
  }
 },
 "nbformat": 4,
 "nbformat_minor": 2
}
