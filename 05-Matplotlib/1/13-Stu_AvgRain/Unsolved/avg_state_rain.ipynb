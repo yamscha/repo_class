{
 "cells": [
  {
   "cell_type": "code",
   "execution_count": 8,
   "metadata": {
    "collapsed": true
   },
   "outputs": [],
   "source": [
    "# Dependencies\n",
    "import matplotlib.pyplot as plt\n",
    "import numpy as np\n",
    "import pandas as pd"
   ]
  },
  {
   "cell_type": "code",
   "execution_count": 9,
   "metadata": {},
   "outputs": [
    {
     "data": {
      "text/html": [
       "<div>\n",
       "<style>\n",
       "    .dataframe thead tr:only-child th {\n",
       "        text-align: right;\n",
       "    }\n",
       "\n",
       "    .dataframe thead th {\n",
       "        text-align: left;\n",
       "    }\n",
       "\n",
       "    .dataframe tbody tr th {\n",
       "        vertical-align: top;\n",
       "    }\n",
       "</style>\n",
       "<table border=\"1\" class=\"dataframe\">\n",
       "  <thead>\n",
       "    <tr style=\"text-align: right;\">\n",
       "      <th></th>\n",
       "      <th>State</th>\n",
       "      <th>Inches</th>\n",
       "      <th>Milli­metres</th>\n",
       "      <th>Rank</th>\n",
       "    </tr>\n",
       "  </thead>\n",
       "  <tbody>\n",
       "    <tr>\n",
       "      <th>0</th>\n",
       "      <td>Alabama</td>\n",
       "      <td>58.3</td>\n",
       "      <td>1480</td>\n",
       "      <td>4</td>\n",
       "    </tr>\n",
       "    <tr>\n",
       "      <th>1</th>\n",
       "      <td>Alaska</td>\n",
       "      <td>22.5</td>\n",
       "      <td>572</td>\n",
       "      <td>39</td>\n",
       "    </tr>\n",
       "    <tr>\n",
       "      <th>2</th>\n",
       "      <td>Arizona</td>\n",
       "      <td>13.6</td>\n",
       "      <td>345</td>\n",
       "      <td>47</td>\n",
       "    </tr>\n",
       "    <tr>\n",
       "      <th>3</th>\n",
       "      <td>Arkansas</td>\n",
       "      <td>50.6</td>\n",
       "      <td>1284</td>\n",
       "      <td>8</td>\n",
       "    </tr>\n",
       "    <tr>\n",
       "      <th>4</th>\n",
       "      <td>California</td>\n",
       "      <td>22.2</td>\n",
       "      <td>563</td>\n",
       "      <td>40</td>\n",
       "    </tr>\n",
       "  </tbody>\n",
       "</table>\n",
       "</div>"
      ],
      "text/plain": [
       "        State  Inches  Milli­metres  Rank\n",
       "0     Alabama    58.3          1480     4\n",
       "1      Alaska    22.5           572    39\n",
       "2     Arizona    13.6           345    47\n",
       "3    Arkansas    50.6          1284     8\n",
       "4  California    22.2           563    40"
      ]
     },
     "execution_count": 9,
     "metadata": {},
     "output_type": "execute_result"
    }
   ],
   "source": [
    "# Load in csv\n"
   ]
  },
  {
   "cell_type": "code",
   "execution_count": 10,
   "metadata": {
    "collapsed": true
   },
   "outputs": [],
   "source": [
    "# Set x axis and tick locations\n"
   ]
  },
  {
   "cell_type": "code",
   "execution_count": 11,
   "metadata": {},
   "outputs": [
    {
     "data": {
      "text/plain": [
       "([<matplotlib.axis.XTick at 0x236988e4390>,\n",
       "  <matplotlib.axis.XTick at 0x236989c91d0>,\n",
       "  <matplotlib.axis.XTick at 0x23698a414a8>,\n",
       "  <matplotlib.axis.XTick at 0x23698b8c080>,\n",
       "  <matplotlib.axis.XTick at 0x23698b8ca58>,\n",
       "  <matplotlib.axis.XTick at 0x23698b94470>,\n",
       "  <matplotlib.axis.XTick at 0x23698b94e48>,\n",
       "  <matplotlib.axis.XTick at 0x23698b9a860>,\n",
       "  <matplotlib.axis.XTick at 0x23698b9e278>,\n",
       "  <matplotlib.axis.XTick at 0x23698b9ec50>,\n",
       "  <matplotlib.axis.XTick at 0x23698ba7668>,\n",
       "  <matplotlib.axis.XTick at 0x23698bad080>,\n",
       "  <matplotlib.axis.XTick at 0x23698bada58>,\n",
       "  <matplotlib.axis.XTick at 0x23698bb4470>,\n",
       "  <matplotlib.axis.XTick at 0x23698bb4e48>,\n",
       "  <matplotlib.axis.XTick at 0x23698bba860>,\n",
       "  <matplotlib.axis.XTick at 0x23698bc2278>,\n",
       "  <matplotlib.axis.XTick at 0x23698bc2c50>,\n",
       "  <matplotlib.axis.XTick at 0x23698bca668>,\n",
       "  <matplotlib.axis.XTick at 0x23698bd2080>,\n",
       "  <matplotlib.axis.XTick at 0x23698bd2a58>,\n",
       "  <matplotlib.axis.XTick at 0x23698bd7470>,\n",
       "  <matplotlib.axis.XTick at 0x23698bd7e48>,\n",
       "  <matplotlib.axis.XTick at 0x23698bdd860>,\n",
       "  <matplotlib.axis.XTick at 0x23698be6278>,\n",
       "  <matplotlib.axis.XTick at 0x23698be6c50>,\n",
       "  <matplotlib.axis.XTick at 0x23698bed668>,\n",
       "  <matplotlib.axis.XTick at 0x23698dd2080>,\n",
       "  <matplotlib.axis.XTick at 0x23698dd2a58>,\n",
       "  <matplotlib.axis.XTick at 0x23698dd9470>,\n",
       "  <matplotlib.axis.XTick at 0x23698dd9e48>,\n",
       "  <matplotlib.axis.XTick at 0x23698dde860>,\n",
       "  <matplotlib.axis.XTick at 0x23698de6278>,\n",
       "  <matplotlib.axis.XTick at 0x23698de6c50>,\n",
       "  <matplotlib.axis.XTick at 0x23698dec668>,\n",
       "  <matplotlib.axis.XTick at 0x23698df6080>,\n",
       "  <matplotlib.axis.XTick at 0x23698df6a58>,\n",
       "  <matplotlib.axis.XTick at 0x23698dfc470>,\n",
       "  <matplotlib.axis.XTick at 0x23698dfce48>,\n",
       "  <matplotlib.axis.XTick at 0x23698e01860>,\n",
       "  <matplotlib.axis.XTick at 0x23698e0a278>,\n",
       "  <matplotlib.axis.XTick at 0x23698e0ac50>,\n",
       "  <matplotlib.axis.XTick at 0x23698e10668>,\n",
       "  <matplotlib.axis.XTick at 0x23698e16080>,\n",
       "  <matplotlib.axis.XTick at 0x23698e16a58>,\n",
       "  <matplotlib.axis.XTick at 0x23698e1e470>,\n",
       "  <matplotlib.axis.XTick at 0x23698e1ee48>,\n",
       "  <matplotlib.axis.XTick at 0x23698e24860>,\n",
       "  <matplotlib.axis.XTick at 0x23698e2d278>,\n",
       "  <matplotlib.axis.XTick at 0x23698e2dc50>],\n",
       " <a list of 50 Text xticklabel objects>)"
      ]
     },
     "execution_count": 11,
     "metadata": {},
     "output_type": "execute_result"
    }
   ],
   "source": [
    "# Create a list indicating where to write x labels and set figure size to adjust for space\n"
   ]
  },
  {
   "cell_type": "code",
   "execution_count": 12,
   "metadata": {},
   "outputs": [
    {
     "data": {
      "text/plain": [
       "(0, 73.700000000000003)"
      ]
     },
     "execution_count": 12,
     "metadata": {},
     "output_type": "execute_result"
    }
   ],
   "source": [
    "# Set x and y limits\n"
   ]
  },
  {
   "cell_type": "code",
   "execution_count": 13,
   "metadata": {},
   "outputs": [
    {
     "data": {
      "text/plain": [
       "<matplotlib.text.Text at 0x23698a26b70>"
      ]
     },
     "execution_count": 13,
     "metadata": {},
     "output_type": "execute_result"
    }
   ],
   "source": [
    "# Set a Title and labels\n"
   ]
  },
  {
   "cell_type": "code",
   "execution_count": 14,
   "metadata": {},
   "outputs": [
    {
     "data": {
      "image/png": "[encoded data removed]",
      "text/plain": [
       "<matplotlib.figure.Figure at 0x23698962a58>"
      ]
     },
     "metadata": {},
     "output_type": "display_data"
    }
   ],
   "source": [
    "# Save our graph and show the grap\n"
   ]
  },
  {
   "cell_type": "code",
   "execution_count": null,
   "metadata": {
    "collapsed": true
   },
   "outputs": [],
   "source": []
  }
 ],
 "metadata": {
  "kernelspec": {
   "display_name": "Python [default]",
   "language": "python",
   "name": "python3"
  },
  "language_info": {
   "codemirror_mode": {
    "name": "ipython",
    "version": 3
   },
   "file_extension": ".py",
   "mimetype": "text/x-python",
   "name": "python",
   "nbconvert_exporter": "python",
   "pygments_lexer": "ipython3",
   "version": "3.6.1"
  }
 },
 "nbformat": 4,
 "nbformat_minor": 2
}
