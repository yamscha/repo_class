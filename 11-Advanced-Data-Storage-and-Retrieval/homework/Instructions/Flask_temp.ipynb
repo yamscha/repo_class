{
 "cells": [
  {
   "cell_type": "code",
   "execution_count": 1,
   "metadata": {},
   "outputs": [],
   "source": [
    "import datetime as dt\n",
    "import numpy as np\n",
    "import pandas as pd"
   ]
  },
  {
   "cell_type": "code",
   "execution_count": 2,
   "metadata": {},
   "outputs": [],
   "source": [
    "import sqlalchemy\n",
    "from sqlalchemy.ext.automap import automap_base\n",
    "from sqlalchemy.orm import Session\n",
    "from sqlalchemy import create_engine, func\n",
    "\n",
    "from flask import Flask, jsonify"
   ]
  },
  {
   "cell_type": "code",
   "execution_count": 3,
   "metadata": {},
   "outputs": [],
   "source": [
    "#create a connection to a sqlite database \n",
    "engine = create_engine('sqlite:///hawaii2.sqlite')"
   ]
  },
  {
   "cell_type": "code",
   "execution_count": 4,
   "metadata": {},
   "outputs": [],
   "source": [
    "# reflect an existing database into a new model\n",
    "Base = automap_base()"
   ]
  },
  {
   "cell_type": "code",
   "execution_count": 5,
   "metadata": {},
   "outputs": [],
   "source": [
    "# reflect the tables\n",
    "Base.prepare(engine, reflect=True)"
   ]
  },
  {
   "cell_type": "code",
   "execution_count": 6,
   "metadata": {},
   "outputs": [],
   "source": [
    "# Save reference to the table\n",
    "ME = Base.classes.measurement\n"
   ]
  },
  {
   "cell_type": "code",
   "execution_count": 7,
   "metadata": {},
   "outputs": [],
   "source": [
    "ST = Base.classes.stations"
   ]
  },
  {
   "cell_type": "code",
   "execution_count": 8,
   "metadata": {},
   "outputs": [],
   "source": [
    "# Create our session (link) from Python to the DB\n",
    "session = Session(engine)\n"
   ]
  },
  {
   "cell_type": "code",
   "execution_count": 68,
   "metadata": {},
   "outputs": [],
   "source": [
    "# Flask Setup\n",
    " #\"\"\"Return a list of all passenger names\"\"\"\n",
    "  # * Query for the dates and temperature observations from the last year.\n",
    "\n",
    "#################################################\n",
    "app = Flask(__name__)"
   ]
  },
  {
   "cell_type": "code",
   "execution_count": 53,
   "metadata": {},
   "outputs": [],
   "source": [
    "# Flask Routes\n",
    "@app.route(\"/api/v1.0/precipitation\")\n",
    "def names():\n",
    "    tobs_list =[]\n",
    "    tob_12 = session.query(ME.date,ME.tobs).\\\n",
    "             filter((ME.date >='2016-08-23') & (ME.date <='2017-08-23')).\\\n",
    "             order_by(ME.date).all()\n",
    "    \n",
    "    for i in tob_12:\n",
    "        tobs_dict ={}\n",
    "        tobs_dict['date'] = i.date\n",
    "        tobs_dict['tobs'] =i.tobs\n",
    "        tobs_list.append(tobs_dict)\n",
    "    \n",
    "    return jsonify(tobs_list)"
   ]
  },
  {
   "cell_type": "code",
   "execution_count": 62,
   "metadata": {},
   "outputs": [],
   "source": [
    "#* Return a json list of stations from the dataset.\n",
    "@app.route(\"/api/v1.0/stations\")\n",
    "def stations():\n",
    "    stations_query = session.query(ST.station,ST.name).all()\n",
    "                     \n",
    "    # Convert list of tuples into normal list\n",
    "    station_list = list(np.ravel(station_query))\n",
    "\n",
    "    return jsonify(station_list)    \n",
    "                     "
   ]
  },
  {
   "cell_type": "code",
   "execution_count": 58,
   "metadata": {},
   "outputs": [],
   "source": [
    "stations_query = session.query(ST.station,ST.name).all()\n",
    "                 \n",
    "    "
   ]
  },
  {
   "cell_type": "code",
   "execution_count": 59,
   "metadata": {},
   "outputs": [
    {
     "data": {
      "text/plain": [
       "[('USC00519397', 'WAIKIKI 717.2, HI US'),\n",
       " ('USC00513117', 'KANEOHE 838.1, HI US'),\n",
       " ('USC00514830', 'KUALOA RANCH HEADQUARTERS 886.9, HI US'),\n",
       " ('USC00517948', 'PEARL CITY, HI US'),\n",
       " ('USC00518838', 'UPPER WAHIAWA 874.3, HI US'),\n",
       " ('USC00519523', 'WAIMANALO EXPERIMENTAL FARM, HI US'),\n",
       " ('USC00519281', 'WAIHEE 837.5, HI US'),\n",
       " ('USC00511918', 'HONOLULU OBSERVATORY 702.2, HI US'),\n",
       " ('USC00516128', 'MANOA LYON ARBO 785.2, HI US')]"
      ]
     },
     "execution_count": 59,
     "metadata": {},
     "output_type": "execute_result"
    }
   ],
   "source": [
    "stations_query"
   ]
  },
  {
   "cell_type": "code",
   "execution_count": 69,
   "metadata": {},
   "outputs": [],
   "source": [
    "#* Return a json list of the minimum temperature, the average temperature, \n",
    "#and the max temperature for a given start or start-end range.\n",
    "@app.route(\"/api/v1.0/start\")\n",
    "def start_date():\n",
    "    temp_query = session.query(ME.date,func.min(ME.tobs),func.max(ME.tobs),func.avg(ME.tobs)).\\\n",
    "                 filter(ME.date =='2017-08-15').\\\n",
    "                 order_by(ME.date).all()\n",
    "    temp_list = list(np.ravel(temp_query))   \n",
    "    return jsonify(temp_list)\n",
    "\n",
    "def startdate_greater():\n",
    "    temp_query1 = session.query(ME.date,func.min(ME.tobs),func.max(ME.tobs),func.avg(ME.tobs)).\\\n",
    "                 filter(ME.date >='2017-08-15').\\\n",
    "                 order_by(ME.date).all()\n",
    "    temp_list1 = list(np.ravel(temp_query1))   \n",
    "    return jsonify(temp_list1)\n",
    "    "
   ]
  },
  {
   "cell_type": "code",
   "execution_count": 201,
   "metadata": {},
   "outputs": [],
   "source": [
    "temp_query_list=[] \n",
    "date_re=[]\n",
    "min_r=[]\n",
    "max_r=[]\n",
    "avg_r=[]\n",
    "\n",
    "def temp(start_date,end_date):\n",
    "for x,val in enumerate(list1):\n",
    "    temp_query = session.query(ME.date,func.min(ME.tobs),func.max(ME.tobs),func.avg(ME.tobs)).\\\n",
    "                     filter((ME.date > list1[x])& (ME.date < list1[x])).\\\n",
    "                     order_by(ME.date).all()\n",
    "    for i in temp_query:\n",
    "        temp_query_list.append(temp_query)"
   ]
  },
  {
   "cell_type": "code",
   "execution_count": 131,
   "metadata": {},
   "outputs": [],
   "source": [
    "temp_query = session.query(ME.date,func.min(ME.tobs),func.max(ME.tobs),func.avg(ME.tobs)).\\\n",
    "                 filter(ME.date >= '2016-05-10').\\\n",
    "                 order_by(ME.date).all()"
   ]
  },
  {
   "cell_type": "code",
   "execution_count": 202,
   "metadata": {},
   "outputs": [],
   "source": [
    "temp('2010-07-04','2010-07-09')"
   ]
  },
  {
   "cell_type": "code",
   "execution_count": 203,
   "metadata": {},
   "outputs": [
    {
     "data": {
      "text/plain": [
       "[[(None, None, None, None)],\n",
       " [(None, None, None, None)],\n",
       " [(None, None, None, None)],\n",
       " [(None, None, None, None)],\n",
       " [(None, None, None, None)],\n",
       " [(None, None, None, None)],\n",
       " [(None, None, None, None)],\n",
       " [(None, None, None, None)]]"
      ]
     },
     "execution_count": 203,
     "metadata": {},
     "output_type": "execute_result"
    }
   ],
   "source": [
    "temp_query_list"
   ]
  },
  {
   "cell_type": "code",
   "execution_count": null,
   "metadata": {},
   "outputs": [],
   "source": [
    "  #date = i[0]\n",
    "           # min_t= i[1]\n",
    "            #max_t =i[2]\n",
    "#avg_t = i[3]\n",
    "           # date_re.append(date)\n",
    "           # min_r.append(min_t)\n",
    "           # max_r.append(max_t)\n",
    "           # avg_r.append(avg_t)"
   ]
  }
 ],
 "metadata": {
  "kernelspec": {
   "display_name": "Python [conda env:pythondata]",
   "language": "python",
   "name": "conda-env-pythondata-py"
  },
  "language_info": {
   "codemirror_mode": {
    "name": "ipython",
    "version": 3
   },
   "file_extension": ".py",
   "mimetype": "text/x-python",
   "name": "python",
   "nbconvert_exporter": "python",
   "pygments_lexer": "ipython3",
   "version": "3.6.4"
  }
 },
 "nbformat": 4,
 "nbformat_minor": 2
}
