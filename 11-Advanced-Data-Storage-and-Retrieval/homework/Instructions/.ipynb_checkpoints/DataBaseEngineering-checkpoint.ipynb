{
 "cells": [
  {
   "cell_type": "code",
   "execution_count": 27,
   "metadata": {},
   "outputs": [],
   "source": [
    "import matplotlib.pyplot as plt"
   ]
  },
  {
   "cell_type": "code",
   "execution_count": 571,
   "metadata": {},
   "outputs": [],
   "source": [
    "import datetime as dt\n",
    "import pandas as pd\n",
    "import numpy as np"
   ]
  },
  {
   "cell_type": "code",
   "execution_count": 29,
   "metadata": {},
   "outputs": [],
   "source": [
    "# Python SQL toolkit and Object Relational Mapper\n",
    "import sqlalchemy\n",
    "from sqlalchemy.ext.automap import automap_base\n",
    "from sqlalchemy.orm import Session\n",
    "from sqlalchemy import create_engine, inspect,func"
   ]
  },
  {
   "cell_type": "code",
   "execution_count": null,
   "metadata": {},
   "outputs": [],
   "source": []
  },
  {
   "cell_type": "code",
   "execution_count": 30,
   "metadata": {},
   "outputs": [],
   "source": [
    "#create a connection to a sqlite database \n",
    "engine = create_engine('sqlite:///hawaii2.sqlite')\n"
   ]
  },
  {
   "cell_type": "code",
   "execution_count": 31,
   "metadata": {},
   "outputs": [
    {
     "data": {
      "text/plain": [
       "['measurement', 'stations']"
      ]
     },
     "execution_count": 31,
     "metadata": {},
     "output_type": "execute_result"
    }
   ],
   "source": [
    "# Reflect Database into ORM classes\n",
    "Base = automap_base()\n",
    "Base.prepare(engine, reflect=True)\n",
    "Base.classes.keys()"
   ]
  },
  {
   "cell_type": "code",
   "execution_count": 32,
   "metadata": {},
   "outputs": [],
   "source": [
    "# create object for table ME\n",
    "ME = Base.classes.measurement"
   ]
  },
  {
   "cell_type": "code",
   "execution_count": 33,
   "metadata": {},
   "outputs": [],
   "source": [
    "# create object for table ST\n",
    "ST = Base.classes.stations"
   ]
  },
  {
   "cell_type": "code",
   "execution_count": 34,
   "metadata": {},
   "outputs": [],
   "source": [
    "session = Session(engine)"
   ]
  },
  {
   "cell_type": "code",
   "execution_count": 35,
   "metadata": {},
   "outputs": [
    {
     "data": {
      "text/plain": [
       "[(18103)]"
      ]
     },
     "execution_count": 35,
     "metadata": {},
     "output_type": "execute_result"
    }
   ],
   "source": [
    "session.query(func.count(ME.date)).all()"
   ]
  },
  {
   "cell_type": "code",
   "execution_count": 36,
   "metadata": {},
   "outputs": [
    {
     "data": {
      "text/plain": [
       "('2010-01-01')"
      ]
     },
     "execution_count": 36,
     "metadata": {},
     "output_type": "execute_result"
    }
   ],
   "source": [
    "session.query(ME.date).order_by(ME.date.asc()).first()"
   ]
  },
  {
   "cell_type": "code",
   "execution_count": 37,
   "metadata": {},
   "outputs": [],
   "source": [
    "mk = session.query(ME.date).order_by(ME.date.desc()).first() "
   ]
  },
  {
   "cell_type": "code",
   "execution_count": 38,
   "metadata": {},
   "outputs": [
    {
     "data": {
      "text/plain": [
       "('2017-08-23')"
      ]
     },
     "execution_count": 38,
     "metadata": {},
     "output_type": "execute_result"
    }
   ],
   "source": [
    "mk"
   ]
  },
  {
   "cell_type": "code",
   "execution_count": 31,
   "metadata": {},
   "outputs": [
    {
     "data": {
      "text/plain": [
       "datetime.date(2017, 4, 3)"
      ]
     },
     "execution_count": 31,
     "metadata": {},
     "output_type": "execute_result"
    }
   ],
   "source": [
    "# date 1 week ago from today\n",
    "week_ago = dt.date.today() - dt.timedelta(days=365)\n",
    "week_ago"
   ]
  },
  {
   "cell_type": "code",
   "execution_count": null,
   "metadata": {},
   "outputs": [],
   "source": [
    "#################### Precipitation Analysis ###########################\n"
   ]
  },
  {
   "cell_type": "code",
   "execution_count": 540,
   "metadata": {},
   "outputs": [],
   "source": [
    "##### **** Design a query to retrieve the last 12 months of precipitation data.**** #####\n",
    "prcp_result = session.query(ME.date,ME.prcp).\\\n",
    "            filter ((ME.date >= '2016-08-01' ) & (ME.date <= '2017-08-23')).\\\n",
    "            order_by (ME.date).all()\n",
    "        "
   ]
  },
  {
   "cell_type": "code",
   "execution_count": 542,
   "metadata": {},
   "outputs": [],
   "source": [
    "#prcp_result"
   ]
  },
  {
   "cell_type": "code",
   "execution_count": 543,
   "metadata": {},
   "outputs": [
    {
     "data": {
      "text/html": [
       "<div>\n",
       "<style scoped>\n",
       "    .dataframe tbody tr th:only-of-type {\n",
       "        vertical-align: middle;\n",
       "    }\n",
       "\n",
       "    .dataframe tbody tr th {\n",
       "        vertical-align: top;\n",
       "    }\n",
       "\n",
       "    .dataframe thead th {\n",
       "        text-align: right;\n",
       "    }\n",
       "</style>\n",
       "<table border=\"1\" class=\"dataframe\">\n",
       "  <thead>\n",
       "    <tr style=\"text-align: right;\">\n",
       "      <th></th>\n",
       "      <th>date</th>\n",
       "      <th>prcp</th>\n",
       "    </tr>\n",
       "  </thead>\n",
       "  <tbody>\n",
       "    <tr>\n",
       "      <th>0</th>\n",
       "      <td>2016-08-01</td>\n",
       "      <td>0.08</td>\n",
       "    </tr>\n",
       "    <tr>\n",
       "      <th>1</th>\n",
       "      <td>2016-08-01</td>\n",
       "      <td>2.35</td>\n",
       "    </tr>\n",
       "    <tr>\n",
       "      <th>2</th>\n",
       "      <td>2016-08-01</td>\n",
       "      <td>0.54</td>\n",
       "    </tr>\n",
       "    <tr>\n",
       "      <th>3</th>\n",
       "      <td>2016-08-01</td>\n",
       "      <td>3.53</td>\n",
       "    </tr>\n",
       "    <tr>\n",
       "      <th>4</th>\n",
       "      <td>2016-08-01</td>\n",
       "      <td>2.21</td>\n",
       "    </tr>\n",
       "  </tbody>\n",
       "</table>\n",
       "</div>"
      ],
      "text/plain": [
       "         date  prcp\n",
       "0  2016-08-01  0.08\n",
       "1  2016-08-01  2.35\n",
       "2  2016-08-01  0.54\n",
       "3  2016-08-01  3.53\n",
       "4  2016-08-01  2.21"
      ]
     },
     "execution_count": 543,
     "metadata": {},
     "output_type": "execute_result"
    }
   ],
   "source": [
    "####*** Load the query results into a Pandas DataFrame \n",
    "\n",
    "prcp_result_df = pd.DataFrame(prcp_result)\n",
    "prcp_result_df.head()"
   ]
  },
  {
   "cell_type": "code",
   "execution_count": 546,
   "metadata": {},
   "outputs": [
    {
     "data": {
      "text/html": [
       "<div>\n",
       "<style scoped>\n",
       "    .dataframe tbody tr th:only-of-type {\n",
       "        vertical-align: middle;\n",
       "    }\n",
       "\n",
       "    .dataframe tbody tr th {\n",
       "        vertical-align: top;\n",
       "    }\n",
       "\n",
       "    .dataframe thead th {\n",
       "        text-align: right;\n",
       "    }\n",
       "</style>\n",
       "<table border=\"1\" class=\"dataframe\">\n",
       "  <thead>\n",
       "    <tr style=\"text-align: right;\">\n",
       "      <th></th>\n",
       "      <th>prcp</th>\n",
       "    </tr>\n",
       "    <tr>\n",
       "      <th>date</th>\n",
       "      <th></th>\n",
       "    </tr>\n",
       "  </thead>\n",
       "  <tbody>\n",
       "    <tr>\n",
       "      <th>2016-08-01</th>\n",
       "      <td>0.08</td>\n",
       "    </tr>\n",
       "    <tr>\n",
       "      <th>2016-08-01</th>\n",
       "      <td>2.35</td>\n",
       "    </tr>\n",
       "    <tr>\n",
       "      <th>2016-08-01</th>\n",
       "      <td>0.54</td>\n",
       "    </tr>\n",
       "    <tr>\n",
       "      <th>2016-08-01</th>\n",
       "      <td>3.53</td>\n",
       "    </tr>\n",
       "    <tr>\n",
       "      <th>2016-08-01</th>\n",
       "      <td>2.21</td>\n",
       "    </tr>\n",
       "  </tbody>\n",
       "</table>\n",
       "</div>"
      ],
      "text/plain": [
       "            prcp\n",
       "date            \n",
       "2016-08-01  0.08\n",
       "2016-08-01  2.35\n",
       "2016-08-01  0.54\n",
       "2016-08-01  3.53\n",
       "2016-08-01  2.21"
      ]
     },
     "execution_count": 546,
     "metadata": {},
     "output_type": "execute_result"
    }
   ],
   "source": [
    "#### set the index to the date column.\n",
    "date_index = pd.DataFrame(prcp_result_df).set_index('date')\n",
    "date_index.head()"
   ]
  },
  {
   "cell_type": "code",
   "execution_count": null,
   "metadata": {},
   "outputs": [],
   "source": [
    "## using plotly library to represent data "
   ]
  },
  {
   "cell_type": "code",
   "execution_count": 536,
   "metadata": {},
   "outputs": [],
   "source": [
    "import plotly.plotly as py\n",
    "#import plotly.offline as offline\n",
    "import plotly.graph_objs as go"
   ]
  },
  {
   "cell_type": "code",
   "execution_count": 539,
   "metadata": {},
   "outputs": [
    {
     "data": {
      "text/html": [
       "<iframe id=\"igraph\" scrolling=\"no\" style=\"border:none;\" seamless=\"seamless\" src=\"https://plot.ly/~yamini/387.embed\" height=\"525px\" width=\"100%\"></iframe>"
      ],
      "text/plain": [
       "<plotly.tools.PlotlyDisplay object>"
      ]
     },
     "execution_count": 539,
     "metadata": {},
     "output_type": "execute_result"
    }
   ],
   "source": [
    "date_col =result_df['date']\n",
    "prcp_col = result_df['prcp']\n",
    "\n",
    "#value_col = measure_df['Value']\n",
    "prcp_plot= go.Bar(x = date_col, y = prcp_col, name =prcp_col,\n",
    "                   marker=dict(color='rgb(158,202,225)'))\n",
    "layout = dict(title = 'Percipitation Value for year(2016-2017)',\n",
    "              xaxis = dict(title = 'Date'),\n",
    "              yaxis = dict(title = 'Percipitation'),\n",
    "              )\n",
    "data = [prcp_plot]\n",
    "fig = dict(data=data,layout=layout)\n",
    "py.iplot(fig)"
   ]
  },
  {
   "cell_type": "code",
   "execution_count": null,
   "metadata": {},
   "outputs": [],
   "source": [
    " ## Use Pandas to print the summary statistics for the precipitation data.###\n"
   ]
  },
  {
   "cell_type": "code",
   "execution_count": 544,
   "metadata": {},
   "outputs": [
    {
     "data": {
      "text/html": [
       "<div>\n",
       "<style scoped>\n",
       "    .dataframe tbody tr th:only-of-type {\n",
       "        vertical-align: middle;\n",
       "    }\n",
       "\n",
       "    .dataframe tbody tr th {\n",
       "        vertical-align: top;\n",
       "    }\n",
       "\n",
       "    .dataframe thead th {\n",
       "        text-align: right;\n",
       "    }\n",
       "</style>\n",
       "<table border=\"1\" class=\"dataframe\">\n",
       "  <thead>\n",
       "    <tr style=\"text-align: right;\">\n",
       "      <th></th>\n",
       "      <th>prcp</th>\n",
       "    </tr>\n",
       "  </thead>\n",
       "  <tbody>\n",
       "    <tr>\n",
       "      <th>count</th>\n",
       "      <td>2148.000000</td>\n",
       "    </tr>\n",
       "    <tr>\n",
       "      <th>mean</th>\n",
       "      <td>0.182896</td>\n",
       "    </tr>\n",
       "    <tr>\n",
       "      <th>std</th>\n",
       "      <td>0.467339</td>\n",
       "    </tr>\n",
       "    <tr>\n",
       "      <th>min</th>\n",
       "      <td>0.000000</td>\n",
       "    </tr>\n",
       "    <tr>\n",
       "      <th>25%</th>\n",
       "      <td>0.000000</td>\n",
       "    </tr>\n",
       "    <tr>\n",
       "      <th>50%</th>\n",
       "      <td>0.020000</td>\n",
       "    </tr>\n",
       "    <tr>\n",
       "      <th>75%</th>\n",
       "      <td>0.140000</td>\n",
       "    </tr>\n",
       "    <tr>\n",
       "      <th>max</th>\n",
       "      <td>6.700000</td>\n",
       "    </tr>\n",
       "  </tbody>\n",
       "</table>\n",
       "</div>"
      ],
      "text/plain": [
       "              prcp\n",
       "count  2148.000000\n",
       "mean      0.182896\n",
       "std       0.467339\n",
       "min       0.000000\n",
       "25%       0.000000\n",
       "50%       0.020000\n",
       "75%       0.140000\n",
       "max       6.700000"
      ]
     },
     "execution_count": 544,
     "metadata": {},
     "output_type": "execute_result"
    }
   ],
   "source": [
    "### Summary Statistics ###\n",
    "prcp_result_df.describe()"
   ]
  },
  {
   "cell_type": "code",
   "execution_count": 220,
   "metadata": {},
   "outputs": [],
   "source": [
    "#list1 =['2016-01-06','2017-07-23']\n",
    "#final_list =[]\n",
    "#for x,val in enumerate(list1):\n",
    " #   result_all = session.query(ME.date,ME.prcp).\\\n",
    "  #            filter(ME.date == list1[x]).\\\n",
    "   #           order_by(ME.date).all()\n",
    "    #print(result_all) \n",
    "    #final_list.append(result_all)        \n",
    "          \n"
   ]
  },
  {
   "cell_type": "code",
   "execution_count": null,
   "metadata": {},
   "outputs": [],
   "source": [
    "###################### SOLUTION 2 ###############"
   ]
  },
  {
   "cell_type": "code",
   "execution_count": null,
   "metadata": {},
   "outputs": [],
   "source": [
    "############## Temparature Analysis Using Functions ###################"
   ]
  },
  {
   "cell_type": "code",
   "execution_count": null,
   "metadata": {},
   "outputs": [],
   "source": [
    " # Write a function called `calc_temps` that will accept a start date and end date in the format `%Y-%m-%d` \n",
    " # and return the minimum, average, and maximum temperatures for that range of dates."
   ]
  },
  {
   "cell_type": "code",
   "execution_count": 576,
   "metadata": {},
   "outputs": [],
   "source": [
    "temp_results =[]\n",
    "# appending each column value in a list\n",
    "date_re =[]\n",
    "prcp_re=[]\n",
    "tobs_re =[]\n",
    "#####################\n",
    "#** creating calc_temps function **##\n",
    "#####################################\n",
    "def calc_temps(start_date,end_date ):\n",
    "    my_result1 = session.query(ME.date,ME.prcp,ME.tobs).\\\n",
    "                     filter((ME.date >= start_date) & (ME.date <= end_date)).\\\n",
    "                     order_by(ME.date).all()\n",
    "    for i in my_result1:\n",
    "        date = i[0]\n",
    "        prcp = i[1]\n",
    "        tobs =i[2]\n",
    "        date_re.append(date)\n",
    "        prcp_re.append(prcp)\n",
    "        tobs_re.append(tobs)        \n",
    "    #temp_results.append(my_result1)        "
   ]
  },
  {
   "cell_type": "code",
   "execution_count": 577,
   "metadata": {},
   "outputs": [],
   "source": [
    "#***** calling calc_temps function py passing parameters **************\n",
    "calc_temps('2010-02-15', '2010-02-30')\n",
    "#temp_results\n",
    "#tobs_re"
   ]
  },
  {
   "cell_type": "code",
   "execution_count": 578,
   "metadata": {},
   "outputs": [],
   "source": [
    "#*** converting results into a dictionary (temp_dict) ***######\n",
    "temp_dict = {'date':date_re,'prcp':prcp_re,'tobs':tobs_re}"
   ]
  },
  {
   "cell_type": "code",
   "execution_count": 552,
   "metadata": {},
   "outputs": [
    {
     "data": {
      "text/plain": [
       "['2010-02-25']"
      ]
     },
     "execution_count": 552,
     "metadata": {},
     "output_type": "execute_result"
    }
   ],
   "source": [
    "#temp_func = temp('2010-02-06','2010-02-15')\n",
    "#temp_func\n",
    "date_re"
   ]
  },
  {
   "cell_type": "code",
   "execution_count": 580,
   "metadata": {},
   "outputs": [
    {
     "data": {
      "text/html": [
       "<div>\n",
       "<style scoped>\n",
       "    .dataframe tbody tr th:only-of-type {\n",
       "        vertical-align: middle;\n",
       "    }\n",
       "\n",
       "    .dataframe tbody tr th {\n",
       "        vertical-align: top;\n",
       "    }\n",
       "\n",
       "    .dataframe thead th {\n",
       "        text-align: right;\n",
       "    }\n",
       "</style>\n",
       "<table border=\"1\" class=\"dataframe\">\n",
       "  <thead>\n",
       "    <tr style=\"text-align: right;\">\n",
       "      <th></th>\n",
       "      <th>date</th>\n",
       "      <th>prcp</th>\n",
       "      <th>tobs</th>\n",
       "    </tr>\n",
       "  </thead>\n",
       "  <tbody>\n",
       "    <tr>\n",
       "      <th>0</th>\n",
       "      <td>2010-02-15</td>\n",
       "      <td>0.0</td>\n",
       "      <td>71.0</td>\n",
       "    </tr>\n",
       "    <tr>\n",
       "      <th>1</th>\n",
       "      <td>2010-02-15</td>\n",
       "      <td>0.0</td>\n",
       "      <td>72.0</td>\n",
       "    </tr>\n",
       "    <tr>\n",
       "      <th>2</th>\n",
       "      <td>2010-02-15</td>\n",
       "      <td>0.0</td>\n",
       "      <td>70.0</td>\n",
       "    </tr>\n",
       "    <tr>\n",
       "      <th>3</th>\n",
       "      <td>2010-02-15</td>\n",
       "      <td>0.0</td>\n",
       "      <td>73.0</td>\n",
       "    </tr>\n",
       "    <tr>\n",
       "      <th>4</th>\n",
       "      <td>2010-02-15</td>\n",
       "      <td>0.0</td>\n",
       "      <td>71.0</td>\n",
       "    </tr>\n",
       "  </tbody>\n",
       "</table>\n",
       "</div>"
      ],
      "text/plain": [
       "         date  prcp  tobs\n",
       "0  2010-02-15   0.0  71.0\n",
       "1  2010-02-15   0.0  72.0\n",
       "2  2010-02-15   0.0  70.0\n",
       "3  2010-02-15   0.0  73.0\n",
       "4  2010-02-15   0.0  71.0"
      ]
     },
     "execution_count": 580,
     "metadata": {},
     "output_type": "execute_result"
    }
   ],
   "source": [
    "temp_results_df = pd.DataFrame(temp_dict)\n",
    "temp_results_df.head()"
   ]
  },
  {
   "cell_type": "code",
   "execution_count": 581,
   "metadata": {},
   "outputs": [
    {
     "data": {
      "text/plain": [
       "date\n",
       "2010-02-15    70.0\n",
       "2010-02-16    59.0\n",
       "2010-02-17    65.0\n",
       "2010-02-18    63.0\n",
       "2010-02-19    60.0\n",
       "2010-02-20    63.0\n",
       "2010-02-21    65.0\n",
       "2010-02-22    63.0\n",
       "2010-02-23    62.0\n",
       "2010-02-24    61.0\n",
       "2010-02-25    64.0\n",
       "2010-02-26    71.0\n",
       "2010-02-27    68.0\n",
       "2010-02-28    66.0\n",
       "Name: tobs, dtype: float64"
      ]
     },
     "execution_count": 581,
     "metadata": {},
     "output_type": "execute_result"
    }
   ],
   "source": [
    "min_temp= temp_results_df['tobs'].groupby(temp_results_df['date']).min()\n",
    "min_temp"
   ]
  },
  {
   "cell_type": "code",
   "execution_count": 582,
   "metadata": {},
   "outputs": [
    {
     "data": {
      "text/plain": [
       "date\n",
       "2010-02-15    73.0\n",
       "2010-02-16    74.0\n",
       "2010-02-17    69.0\n",
       "2010-02-18    68.0\n",
       "2010-02-19    63.0\n",
       "2010-02-20    74.0\n",
       "2010-02-21    69.0\n",
       "2010-02-22    67.0\n",
       "2010-02-23    71.0\n",
       "2010-02-24    72.0\n",
       "2010-02-25    76.0\n",
       "2010-02-26    75.0\n",
       "2010-02-27    75.0\n",
       "2010-02-28    70.0\n",
       "Name: tobs, dtype: float64"
      ]
     },
     "execution_count": 582,
     "metadata": {},
     "output_type": "execute_result"
    }
   ],
   "source": [
    "max_temp= temp_results_df['tobs'].groupby(temp_results_df['date']).max()\n",
    "max_temp"
   ]
  },
  {
   "cell_type": "code",
   "execution_count": 583,
   "metadata": {},
   "outputs": [
    {
     "data": {
      "text/plain": [
       "date\n",
       "2010-02-15    71.714286\n",
       "2010-02-16    65.000000\n",
       "2010-02-17    67.714286\n",
       "2010-02-18    66.000000\n",
       "2010-02-19    62.000000\n",
       "2010-02-20    68.000000\n",
       "2010-02-21    67.000000\n",
       "2010-02-22    64.600000\n",
       "2010-02-23    65.333333\n",
       "2010-02-24    64.285714\n",
       "2010-02-25    69.571429\n",
       "2010-02-26    72.833333\n",
       "2010-02-27    71.500000\n",
       "2010-02-28    68.000000\n",
       "Name: tobs, dtype: float64"
      ]
     },
     "execution_count": 583,
     "metadata": {},
     "output_type": "execute_result"
    }
   ],
   "source": [
    "average_temp= temp_results_df['tobs'].groupby(temp_results_df['date']).mean()\n",
    "average_temp"
   ]
  },
  {
   "cell_type": "code",
   "execution_count": 584,
   "metadata": {},
   "outputs": [
    {
     "data": {
      "text/plain": [
       "Index(['2010-02-15', '2010-02-16', '2010-02-17', '2010-02-18', '2010-02-19',\n",
       "       '2010-02-20', '2010-02-21', '2010-02-22', '2010-02-23', '2010-02-24',\n",
       "       '2010-02-25', '2010-02-26', '2010-02-27', '2010-02-28'],\n",
       "      dtype='object', name='date')"
      ]
     },
     "execution_count": 584,
     "metadata": {},
     "output_type": "execute_result"
    }
   ],
   "source": [
    "yeardate = average_temp.keys()\n",
    "yeardate"
   ]
  },
  {
   "cell_type": "code",
   "execution_count": null,
   "metadata": {},
   "outputs": [],
   "source": [
    "###Plot the min, avg, and max temperature from your previous query as a bar chart.\n"
   ]
  },
  {
   "cell_type": "code",
   "execution_count": 587,
   "metadata": {},
   "outputs": [
    {
     "data": {
      "text/html": [
       "<iframe id=\"igraph\" scrolling=\"no\" style=\"border:none;\" seamless=\"seamless\" src=\"https://plot.ly/~yamini/393.embed\" height=\"525px\" width=\"100%\"></iframe>"
      ],
      "text/plain": [
       "<plotly.tools.PlotlyDisplay object>"
      ]
     },
     "execution_count": 587,
     "metadata": {},
     "output_type": "execute_result"
    }
   ],
   "source": [
    "trace1 = go.Scatter(\n",
    "    x= yeardate,\n",
    "    y=min_temp,\n",
    "    name='min_temp',\n",
    "    marker=dict(color='rgb(158,202,225)')\n",
    ")\n",
    "trace2 = go.Scatter(\n",
    "    x=yeardate,\n",
    "    y=max_temp,\n",
    "    \n",
    "    name='max_temp',\n",
    "    marker=dict(color='rgb(153, 204, 255)')\n",
    ")\n",
    "trace3 = go.Scatter(\n",
    "    x=yeardate,\n",
    "    y=average_temp,\n",
    "    \n",
    "    name='average_temp',\n",
    "    marker=dict(color='rgb(148, 103, 189)')\n",
    ")\n",
    "\n",
    "data = [trace1, trace2,trace3]\n",
    "layout = go.Layout(\n",
    "    title='Temparature Statics vs Month',\n",
    "    xaxis = dict(title='Dates'),\n",
    "    yaxis=dict(\n",
    "        title='Temparature'\n",
    "    ),\n",
    "   \n",
    "    )\n",
    "\n",
    "\n",
    "fig = go.Figure(data=data, layout=layout)\n",
    "py.iplot(fig)\n"
   ]
  },
  {
   "cell_type": "code",
   "execution_count": null,
   "metadata": {},
   "outputs": [],
   "source": [
    "##* Use the average temperature as the bar height."
   ]
  },
  {
   "cell_type": "code",
   "execution_count": null,
   "metadata": {},
   "outputs": [],
   "source": []
  },
  {
   "cell_type": "raw",
   "metadata": {
    "scrolled": true
   },
   "source": []
  },
  {
   "cell_type": "code",
   "execution_count": 598,
   "metadata": {},
   "outputs": [
    {
     "data": {
      "text/html": [
       "<iframe id=\"igraph\" scrolling=\"no\" style=\"border:none;\" seamless=\"seamless\" src=\"https://plot.ly/~yamini/407.embed\" height=\"525px\" width=\"100%\"></iframe>"
      ],
      "text/plain": [
       "<plotly.tools.PlotlyDisplay object>"
      ]
     },
     "execution_count": 598,
     "metadata": {},
     "output_type": "execute_result"
    }
   ],
   "source": [
    "prcp_plot= go.Box(y = average_temp,\n",
    "                   marker=dict(color='rgb(158,202,225)'))\n",
    "layout = dict(title = 'Trip Average Temparature',\n",
    "              xaxis = dict(title = 'date'),\n",
    "              yaxis = dict(title = 'avg_temp'),\n",
    "              )\n",
    "data = [prcp_plot]\n",
    "fig = dict(data=data,layout=layout)\n",
    "py.iplot(fig)"
   ]
  },
  {
   "cell_type": "code",
   "execution_count": null,
   "metadata": {},
   "outputs": [],
   "source": [
    "############### STATION ANALYSIS ###############"
   ]
  },
  {
   "cell_type": "code",
   "execution_count": 367,
   "metadata": {},
   "outputs": [
    {
     "data": {
      "text/plain": [
       "[(9)]"
      ]
     },
     "execution_count": 367,
     "metadata": {},
     "output_type": "execute_result"
    }
   ],
   "source": [
    "# **** Design a query to calculate the total number of stations.\n",
    "count_station =session.query(func.count(ST.station)).all()\n",
    "count_station"
   ]
  },
  {
   "cell_type": "code",
   "execution_count": null,
   "metadata": {},
   "outputs": [],
   "source": [
    "# * Design a query to find the most active stations."
   ]
  },
  {
   "cell_type": "code",
   "execution_count": 510,
   "metadata": {},
   "outputs": [
    {
     "data": {
      "text/plain": [
       "[(2772, 'WAIHEE 837.5, HI US')]"
      ]
     },
     "execution_count": 510,
     "metadata": {},
     "output_type": "execute_result"
    }
   ],
   "source": [
    "active_station = session.query(func.count(ME.station),ST.name).\\\n",
    "                 filter(ME.station =='USC00519281').\\\n",
    "                 filter(ME.station == ST.station).all()\n",
    "active_station\n",
    "#sel = [ST.name,ME.station]\n",
    "#max_station = session.query(func.max(ME.station),ST.name).\\\n",
    "              #filter(ME.station==ST.station).all()\n",
    "#max_station"
   ]
  },
  {
   "cell_type": "code",
   "execution_count": 414,
   "metadata": {},
   "outputs": [],
   "source": [
    "#def count_station(station):\n",
    "  #  count_station1 = session.query(func.count(station)).\\\n",
    "                  #   filter(ME.station ==station).all()\n",
    "    #print(count_station1 )   "
   ]
  },
  {
   "cell_type": "code",
   "execution_count": 462,
   "metadata": {},
   "outputs": [],
   "source": [
    "from sqlalchemy import desc"
   ]
  },
  {
   "cell_type": "code",
   "execution_count": 463,
   "metadata": {},
   "outputs": [
    {
     "name": "stdout",
     "output_type": "stream",
     "text": [
      "[(2696, 'KANEOHE 838.1, HI US', 'USC00513117')]\n",
      "[(1932, 'HONOLULU OBSERVATORY 702.2, HI US', 'USC00511918')]\n",
      "[(2685, 'WAIKIKI 717.2, HI US', 'USC00519397')]\n",
      "[(1937, 'KUALOA RANCH HEADQUARTERS 886.9, HI US', 'USC00514830')]\n",
      "[(683, 'PEARL CITY, HI US', 'USC00517948')]\n",
      "[(342, 'UPPER WAHIAWA 874.3, HI US', 'USC00518838')]\n",
      "[(2572, 'WAIMANALO EXPERIMENTAL FARM, HI US', 'USC00519523')]\n",
      "[(2772, 'WAIHEE 837.5, HI US', 'USC00519281')]\n",
      "[(2484, 'MANOA LYON ARBO 785.2, HI US', 'USC00516128')]\n"
     ]
    }
   ],
   "source": [
    "############# List the stations and observation counts in descending order###################\n",
    "list2 = ['USC00513117','USC00511918','USC00519397','USC00514830','USC00517948','USC00518838','USC00519523',\n",
    "         'USC00519281','USC00516128']\n",
    "for x,val in enumerate(list2):\n",
    "    res = session.query(func.count(ME.station),ST.name,ME.station).\\\n",
    "          filter(ME.station == list2[x]).\\\n",
    "          filter(ME.station == ST.station).\\\n",
    "            order_by(func.count(ME.station).desc()).all()\n",
    "    print(res )     "
   ]
  },
  {
   "cell_type": "code",
   "execution_count": 513,
   "metadata": {},
   "outputs": [
    {
     "name": "stdout",
     "output_type": "stream",
     "text": [
      "[(2772, 'USC00519281')]\n"
     ]
    }
   ],
   "source": [
    "#####* * Which station has the highest number of observations?.######\n",
    "\n",
    "station_high_observations = session.query(func.count(ME.station),ME.station).\\\n",
    "                            group_by(ME.station).\\\n",
    "                            having(func.count(ME.station)>2700).all()\n",
    "       #filter(ME.station>= 2500).all()\n",
    "        #filter(ME.station == ST.station).all()\n",
    "print(station_high_observations)"
   ]
  },
  {
   "cell_type": "code",
   "execution_count": 450,
   "metadata": {},
   "outputs": [
    {
     "data": {
      "text/plain": [
       "[(18103)]"
      ]
     },
     "execution_count": 450,
     "metadata": {},
     "output_type": "execute_result"
    }
   ],
   "source": [
    " \n",
    "total = session.query(func.count(ME.station)).all()\n",
    "total"
   ]
  },
  {
   "cell_type": "code",
   "execution_count": 467,
   "metadata": {},
   "outputs": [
    {
     "data": {
      "text/plain": [
       "('2017-08-23')"
      ]
     },
     "execution_count": 467,
     "metadata": {},
     "output_type": "execute_result"
    }
   ],
   "source": [
    "##* to get the last data point in file\n",
    "mk = session.query(ME.date).order_by(ME.date.desc()).first() \n",
    "mk"
   ]
  },
  {
   "cell_type": "code",
   "execution_count": 514,
   "metadata": {},
   "outputs": [],
   "source": [
    "# * * Design a query to retrieve the last 12 months of temperature observation data (tobs).\n",
    "tob_12= session.query(ME.date,ME.tobs).\\\n",
    "         filter((ME.date >='2016-08-23') & (ME.date <='2017-08-23')).\\\n",
    "            order_by(ME.date).all()\n",
    "#date_08        "
   ]
  },
  {
   "cell_type": "code",
   "execution_count": 515,
   "metadata": {},
   "outputs": [
    {
     "data": {
      "text/html": [
       "<div>\n",
       "<style scoped>\n",
       "    .dataframe tbody tr th:only-of-type {\n",
       "        vertical-align: middle;\n",
       "    }\n",
       "\n",
       "    .dataframe tbody tr th {\n",
       "        vertical-align: top;\n",
       "    }\n",
       "\n",
       "    .dataframe thead th {\n",
       "        text-align: right;\n",
       "    }\n",
       "</style>\n",
       "<table border=\"1\" class=\"dataframe\">\n",
       "  <thead>\n",
       "    <tr style=\"text-align: right;\">\n",
       "      <th></th>\n",
       "      <th>date</th>\n",
       "      <th>tobs</th>\n",
       "    </tr>\n",
       "  </thead>\n",
       "  <tbody>\n",
       "    <tr>\n",
       "      <th>0</th>\n",
       "      <td>2016-08-23</td>\n",
       "      <td>81.0</td>\n",
       "    </tr>\n",
       "    <tr>\n",
       "      <th>1</th>\n",
       "      <td>2016-08-23</td>\n",
       "      <td>76.0</td>\n",
       "    </tr>\n",
       "    <tr>\n",
       "      <th>2</th>\n",
       "      <td>2016-08-23</td>\n",
       "      <td>80.0</td>\n",
       "    </tr>\n",
       "    <tr>\n",
       "      <th>3</th>\n",
       "      <td>2016-08-23</td>\n",
       "      <td>80.0</td>\n",
       "    </tr>\n",
       "    <tr>\n",
       "      <th>4</th>\n",
       "      <td>2016-08-23</td>\n",
       "      <td>77.0</td>\n",
       "    </tr>\n",
       "  </tbody>\n",
       "</table>\n",
       "</div>"
      ],
      "text/plain": [
       "         date  tobs\n",
       "0  2016-08-23  81.0\n",
       "1  2016-08-23  76.0\n",
       "2  2016-08-23  80.0\n",
       "3  2016-08-23  80.0\n",
       "4  2016-08-23  77.0"
      ]
     },
     "execution_count": 515,
     "metadata": {},
     "output_type": "execute_result"
    }
   ],
   "source": [
    "tob_12_df = pd.DataFrame(tob_12)\n",
    "tob_12_df.head()"
   ]
  },
  {
   "cell_type": "code",
   "execution_count": null,
   "metadata": {},
   "outputs": [],
   "source": [
    "#####* Filter by the station with the highest number of observations.######"
   ]
  },
  {
   "cell_type": "code",
   "execution_count": null,
   "metadata": {},
   "outputs": [],
   "source": [
    "#####* Filter by the station with the highest number of observations.######\n",
    "\n",
    "high_observations = session.query(func.count(ME.station),ME.station).\\\n",
    "       group_by(ME.station).\\\n",
    "       having(func.count(ME.station)>2500).all()\n",
    "       #filter(ME.station>= 2500).all()\n",
    "        #filter(ME.station == ST.station).all()\n",
    "print(high_observations) "
   ]
  },
  {
   "cell_type": "code",
   "execution_count": null,
   "metadata": {},
   "outputs": [],
   "source": [
    "####### * Plot the results as a histogram with `bins=12`."
   ]
  },
  {
   "cell_type": "code",
   "execution_count": 593,
   "metadata": {},
   "outputs": [
    {
     "data": {
      "text/html": [
       "<iframe id=\"igraph\" scrolling=\"no\" style=\"border:none;\" seamless=\"seamless\" src=\"https://plot.ly/~yamini/397.embed\" height=\"525px\" width=\"100%\"></iframe>"
      ],
      "text/plain": [
       "<plotly.tools.PlotlyDisplay object>"
      ]
     },
     "execution_count": 593,
     "metadata": {},
     "output_type": "execute_result"
    }
   ],
   "source": [
    "data = [go.Histogram(x=tob_12_df['tobs'],\n",
    "                     histnorm='frequency')]\n",
    "layout = go.Layout(\n",
    "    title='Temparature_histogram',\n",
    "    xaxis = dict(title='Temparature'),\n",
    "    yaxis=dict(\n",
    "        title='Frequency'\n",
    "    ))\n",
    "fig = go.Figure(data=data, layout=layout)\n",
    "py.iplot(fig)"
   ]
  },
  {
   "cell_type": "code",
   "execution_count": null,
   "metadata": {},
   "outputs": [],
   "source": [
    " "
   ]
  }
 ],
 "metadata": {
  "kernelspec": {
   "display_name": "Python [conda env:pythondata]",
   "language": "python",
   "name": "conda-env-pythondata-py"
  },
  "language_info": {
   "codemirror_mode": {
    "name": "ipython",
    "version": 3
   },
   "file_extension": ".py",
   "mimetype": "text/x-python",
   "name": "python",
   "nbconvert_exporter": "python",
   "pygments_lexer": "ipython3",
   "version": "3.6.4"
  }
 },
 "nbformat": 4,
 "nbformat_minor": 2
}
