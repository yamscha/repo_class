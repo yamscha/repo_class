{
 "cells": [
  {
   "cell_type": "code",
   "execution_count": null,
   "metadata": {},
   "outputs": [],
   "source": [
    "list2 =['2017-01-01','2017-02-01','2017-03-01','2017-04-21','2017-05-01','2017-06-01','2017-07-01','2017-08-01']\n",
    "final_list2 =[]\n",
    "date_prcp = []\n",
    "total_prcp =[]\n",
    "for x,val in enumerate(list2):\n",
    "    result_all = session.query(ME.date,func.sum(ME.prcp)).\\\n",
    "              filter(ME.date == list2[x]).\\\n",
    "              order_by(ME.date).all()\n",
    "    #print(result_all) \n",
    "    #final_list.append(result_all)        \n",
    "    for i in result_all:\n",
    "        date = i[0]\n",
    "        total = i[1]\n",
    "        date_prcp.append(date)\n",
    "        total_prcp.append(total)\n",
    "        "
   ]
  },
  {
   "cell_type": "code",
   "execution_count": null,
   "metadata": {},
   "outputs": [],
   "source": [
    "list_to_dict = {'date':date_prcp,\n",
    "                'total_prcp':total_prcp}"
   ]
  },
  {
   "cell_type": "code",
   "execution_count": null,
   "metadata": {},
   "outputs": [],
   "source": [
    "prcp_tot_df = pd.DataFrame(list_to_dict)\n",
    "prcp_tot_df"
   ]
  },
  {
   "cell_type": "code",
   "execution_count": null,
   "metadata": {},
   "outputs": [],
   "source": [
    "reset_df=pd.DataFrame(df_mydict).set_index('date')\n",
    "reset_df.head()"
   ]
  },
  {
   "cell_type": "code",
   "execution_count": null,
   "metadata": {},
   "outputs": [],
   "source": [
    "#prcp_mean = prcp_df.groupby(['date'])['prcp'].sum()\n",
    "#prcp_mean"
   ]
  },
  {
   "cell_type": "code",
   "execution_count": null,
   "metadata": {},
   "outputs": [],
   "source": [
    "frames = [result1_df, result2_df]"
   ]
  },
  {
   "cell_type": "code",
   "execution_count": null,
   "metadata": {},
   "outputs": [],
   "source": [
    "re = pd.concat(frames)\n",
    "re_set=re.set_index('date')\n",
    "#re_set"
   ]
  },
  {
   "cell_type": "code",
   "execution_count": null,
   "metadata": {},
   "outputs": [],
   "source": [
    "all_total = re_set.groupby(['date'])['prcp'].sum()\n",
    "all_total"
   ]
  }
 ],
 "metadata": {
  "kernelspec": {
   "display_name": "Python [conda env:pythondata]",
   "language": "python",
   "name": "conda-env-pythondata-py"
  },
  "language_info": {
   "codemirror_mode": {
    "name": "ipython",
    "version": 3
   },
   "file_extension": ".py",
   "mimetype": "text/x-python",
   "name": "python",
   "nbconvert_exporter": "python",
   "pygments_lexer": "ipython3",
   "version": "3.6.4"
  }
 },
 "nbformat": 4,
 "nbformat_minor": 2
}
