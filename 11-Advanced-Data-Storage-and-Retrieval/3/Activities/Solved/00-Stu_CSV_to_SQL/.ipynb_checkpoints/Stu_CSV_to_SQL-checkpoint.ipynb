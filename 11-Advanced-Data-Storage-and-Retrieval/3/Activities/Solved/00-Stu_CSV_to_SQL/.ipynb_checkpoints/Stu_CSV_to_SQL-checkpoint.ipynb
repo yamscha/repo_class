{
 "cells": [
  {
   "cell_type": "code",
   "execution_count": 1,
   "metadata": {
    "collapsed": true
   },
   "outputs": [],
   "source": [
    "!rm demographics.sqlite cleaned_csv.csv"
   ]
  },
  {
   "cell_type": "code",
   "execution_count": 2,
   "metadata": {
    "collapsed": true
   },
   "outputs": [],
   "source": [
    "import pandas as pd\n",
    "import numpy as np\n",
    "import os"
   ]
  },
  {
   "cell_type": "code",
   "execution_count": 3,
   "metadata": {
    "collapsed": true
   },
   "outputs": [],
   "source": [
    "# CSV file\n",
    "csvfile = \"demographics.csv\""
   ]
  },
  {
   "cell_type": "code",
   "execution_count": 4,
   "metadata": {
    "collapsed": true,
    "nbgrader": {
     "grade": false,
     "grade_id": "cell-1756496f1ac57a06",
     "locked": false,
     "schema_version": 1,
     "solution": true
    }
   },
   "outputs": [],
   "source": [
    "# Read CSV file into a pandas DataFrame\n",
    "### BEGIN SOLUTION\n",
    "df = pd.read_csv(csvfile, dtype=object)\n",
    "### END SOLUTION"
   ]
  },
  {
   "cell_type": "code",
   "execution_count": 5,
   "metadata": {
    "collapsed": true,
    "nbgrader": {
     "grade": false,
     "grade_id": "cell-8fca0dd11221aafd",
     "locked": false,
     "schema_version": 1,
     "solution": true
    }
   },
   "outputs": [],
   "source": [
    "# Use `dropna` to drop any rows where there is missing data\n",
    "### BEGIN SOLUTION\n",
    "df = df.dropna(axis=0)\n",
    "### END SOLUTION"
   ]
  },
  {
   "cell_type": "code",
   "execution_count": 6,
   "metadata": {
    "nbgrader": {
     "grade": false,
     "grade_id": "cell-51f491a7ae7a6a50",
     "locked": false,
     "schema_version": 1,
     "solution": true
    }
   },
   "outputs": [
    {
     "data": {
      "text/html": [
       "<div>\n",
       "<style>\n",
       "    .dataframe thead tr:only-child th {\n",
       "        text-align: right;\n",
       "    }\n",
       "\n",
       "    .dataframe thead th {\n",
       "        text-align: left;\n",
       "    }\n",
       "\n",
       "    .dataframe tbody tr th {\n",
       "        vertical-align: top;\n",
       "    }\n",
       "</style>\n",
       "<table border=\"1\" class=\"dataframe\">\n",
       "  <thead>\n",
       "    <tr style=\"text-align: right;\">\n",
       "      <th></th>\n",
       "      <th>id</th>\n",
       "      <th>name</th>\n",
       "      <th>age</th>\n",
       "      <th>height_meter</th>\n",
       "      <th>weight_kg</th>\n",
       "      <th>children</th>\n",
       "      <th>occupation</th>\n",
       "      <th>academic_degree</th>\n",
       "      <th>salary</th>\n",
       "      <th>location</th>\n",
       "    </tr>\n",
       "  </thead>\n",
       "  <tbody>\n",
       "    <tr>\n",
       "      <th>0</th>\n",
       "      <td>0</td>\n",
       "      <td>Darlena Avila</td>\n",
       "      <td>58</td>\n",
       "      <td>1.87</td>\n",
       "      <td>53</td>\n",
       "      <td>1</td>\n",
       "      <td>Choreographer</td>\n",
       "      <td>PhD</td>\n",
       "      <td>68</td>\n",
       "      <td>South Dakota</td>\n",
       "    </tr>\n",
       "    <tr>\n",
       "      <th>1</th>\n",
       "      <td>1</td>\n",
       "      <td>Yan Boyd</td>\n",
       "      <td>65</td>\n",
       "      <td>1.80</td>\n",
       "      <td>40</td>\n",
       "      <td>0</td>\n",
       "      <td>Cellarman</td>\n",
       "      <td>Bachelor</td>\n",
       "      <td>73</td>\n",
       "      <td>Delaware</td>\n",
       "    </tr>\n",
       "    <tr>\n",
       "      <th>2</th>\n",
       "      <td>2</td>\n",
       "      <td>Joette Lane</td>\n",
       "      <td>32</td>\n",
       "      <td>1.80</td>\n",
       "      <td>73</td>\n",
       "      <td>1</td>\n",
       "      <td>Veterinary Surgeon</td>\n",
       "      <td>Master</td>\n",
       "      <td>69</td>\n",
       "      <td>South Dakota</td>\n",
       "    </tr>\n",
       "    <tr>\n",
       "      <th>3</th>\n",
       "      <td>3</td>\n",
       "      <td>Jazmine Hunt</td>\n",
       "      <td>61</td>\n",
       "      <td>1.79</td>\n",
       "      <td>89</td>\n",
       "      <td>0</td>\n",
       "      <td>Hawker</td>\n",
       "      <td>PhD</td>\n",
       "      <td>88</td>\n",
       "      <td>Louisiana</td>\n",
       "    </tr>\n",
       "    <tr>\n",
       "      <th>4</th>\n",
       "      <td>4</td>\n",
       "      <td>Remedios Gomez</td>\n",
       "      <td>23</td>\n",
       "      <td>1.64</td>\n",
       "      <td>51</td>\n",
       "      <td>2</td>\n",
       "      <td>Choreographer</td>\n",
       "      <td>Bachelor</td>\n",
       "      <td>83</td>\n",
       "      <td>West Virginia</td>\n",
       "    </tr>\n",
       "  </tbody>\n",
       "</table>\n",
       "</div>"
      ],
      "text/plain": [
       "  id            name age height_meter weight_kg children          occupation  \\\n",
       "0  0   Darlena Avila  58         1.87        53        1       Choreographer   \n",
       "1  1        Yan Boyd  65         1.80        40        0           Cellarman   \n",
       "2  2     Joette Lane  32         1.80        73        1  Veterinary Surgeon   \n",
       "3  3    Jazmine Hunt  61         1.79        89        0              Hawker   \n",
       "4  4  Remedios Gomez  23         1.64        51        2       Choreographer   \n",
       "\n",
       "  academic_degree salary       location  \n",
       "0             PhD     68   South Dakota  \n",
       "1        Bachelor     73       Delaware  \n",
       "2          Master     69   South Dakota  \n",
       "3             PhD     88      Louisiana  \n",
       "4        Bachelor     83  West Virginia  "
      ]
     },
     "execution_count": 6,
     "metadata": {},
     "output_type": "execute_result"
    }
   ],
   "source": [
    "# Drop the `name` column and reset the index\n",
    "### BEGIN SOLUTION\n",
    "df.drop(['name'], axis=1).reset_index(drop=True)\n",
    "df.head()\n",
    "### END SOLUTION"
   ]
  },
  {
   "cell_type": "code",
   "execution_count": 7,
   "metadata": {
    "collapsed": true,
    "nbgrader": {
     "grade": false,
     "grade_id": "cell-d4d93ab46f0c4c50",
     "locked": false,
     "schema_version": 1,
     "solution": true
    }
   },
   "outputs": [],
   "source": [
    "# Save the cleaned data to a file called `cleaned_demographics.csv`\n",
    "### BEGIN SOLUTION\n",
    "clean_data = \"cleaned_csv.csv\"\n",
    "df.to_csv(clean_data, index=False)\n",
    "### END SOLUTION"
   ]
  },
  {
   "cell_type": "code",
   "execution_count": 8,
   "metadata": {
    "collapsed": true
   },
   "outputs": [],
   "source": [
    "# Python SQL toolkit and Object Relational Mapper\n",
    "import sqlalchemy\n",
    "from sqlalchemy import create_engine, MetaData\n",
    "from sqlalchemy.ext.declarative import declarative_base\n",
    "from sqlalchemy import Column, Integer, String, Numeric, Text, Float"
   ]
  },
  {
   "cell_type": "code",
   "execution_count": 9,
   "metadata": {
    "collapsed": true,
    "nbgrader": {
     "grade": false,
     "grade_id": "cell-98f2e4153eb825b9",
     "locked": false,
     "schema_version": 1,
     "solution": true
    }
   },
   "outputs": [],
   "source": [
    "# Create an engine to a database file called `demographics.sqlite`\n",
    "### BEGIN SOLUTION\n",
    "engine = create_engine(\"sqlite:///demographics.sqlite\")\n",
    "### END SOLUTION"
   ]
  },
  {
   "cell_type": "code",
   "execution_count": 10,
   "metadata": {
    "collapsed": true,
    "nbgrader": {
     "grade": false,
     "grade_id": "cell-2ed864b6e4573e59",
     "locked": false,
     "schema_version": 1,
     "solution": true
    }
   },
   "outputs": [],
   "source": [
    "# Create a connection to the engine called `conn`\n",
    "### BEGIN SOLUTION\n",
    "conn = engine.connect()\n",
    "### END SOLUTION"
   ]
  },
  {
   "cell_type": "code",
   "execution_count": 11,
   "metadata": {
    "collapsed": true
   },
   "outputs": [],
   "source": [
    "# Use `declarative_base` from SQLAlchemy to model the demographics table as an ORM class\n",
    "# Make sure to specify types for each column\n",
    "\n",
    "Base = declarative_base()\n",
    "\n",
    "class Demographics(Base):\n",
    "    __tablename__ = 'demographics'\n",
    "\n",
    "    id = Column(Integer, primary_key=True)\n",
    "    age = Column(Integer)\n",
    "    name = Column(Text)\n",
    "    height_meter = Column(Float)\n",
    "    weight_kg = Column(Float)\n",
    "    children = Column(Integer)\n",
    "    occupation = Column(Text)\n",
    "    academic_degree = Column(Text)\n",
    "    salary = Column(Integer)\n",
    "    location = Column(Text)\n",
    "\n",
    "    def __repr__(self):\n",
    "        return f\"id={self.id}, name={self.name}\""
   ]
  },
  {
   "cell_type": "code",
   "execution_count": 12,
   "metadata": {
    "collapsed": true,
    "nbgrader": {
     "grade": false,
     "grade_id": "cell-d59cd212c9242236",
     "locked": false,
     "schema_version": 1,
     "solution": true
    }
   },
   "outputs": [],
   "source": [
    "# Use `create_all` to create the demographics table in the database\n",
    "### BEGIN SOLUTION\n",
    "Base.metadata.create_all(engine)\n",
    "### END SOLUTION"
   ]
  },
  {
   "cell_type": "code",
   "execution_count": 13,
   "metadata": {
    "collapsed": true,
    "nbgrader": {
     "grade": false,
     "grade_id": "cell-7a708f12942ebf82",
     "locked": false,
     "schema_version": 1,
     "solution": true
    }
   },
   "outputs": [],
   "source": [
    "# Load the cleaned csv file into a pandas dataframe\n",
    "### BEGIN SOLUTION\n",
    "df_of_data_to_insert = pd.read_csv(clean_data)\n",
    "### END SOLUTION"
   ]
  },
  {
   "cell_type": "code",
   "execution_count": 14,
   "metadata": {
    "nbgrader": {
     "grade": false,
     "grade_id": "cell-2e4e9070e9d7731e",
     "locked": false,
     "schema_version": 1,
     "solution": true
    }
   },
   "outputs": [
    {
     "data": {
      "text/plain": [
       "{'academic_degree': 'PhD',\n",
       " 'age': 58,\n",
       " 'children': 1,\n",
       " 'height_meter': 1.87,\n",
       " 'id': 0,\n",
       " 'location': 'South Dakota',\n",
       " 'name': 'Darlena Avila',\n",
       " 'occupation': 'Choreographer',\n",
       " 'salary': 68,\n",
       " 'weight_kg': 53}"
      ]
     },
     "execution_count": 14,
     "metadata": {},
     "output_type": "execute_result"
    }
   ],
   "source": [
    "# Use Orient='records' to create a list of data to write\n",
    "# http://pandas-docs.github.io/pandas-docs-travis/io.html#orient-options\n",
    "### BEGIN SOLUTION\n",
    "data = df_of_data_to_insert.to_dict(orient='records')\n",
    "data[0]\n",
    "### END SOLUTION"
   ]
  },
  {
   "cell_type": "code",
   "execution_count": 15,
   "metadata": {
    "collapsed": true,
    "nbgrader": {
     "grade": false,
     "grade_id": "cell-9a0a95e483231aff",
     "locked": false,
     "schema_version": 1,
     "solution": true
    }
   },
   "outputs": [],
   "source": [
    "# Use MetaData from SQLAlchemy to reflect the tables\n",
    "### BEGIN SOLUTION\n",
    "metadata = MetaData(bind=engine)\n",
    "metadata.reflect()\n",
    "### END SOLUTION"
   ]
  },
  {
   "cell_type": "code",
   "execution_count": 16,
   "metadata": {
    "collapsed": true,
    "nbgrader": {
     "grade": false,
     "grade_id": "cell-aa99bd37e7312721",
     "locked": false,
     "schema_version": 1,
     "solution": true
    }
   },
   "outputs": [],
   "source": [
    "# Save the reference to the `demographics` table as a variable called `table`\n",
    "### BEGIN SOLUTION\n",
    "table = sqlalchemy.Table('demographics', metadata, autoload=True)\n",
    "### END SOLUTION"
   ]
  },
  {
   "cell_type": "code",
   "execution_count": 17,
   "metadata": {
    "nbgrader": {
     "grade": false,
     "grade_id": "cell-d14de7e133e456df",
     "locked": false,
     "schema_version": 1,
     "solution": true
    }
   },
   "outputs": [
    {
     "data": {
      "text/plain": [
       "<sqlalchemy.engine.result.ResultProxy at 0x117e27b38>"
      ]
     },
     "execution_count": 17,
     "metadata": {},
     "output_type": "execute_result"
    }
   ],
   "source": [
    "# Use `table.delete()` to remove any existing data.\n",
    "# Note that this is a convenience function so that you can re-run the example code multiple times.\n",
    "# You would not likely do this step in production.\n",
    "### BEGIN SOLUTION\n",
    "conn.execute(table.delete())\n",
    "### END SOLUTION"
   ]
  },
  {
   "cell_type": "code",
   "execution_count": 18,
   "metadata": {
    "nbgrader": {
     "grade": false,
     "grade_id": "cell-aa692b86da935657",
     "locked": false,
     "schema_version": 1,
     "solution": true
    }
   },
   "outputs": [
    {
     "data": {
      "text/plain": [
       "<sqlalchemy.engine.result.ResultProxy at 0x10e04dc50>"
      ]
     },
     "execution_count": 18,
     "metadata": {},
     "output_type": "execute_result"
    }
   ],
   "source": [
    "# Use `table.insert()` to insert the data into the table\n",
    "### BEGIN SOLUTION\n",
    "conn.execute(table.insert(), data)\n",
    "### END SOLUTION"
   ]
  },
  {
   "cell_type": "code",
   "execution_count": 19,
   "metadata": {},
   "outputs": [
    {
     "data": {
      "text/plain": [
       "[(0, 58, 'Darlena Avila', 1.87, 53.0, 1, 'Choreographer', 'PhD', 68, 'South Dakota'),\n",
       " (1, 65, 'Yan Boyd', 1.8, 40.0, 0, 'Cellarman', 'Bachelor', 73, 'Delaware'),\n",
       " (2, 32, 'Joette Lane', 1.8, 73.0, 1, 'Veterinary Surgeon', 'Master', 69, 'South Dakota'),\n",
       " (3, 61, 'Jazmine Hunt', 1.79, 89.0, 0, 'Hawker', 'PhD', 88, 'Louisiana'),\n",
       " (4, 23, 'Remedios Gomez', 1.64, 51.0, 2, 'Choreographer', 'Bachelor', 83, 'West Virginia')]"
      ]
     },
     "execution_count": 19,
     "metadata": {},
     "output_type": "execute_result"
    }
   ],
   "source": [
    "# Test that the insert works by fetching the first 5 rows. \n",
    "conn.execute(\"select * from demographics limit 5\").fetchall()"
   ]
  }
 ],
 "metadata": {
  "anaconda-cloud": {},
  "celltoolbar": "Create Assignment",
  "kernel_info": {
   "name": "python3"
  },
  "kernelspec": {
   "display_name": "Python [default]",
   "language": "python",
   "name": "python3"
  },
  "language_info": {
   "codemirror_mode": {
    "name": "ipython",
    "version": 3
   },
   "file_extension": ".py",
   "mimetype": "text/x-python",
   "name": "python",
   "nbconvert_exporter": "python",
   "pygments_lexer": "ipython3",
   "version": "3.6.4"
  },
  "nteract": {
   "version": "0.2.0"
  },
  "varInspector": {
   "cols": {
    "lenName": 16,
    "lenType": 16,
    "lenVar": 40
   },
   "kernels_config": {
    "python": {
     "delete_cmd_postfix": "",
     "delete_cmd_prefix": "del ",
     "library": "var_list.py",
     "varRefreshCmd": "print(var_dic_list())"
    },
    "r": {
     "delete_cmd_postfix": ") ",
     "delete_cmd_prefix": "rm(",
     "library": "var_list.r",
     "varRefreshCmd": "cat(var_dic_list()) "
    }
   },
   "types_to_exclude": [
    "module",
    "function",
    "builtin_function_or_method",
    "instance",
    "_Feature"
   ],
   "window_display": false
  }
 },
 "nbformat": 4,
 "nbformat_minor": 2
}
