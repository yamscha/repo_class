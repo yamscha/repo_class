{
 "cells": [
  {
   "cell_type": "code",
   "execution_count": 1,
   "metadata": {},
   "outputs": [],
   "source": [
    "from sqlalchemy import create_engine\n",
    "import pymysql\n",
    "pymysql.install_as_MySQLdb()\n",
    "\n",
    "from sqlalchemy.ext.declarative import declarative_base\n",
    "Base = declarative_base()\n",
    "from sqlalchemy import Column, Integer, String, Float\n",
    "\n",
    "from config import dbuser, dbpasswd, dburi, dbport, dbname"
   ]
  },
  {
   "cell_type": "code",
   "execution_count": 2,
   "metadata": {},
   "outputs": [],
   "source": [
    "from sqlalchemy import create_engine\n",
    "engine = create_engine(f\"mysql://{dbuser}:{dbpasswd}@{dburi}:{dbport}/{dbname}\",pool_size=10, max_overflow=20)\n",
    "Base.metadata.create_all(engine)"
   ]
  },
  {
   "cell_type": "code",
   "execution_count": 3,
   "metadata": {},
   "outputs": [],
   "source": [
    "from sqlalchemy.orm import Session\n",
    "session = Session(bind=engine)"
   ]
  },
  {
   "cell_type": "code",
   "execution_count": 4,
   "metadata": {
    "deletable": false,
    "nbgrader": {
     "checksum": "272368b77cc71254fcd63d37c986090e",
     "grade": false,
     "grade_id": "cell-c57d66be4b87f3dc",
     "locked": false,
     "schema_version": 1,
     "solution": true
    }
   },
   "outputs": [],
   "source": [
    "# create your shark class\n",
    "# YOUR CODE HERE\n",
    "class Sharks(Base):\n",
    "    __tablename__ = 'sharks'\n",
    "    id = Column(Integer, primary_key=True)\n",
    "    case_number = Column(String)\n",
    "    date = Column(String)\n",
    "    year = Column(Integer)\n",
    "    type = Column(String)\n",
    "    country = Column(String)\n",
    "    area = Column(String)\n",
    "    location= Column(String)\n",
    "    activity = Column(String)\n",
    "    name = Column(String)\n",
    "    sex = Column(String)\n",
    "    age = Column(Integer)\n",
    "    injury = Column(String)\n",
    "    fatal_y_n = Column(String)\n",
    "    time = Column(String)\n",
    "    species = Column(String)\n",
    "    investigator_or_source = Column(String)\n",
    "    pdf = Column(String)\n",
    "    original_order = Column(Integer)\n",
    "### END SOLUTION"
   ]
  },
  {
   "cell_type": "code",
   "execution_count": 5,
   "metadata": {
    "deletable": false,
    "nbgrader": {
     "checksum": "827e8537e30fd84c706b14b2040fccf2",
     "grade": false,
     "grade_id": "cell-48e2a351e977f8b6",
     "locked": false,
     "schema_version": 1,
     "solution": true
    }
   },
   "outputs": [
    {
     "name": "stdout",
     "output_type": "stream",
     "text": [
      "11-Jun-17\n",
      "10-Jun-17\n",
      "6-May-17\n",
      "28-Jul-16\n",
      "3-Apr-09\n",
      "27-Mar-09\n",
      "21-Mar-09\n",
      "20-Mar-09\n",
      "19-Mar-09\n",
      "19-Mar-09\n",
      "18-Mar-09\n",
      "17-Mar-09\n",
      "17-Mar-09\n",
      "16-Mar-09\n",
      "28-Jul-16\n",
      "6-Mar-09\n",
      "2-Mar-09\n",
      "1-Mar-09\n",
      "1-Mar-09\n",
      "22-Feb-09\n",
      "18-Feb-09\n",
      "12-Feb-09\n",
      "11-Feb-09\n",
      "8-Feb-09\n",
      "7-Feb-09\n",
      "27-Jul-16\n",
      "7-Feb-09\n",
      "27-Jan-09\n",
      "26-Jan-09\n",
      "25-Jan-09\n",
      "24-Jan-09\n",
      "24-Jan-09\n",
      "24-Jan-09\n",
      "23-Jan-09\n",
      "18-Jan-09\n",
      "16-Jan-09\n",
      "26-Jul-16\n",
      "13-Jan-09\n",
      "12-Jan-09\n",
      "11-Jan-09\n",
      "11-Jan-09\n",
      "10-Jan-09\n",
      "10-Jan-09\n",
      "6-Jan-09\n",
      "9-Jan\n",
      "30-Dec-08\n",
      "27-Dec-08\n",
      "24-Jul-16\n",
      "27-Dec-08\n",
      "27-Dec-08\n",
      "27-Dec-08\n",
      "20-Dec-08\n",
      "14-Dec-08\n",
      "10-Dec-08\n",
      "6-Dec-06\n",
      "8-Dec\n",
      "28-Nov-08\n",
      "25-Nov-08\n",
      "23-Jul-16\n",
      "24-Nov-08\n",
      "9-Nov-08\n",
      "9-Nov-08\n",
      "6-Nov-08\n",
      "22-Oct-08\n",
      "21-Oct-08\n",
      "12-Oct-08\n",
      "11-Oct-08\n",
      "8-Oct-08\n",
      "6-Oct-08\n",
      "23-Jul-16\n",
      "28-Sep-08\n",
      "28-Sep-08\n",
      "15-Sep-08\n",
      "14-Sep-08\n",
      "9-Sep-08\n",
      "8-Sep-08\n",
      "7-Sep-08\n",
      "6-Sep-08\n",
      "6-Sep-08\n",
      "1-Sep-08\n",
      "20-Jul-16\n",
      "8-Sep\n",
      "30-Aug-08\n",
      "30-Aug-08\n",
      "30-Aug-08\n",
      "28-Aug-08\n",
      "27-Aug-08\n",
      "24-Aug-08\n",
      "24-Aug-08\n",
      "20-Aug-08\n",
      "18-Aug-08\n",
      "17-Jul-16\n",
      "16-Aug-08\n",
      "12-Aug-08\n",
      "11-Aug-08\n",
      "30-Jul-08\n",
      "30-Jul-08\n",
      "27-Jul-08\n",
      "26-Jul-08\n",
      "26-Jul-08\n"
     ]
    }
   ],
   "source": [
    "# print all locations of shark attacks\n",
    "# YOUR CODE HERE\n",
    "attacks = session.query(Sharks) \n",
    "for attack in attacks:\n",
    "    print(attack.date)\n"
   ]
  },
  {
   "cell_type": "code",
   "execution_count": 6,
   "metadata": {
    "deletable": false,
    "nbgrader": {
     "checksum": "5da00f78964b8a2627e7955872b79cf2",
     "grade": false,
     "grade_id": "cell-33b12ba730e08a42",
     "locked": false,
     "schema_version": 1,
     "solution": true
    }
   },
   "outputs": [
    {
     "name": "stdout",
     "output_type": "stream",
     "text": [
      "12\n"
     ]
    }
   ],
   "source": [
    "# find the number of provoked attacks\n",
    "# YOUR CODE HERE\n",
    "provoked = session.query(Sharks).filter_by(type='provoked').count()\n",
    "print(provoked)"
   ]
  },
  {
   "cell_type": "code",
   "execution_count": null,
   "metadata": {
    "deletable": false,
    "nbgrader": {
     "checksum": "625cca75f2e3869d61a4d1bb6aaa862d",
     "grade": false,
     "grade_id": "cell-4b1293d38480400d",
     "locked": false,
     "schema_version": 1,
     "solution": true
    }
   },
   "outputs": [],
   "source": [
    "# find the number of attacks in USA\n",
    "# YOUR CODE HERE"
   ]
  },
  {
   "cell_type": "code",
   "execution_count": null,
   "metadata": {
    "deletable": false,
    "nbgrader": {
     "checksum": "5c44b8a34de6f5090552b1efa1c4d58e",
     "grade": false,
     "grade_id": "cell-5431c1fabaae9ed8",
     "locked": false,
     "schema_version": 1,
     "solution": true
    }
   },
   "outputs": [],
   "source": [
    "# find the number of attacks in 2017\n",
    "# YOUR CODE HERE"
   ]
  },
  {
   "cell_type": "code",
   "execution_count": null,
   "metadata": {
    "deletable": false,
    "nbgrader": {
     "checksum": "6fb8eae592cf139c082c6f77d42e00aa",
     "grade": false,
     "grade_id": "cell-4de2402e47fe0214",
     "locked": false,
     "schema_version": 1,
     "solution": true
    }
   },
   "outputs": [],
   "source": [
    "# find the number of attacks while surfing\n",
    "# YOUR CODE HERE"
   ]
  },
  {
   "cell_type": "code",
   "execution_count": null,
   "metadata": {
    "deletable": false,
    "nbgrader": {
     "checksum": "ac16e312f24b2a48fba9a384e600676f",
     "grade": false,
     "grade_id": "cell-9e2afa5b2f869a4f",
     "locked": false,
     "schema_version": 1,
     "solution": true
    }
   },
   "outputs": [],
   "source": [
    "# find the number of fatal attacks\n",
    "# YOUR CODE HERE"
   ]
  },
  {
   "cell_type": "code",
   "execution_count": null,
   "metadata": {
    "deletable": false,
    "nbgrader": {
     "checksum": "099a489efed7a5379e3b22a0997c9465",
     "grade": false,
     "grade_id": "cell-75819f28900a2e54",
     "locked": false,
     "schema_version": 1,
     "solution": true
    }
   },
   "outputs": [],
   "source": [
    "# find the number of fatal attacks while surfing\n",
    "# YOUR CODE HERE"
   ]
  },
  {
   "cell_type": "code",
   "execution_count": null,
   "metadata": {
    "deletable": false,
    "nbgrader": {
     "checksum": "7e93397023f1706df0f8bec0a433137b",
     "grade": false,
     "grade_id": "cell-ef68003cff255319",
     "locked": false,
     "schema_version": 1,
     "solution": true
    }
   },
   "outputs": [],
   "source": [
    "# find the number of fatal attacks in 2017 in Australia\n",
    "# YOUR CODE HERE"
   ]
  }
 ],
 "metadata": {
  "kernelspec": {
   "display_name": "Python [default]",
   "language": "python",
   "name": "python3"
  },
  "language_info": {
   "codemirror_mode": {
    "name": "ipython",
    "version": 3
   },
   "file_extension": ".py",
   "mimetype": "text/x-python",
   "name": "python",
   "nbconvert_exporter": "python",
   "pygments_lexer": "ipython3",
   "version": "3.6.4"
  },
  "varInspector": {
   "cols": {
    "lenName": 16,
    "lenType": 16,
    "lenVar": 40
   },
   "kernels_config": {
    "python": {
     "delete_cmd_postfix": "",
     "delete_cmd_prefix": "del ",
     "library": "var_list.py",
     "varRefreshCmd": "print(var_dic_list())"
    },
    "r": {
     "delete_cmd_postfix": ") ",
     "delete_cmd_prefix": "rm(",
     "library": "var_list.r",
     "varRefreshCmd": "cat(var_dic_list()) "
    }
   },
   "types_to_exclude": [
    "module",
    "function",
    "builtin_function_or_method",
    "instance",
    "_Feature"
   ],
   "window_display": false
  }
 },
 "nbformat": 4,
 "nbformat_minor": 2
}
