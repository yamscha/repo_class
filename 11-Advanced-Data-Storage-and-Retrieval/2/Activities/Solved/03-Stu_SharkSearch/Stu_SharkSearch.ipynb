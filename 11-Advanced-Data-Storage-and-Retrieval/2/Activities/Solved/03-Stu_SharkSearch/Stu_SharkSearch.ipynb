{
 "cells": [
  {
   "cell_type": "code",
   "execution_count": 7,
   "metadata": {},
   "outputs": [],
   "source": [
    "from sqlalchemy import create_engine\n",
    "import pymysql\n",
    "pymysql.install_as_MySQLdb()\n",
    "\n",
    "from sqlalchemy.ext.declarative import declarative_base\n",
    "Base = declarative_base()\n",
    "from sqlalchemy import Column, Integer, String, Float\n",
    "\n",
    "from config import dbuser, dbpasswd, dburi, dbport, dbname"
   ]
  },
  {
   "cell_type": "code",
   "execution_count": 8,
   "metadata": {},
   "outputs": [],
   "source": [
    "from sqlalchemy import create_engine\n",
    "engine = create_engine(f\"mysql://{dbuser}:{dbpasswd}@{dburi}:{dbport}/{dbname}\")\n",
    "Base.metadata.create_all(engine)"
   ]
  },
  {
   "cell_type": "code",
   "execution_count": 9,
   "metadata": {},
   "outputs": [],
   "source": [
    "from sqlalchemy.orm import Session\n",
    "session = Session(bind=engine)"
   ]
  },
  {
   "cell_type": "code",
   "execution_count": 10,
   "metadata": {
    "nbgrader": {
     "grade": false,
     "grade_id": "cell-c57d66be4b87f3dc",
     "locked": false,
     "schema_version": 1,
     "solution": true
    }
   },
   "outputs": [],
   "source": [
    "# create your shark class\n",
    "### BEGIN SOLUTION\n",
    "class Sharks(Base):\n",
    "    __tablename__ = 'sharks'\n",
    "    id = Column(Integer, primary_key=True)\n",
    "    case_number = Column(String)\n",
    "    date = Column(String)\n",
    "    year = Column(Integer)\n",
    "    type = Column(String)\n",
    "    country = Column(String)\n",
    "    area = Column(String)\n",
    "    location= Column(String)\n",
    "    activity = Column(String)\n",
    "    name = Column(String)\n",
    "    sex = Column(String)\n",
    "    age = Column(Integer)\n",
    "    injury = Column(String)\n",
    "    fatal_y_n = Column(String)\n",
    "    time = Column(String)\n",
    "    species = Column(String)\n",
    "    investigator_or_source = Column(String)\n",
    "    pdf = Column(String)\n",
    "    original_order = Column(Integer)\n",
    "### END SOLUTION"
   ]
  },
  {
   "cell_type": "code",
   "execution_count": 11,
   "metadata": {
    "nbgrader": {
     "grade": false,
     "grade_id": "cell-48e2a351e977f8b6",
     "locked": false,
     "schema_version": 1,
     "solution": true
    }
   },
   "outputs": [],
   "source": [
    "# print all locations of shark attacks\n",
    "### BEGIN SOLUTION\n",
    "attacks = session.query(Sharks) \n",
    "# for attack in attacks:\n",
    "#     print(attack.location)\n",
    "### END SOLUTION"
   ]
  },
  {
   "cell_type": "code",
   "execution_count": 12,
   "metadata": {
    "nbgrader": {
     "grade": false,
     "grade_id": "cell-33b12ba730e08a42",
     "locked": false,
     "schema_version": 1,
     "solution": true
    }
   },
   "outputs": [
    {
     "name": "stdout",
     "output_type": "stream",
     "text": [
      "12\n"
     ]
    }
   ],
   "source": [
    "# find the number of provoked attacks\n",
    "### BEGIN SOLUTION\n",
    "provoked = session.query(Sharks).filter_by(type='provoked').count()\n",
    "print(provoked)\n",
    "### END SOLUTION"
   ]
  },
  {
   "cell_type": "code",
   "execution_count": null,
   "metadata": {
    "nbgrader": {
     "grade": false,
     "grade_id": "cell-4b1293d38480400d",
     "locked": false,
     "schema_version": 1,
     "solution": true
    }
   },
   "outputs": [],
   "source": [
    "# find the number of attacks in USA\n",
    "### BEGIN SOLUTION\n",
    "usa = session.query(Sharks).filter_by(country='USA').count()\n",
    "print(usa)\n",
    "### END SOLUTION"
   ]
  },
  {
   "cell_type": "code",
   "execution_count": null,
   "metadata": {
    "nbgrader": {
     "grade": false,
     "grade_id": "cell-5431c1fabaae9ed8",
     "locked": false,
     "schema_version": 1,
     "solution": true
    }
   },
   "outputs": [],
   "source": [
    "# find the number of attacks in 2017\n",
    "### BEGIN SOLUTION\n",
    "year_2017 = session.query(Sharks).filter_by(year=2017).count()\n",
    "print(year_2017)\n",
    "### END SOLUTION"
   ]
  },
  {
   "cell_type": "code",
   "execution_count": null,
   "metadata": {
    "nbgrader": {
     "grade": false,
     "grade_id": "cell-4de2402e47fe0214",
     "locked": false,
     "schema_version": 1,
     "solution": true
    }
   },
   "outputs": [],
   "source": [
    "# find the number of attacks while surfing\n",
    "### BEGIN SOLUTION\n",
    "surfing = session.query(Sharks).filter_by(activity='surfing').count()\n",
    "print(surfing)\n",
    "### END SOLUTION"
   ]
  },
  {
   "cell_type": "code",
   "execution_count": null,
   "metadata": {
    "nbgrader": {
     "grade": false,
     "grade_id": "cell-9e2afa5b2f869a4f",
     "locked": false,
     "schema_version": 1,
     "solution": true
    }
   },
   "outputs": [],
   "source": [
    "# find the number of fatal attacks\n",
    "### BEGIN SOLUTION\n",
    "fatal = session.query(Sharks).filter_by(fatal_y_n='Y').count()\n",
    "print(fatal)\n",
    "### END SOLUTION"
   ]
  },
  {
   "cell_type": "code",
   "execution_count": null,
   "metadata": {
    "nbgrader": {
     "grade": false,
     "grade_id": "cell-75819f28900a2e54",
     "locked": false,
     "schema_version": 1,
     "solution": true
    }
   },
   "outputs": [],
   "source": [
    "# find the number of fatal attacks while surfing\n",
    "### BEGIN SOLUTION\n",
    "fatal_surfing = session.query(Sharks).\\\n",
    "    filter_by(fatal_y_n='Y').\\\n",
    "    filter(Sharks.area == \"Eastern Cape Province\").count()\n",
    "print(fatal_surfing)\n",
    "### END SOLUTION"
   ]
  },
  {
   "cell_type": "code",
   "execution_count": null,
   "metadata": {
    "nbgrader": {
     "grade": false,
     "grade_id": "cell-ef68003cff255319",
     "locked": false,
     "schema_version": 1,
     "solution": true
    }
   },
   "outputs": [],
   "source": [
    "# find the number of fatal attacks in 2017 in Australia\n",
    "### BEGIN SOLUTION\n",
    "fatal_surfing = session.query(Sharks).\\\n",
    "    filter_by(fatal_y_n='Y').\\\n",
    "    filter(Sharks.country == \"MOZAMBIQUE\").\\\n",
    "    filter(Sharks.activity == 'Spearfishing').count()\n",
    "print(fatal_surfing)\n",
    "### END SOLUTION"
   ]
  }
 ],
 "metadata": {
  "celltoolbar": "Create Assignment",
  "kernelspec": {
   "display_name": "Python [default]",
   "language": "python",
   "name": "python3"
  },
  "language_info": {
   "codemirror_mode": {
    "name": "ipython",
    "version": 3
   },
   "file_extension": ".py",
   "mimetype": "text/x-python",
   "name": "python",
   "nbconvert_exporter": "python",
   "pygments_lexer": "ipython3",
   "version": "3.6.4"
  },
  "varInspector": {
   "cols": {
    "lenName": 16,
    "lenType": 16,
    "lenVar": 40
   },
   "kernels_config": {
    "python": {
     "delete_cmd_postfix": "",
     "delete_cmd_prefix": "del ",
     "library": "var_list.py",
     "varRefreshCmd": "print(var_dic_list())"
    },
    "r": {
     "delete_cmd_postfix": ") ",
     "delete_cmd_prefix": "rm(",
     "library": "var_list.r",
     "varRefreshCmd": "cat(var_dic_list()) "
    }
   },
   "types_to_exclude": [
    "module",
    "function",
    "builtin_function_or_method",
    "instance",
    "_Feature"
   ],
   "window_display": false
  }
 },
 "nbformat": 4,
 "nbformat_minor": 2
}
