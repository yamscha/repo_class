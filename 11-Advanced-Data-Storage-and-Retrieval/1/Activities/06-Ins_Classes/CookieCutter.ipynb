{
 "cells": [
  {
   "cell_type": "code",
   "execution_count": 7,
   "metadata": {},
   "outputs": [],
   "source": [
    "# Define a class\n",
    "class CookieCutter():\n",
    "    # Utilize the Python constructor to initialize the object\n",
    "    def __init__(self, name=\"defaultname\", color=\"defaultcolor\"):\n",
    "        self.name = name\n",
    "        self.color = color\n",
    "    \n",
    "    def sayhello(person=\"defaultname\"):\n",
    "        print(\"hello!\" + person)"
   ]
  },
  {
   "cell_type": "code",
   "execution_count": 8,
   "metadata": {},
   "outputs": [
    {
     "name": "stdout",
     "output_type": "stream",
     "text": [
      "Gingerbread\n",
      "pink\n",
      "deafultname\n"
     ]
    }
   ],
   "source": [
    "# Create an instance of a class\n",
    "nutrient_pellet1 = CookieCutter('Gingerbread', 'brown')\n",
    "nutrient_pellet2 = CookieCutter('Snickerdoodel', 'pink')\n",
    "nutrient_pellet3 = CookieCutter()\n",
    "\n",
    "# Print the object's attributes\n",
    "print(nutrient_pellet1.name)\n",
    "print(nutrient_pellet2.color)\n",
    "print(nutrient_pellet3.name)\n"
   ]
  },
  {
   "cell_type": "markdown",
   "metadata": {},
   "source": [
    "## Explaining static variables and instance variables"
   ]
  },
  {
   "cell_type": "code",
   "execution_count": 5,
   "metadata": {},
   "outputs": [
    {
     "name": "stdout",
     "output_type": "stream",
     "text": [
      "Wall-E\n"
     ]
    }
   ],
   "source": [
    "\"\"\"\n",
    "static variables are assigned to the class\n",
    "\"\"\"\n",
    "class Person():\n",
    "    name = \"Wall-E\"\n",
    "    \n",
    "print(Person.name)"
   ]
  },
  {
   "cell_type": "code",
   "execution_count": 9,
   "metadata": {},
   "outputs": [
    {
     "name": "stdout",
     "output_type": "stream",
     "text": [
      "Eve\n"
     ]
    }
   ],
   "source": [
    "\"\"\"\n",
    "instance variables are assigned to each instance (aka object)\n",
    "of that class\n",
    "\"\"\"\n",
    "class Person():\n",
    "    def __init__(self,name_local_variable):\n",
    "        self.name=name_local_variable\n",
    "\n",
    "        \n",
    "eve = Person(\"Eve\")\n",
    "print(eve.name)"
   ]
  },
  {
   "cell_type": "code",
   "execution_count": 1,
   "metadata": {},
   "outputs": [
    {
     "ename": "AttributeError",
     "evalue": "'Person' object has no attribute 'name'",
     "output_type": "error",
     "traceback": [
      "\u001b[0;31m---------------------------------------------------------------------------\u001b[0m",
      "\u001b[0;31mAttributeError\u001b[0m                            Traceback (most recent call last)",
      "\u001b[0;32m<ipython-input-1-5c875a7fee2b>\u001b[0m in \u001b[0;36m<module>\u001b[0;34m()\u001b[0m\n\u001b[1;32m     11\u001b[0m \u001b[0;34m\u001b[0m\u001b[0m\n\u001b[1;32m     12\u001b[0m \u001b[0meve\u001b[0m \u001b[0;34m=\u001b[0m \u001b[0mPerson\u001b[0m\u001b[0;34m(\u001b[0m\u001b[0;34m\"Eve\"\u001b[0m\u001b[0;34m,\u001b[0m \u001b[0;34m\"climbing\"\u001b[0m\u001b[0;34m)\u001b[0m\u001b[0;34m\u001b[0m\u001b[0m\n\u001b[0;32m---> 13\u001b[0;31m \u001b[0mprint\u001b[0m\u001b[0;34m(\u001b[0m\u001b[0meve\u001b[0m\u001b[0;34m.\u001b[0m\u001b[0mname\u001b[0m\u001b[0;34m)\u001b[0m \u001b[0;31m# throws error\u001b[0m\u001b[0;34m\u001b[0m\u001b[0m\n\u001b[0m\u001b[1;32m     14\u001b[0m \u001b[0mprint\u001b[0m\u001b[0;34m(\u001b[0m\u001b[0mPerson\u001b[0m\u001b[0;34m.\u001b[0m\u001b[0mname\u001b[0m\u001b[0;34m)\u001b[0m \u001b[0;31m# also throws error\u001b[0m\u001b[0;34m\u001b[0m\u001b[0m\n",
      "\u001b[0;31mAttributeError\u001b[0m: 'Person' object has no attribute 'name'"
     ]
    }
   ],
   "source": [
    "\"\"\"\n",
    "Explaining why we use the 'self' notation\n",
    "This will not assign variable name to the eve object,\n",
    "nor will it assign it to the Person class\n",
    "\"\"\"\n",
    "\n",
    "class Person():\n",
    "    def __init__(self,n,h):\n",
    "        name=n\n",
    "        hobby=h\n",
    "        \n",
    "eve = Person(\"Eve\", \"flying\")\n",
    "print(eve.name) # throws error\n",
    "print(Person.name) # also throws error"
   ]
  },
  {
   "cell_type": "code",
   "execution_count": 2,
   "metadata": {},
   "outputs": [
    {
     "name": "stdout",
     "output_type": "stream",
     "text": [
      "Wall-E\n",
      "Wall-E\n"
     ]
    }
   ],
   "source": [
    "\"\"\"\n",
    "Explaining why we use the 'self' notation\n",
    "If we define variables in the class but outside a constructor,\n",
    "these static variables are accessible by both the class and an object.\n",
    "Note how the constructor isn't setting the name to Eve\n",
    "\"\"\"\n",
    "\n",
    "class Person():\n",
    "    name = \"Wall-E\"\n",
    "    hobby = \"compacting\"\n",
    "    def __init__(self,n,h):\n",
    "        name=n\n",
    "        hobby=h\n",
    "        \n",
    "eve = Person(\"Eve\", \"flying\")\n",
    "print(eve.name) # Wall-E, not Eve\n",
    "print(Person.name) # Wall-E as expected"
   ]
  },
  {
   "cell_type": "code",
   "execution_count": 3,
   "metadata": {},
   "outputs": [
    {
     "name": "stdout",
     "output_type": "stream",
     "text": [
      "Eve\n",
      "Wall-E\n"
     ]
    }
   ],
   "source": [
    "\"\"\"\n",
    "Explaining why we use the 'self' notation\n",
    "If we define variables in the class\n",
    "and we define the same variable using the constructor,\n",
    "the self.name overrides the class Person.name for the object.\n",
    "The Person.name is not updated by the constructor.\n",
    "\"\"\"\n",
    "\n",
    "class Person():\n",
    "    name = \"Wall-E\"\n",
    "    hobby = \"compacting\"\n",
    "    def __init__(self,n,h):\n",
    "        self.name=n\n",
    "        self.hobby=h\n",
    "        \n",
    "eve = Person(\"Eve\", \"flying\")\n",
    "print(eve.name) # Eve, because self.name overrides Person.Name\n",
    "print(Person.name) # Wall-E"
   ]
  },
  {
   "cell_type": "code",
   "execution_count": 4,
   "metadata": {},
   "outputs": [
    {
     "name": "stdout",
     "output_type": "stream",
     "text": [
      "Eve\n"
     ]
    },
    {
     "ename": "AttributeError",
     "evalue": "type object 'Person' has no attribute 'name'",
     "output_type": "error",
     "traceback": [
      "\u001b[0;31m---------------------------------------------------------------------------\u001b[0m",
      "\u001b[0;31mAttributeError\u001b[0m                            Traceback (most recent call last)",
      "\u001b[0;32m<ipython-input-4-a11da3b6844b>\u001b[0m in \u001b[0;36m<module>\u001b[0;34m()\u001b[0m\n\u001b[1;32m     13\u001b[0m \u001b[0meve\u001b[0m \u001b[0;34m=\u001b[0m \u001b[0mPerson\u001b[0m\u001b[0;34m(\u001b[0m\u001b[0;34m\"Eve\"\u001b[0m\u001b[0;34m,\u001b[0m \u001b[0;34m\"climbing\"\u001b[0m\u001b[0;34m)\u001b[0m\u001b[0;34m\u001b[0m\u001b[0m\n\u001b[1;32m     14\u001b[0m \u001b[0mprint\u001b[0m\u001b[0;34m(\u001b[0m\u001b[0meve\u001b[0m\u001b[0;34m.\u001b[0m\u001b[0mname\u001b[0m\u001b[0;34m)\u001b[0m \u001b[0;31m# Eve\u001b[0m\u001b[0;34m\u001b[0m\u001b[0m\n\u001b[0;32m---> 15\u001b[0;31m \u001b[0mprint\u001b[0m\u001b[0;34m(\u001b[0m\u001b[0mPerson\u001b[0m\u001b[0;34m.\u001b[0m\u001b[0mname\u001b[0m\u001b[0;34m)\u001b[0m \u001b[0;31m# throws error\u001b[0m\u001b[0;34m\u001b[0m\u001b[0m\n\u001b[0m",
      "\u001b[0;31mAttributeError\u001b[0m: type object 'Person' has no attribute 'name'"
     ]
    }
   ],
   "source": [
    "\"\"\"\n",
    "If we only define a variable inside the constructor \n",
    "using self.name, then the class itself does not \n",
    "have a Person.name\n",
    "\"\"\"\n",
    "\n",
    "class Person():\n",
    "    # no static variables\n",
    "    def __init__(self,n,h):\n",
    "        self.name=n\n",
    "        self.hobby=h\n",
    "        \n",
    "eve = Person(\"Eve\", \"climbing\")\n",
    "print(eve.name) # Eve\n",
    "print(Person.name) # throws error"
   ]
  },
  {
   "cell_type": "code",
   "execution_count": null,
   "metadata": {},
   "outputs": [],
   "source": []
  }
 ],
 "metadata": {
  "kernelspec": {
   "display_name": "PythonData",
   "language": "python",
   "name": "pythondata"
  },
  "language_info": {
   "codemirror_mode": {
    "name": "ipython",
    "version": 3
   },
   "file_extension": ".py",
   "mimetype": "text/x-python",
   "name": "python",
   "nbconvert_exporter": "python",
   "pygments_lexer": "ipython3",
   "version": "3.6.4"
  }
 },
 "nbformat": 4,
 "nbformat_minor": 2
}
