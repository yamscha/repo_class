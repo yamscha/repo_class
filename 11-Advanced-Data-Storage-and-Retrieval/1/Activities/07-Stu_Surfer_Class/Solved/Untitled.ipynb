{
 "cells": [
  {
   "cell_type": "code",
   "execution_count": 18,
   "metadata": {},
   "outputs": [],
   "source": [
    "class Surfer():\n",
    "    name_all = ''\n",
    "    def __init__(self, name, hometown, rank):\n",
    "        self.name = name\n",
    "        \n",
    "        self.hometown = hometown\n",
    "        self.rank = rank\n",
    "    "
   ]
  },
  {
   "cell_type": "code",
   "execution_count": 19,
   "metadata": {},
   "outputs": [],
   "source": [
    "my_surfer = Surfer('yamini','Santa Cruz',1)\n",
    "my_surfer2 = Surfer ('Jon Jon','Half Moon',2)"
   ]
  },
  {
   "cell_type": "code",
   "execution_count": 23,
   "metadata": {},
   "outputs": [
    {
     "data": {
      "text/plain": [
       "'static'"
      ]
     },
     "execution_count": 23,
     "metadata": {},
     "output_type": "execute_result"
    }
   ],
   "source": [
    "Surfer.name_all= 'static'\n",
    "Surfer.name_all"
   ]
  },
  {
   "cell_type": "code",
   "execution_count": 21,
   "metadata": {},
   "outputs": [
    {
     "name": "stdout",
     "output_type": "stream",
     "text": [
      "yamini\n",
      "Santa Cruz\n",
      "1\n",
      "\n",
      "Half Moon\n"
     ]
    }
   ],
   "source": [
    "print(my_surfer.name)\n",
    "print(my_surfer.hometown)\n",
    "print(my_surfer.rank)\n",
    "print(my_surfer2.name_all)\n",
    "print(my_surfer2.hometown)"
   ]
  },
  {
   "cell_type": "code",
   "execution_count": null,
   "metadata": {},
   "outputs": [],
   "source": []
  }
 ],
 "metadata": {
  "kernelspec": {
   "display_name": "Python [conda env:pythondata]",
   "language": "python",
   "name": "conda-env-pythondata-py"
  },
  "language_info": {
   "codemirror_mode": {
    "name": "ipython",
    "version": 3
   },
   "file_extension": ".py",
   "mimetype": "text/x-python",
   "name": "python",
   "nbconvert_exporter": "python",
   "pygments_lexer": "ipython3",
   "version": "3.6.4"
  }
 },
 "nbformat": 4,
 "nbformat_minor": 2
}
