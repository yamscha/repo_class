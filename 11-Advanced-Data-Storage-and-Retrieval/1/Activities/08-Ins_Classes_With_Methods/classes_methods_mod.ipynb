{
 "cells": [
  {
   "cell_type": "code",
   "execution_count": 1,
   "metadata": {},
   "outputs": [],
   "source": [
    "class Film():\n",
    "\n",
    "    # A required function to initialize the class object\n",
    "    def __init__(self, name, length, release_year, language,episode=1):\n",
    "        self.name = name\n",
    "        self.length = length\n",
    "        self.release_year = release_year\n",
    "        self.language = language\n",
    "        self.episode = episode\n"
   ]
  },
  {
   "cell_type": "code",
   "execution_count": 2,
   "metadata": {},
   "outputs": [],
   "source": [
    "# An object belonging to the Film class\n",
    "star_wars = Film(\"Star Wars\", 121, 1977, \"English\")"
   ]
  },
  {
   "cell_type": "code",
   "execution_count": 3,
   "metadata": {},
   "outputs": [
    {
     "data": {
      "text/plain": [
       "'Star Wars'"
      ]
     },
     "execution_count": 3,
     "metadata": {},
     "output_type": "execute_result"
    }
   ],
   "source": [
    "star_wars.name"
   ]
  },
  {
   "cell_type": "code",
   "execution_count": 4,
   "metadata": {},
   "outputs": [
    {
     "data": {
      "text/plain": [
       "1"
      ]
     },
     "execution_count": 4,
     "metadata": {},
     "output_type": "execute_result"
    }
   ],
   "source": [
    "star_wars.episode"
   ]
  },
  {
   "cell_type": "code",
   "execution_count": 8,
   "metadata": {},
   "outputs": [],
   "source": [
    "class Expert():    \n",
    "    def __init__(self, name):\n",
    "        self.name = name\n",
    "\n",
    "    # A method that takes another object as its argument\n",
    "    def boast(self, obj):\n",
    "        # Print out Expert object's name\n",
    "        print(\"Hi. My name is\", self.name)\n",
    "        \n",
    "        # Print out the name of the Film class object\n",
    "        print(\"I know a lot about\", obj.name)\n",
    "        print(\"It is\", obj.length, \"minutes long\")\n",
    "        print(\"It was released in\", obj.release_year)\n",
    "        print(\"It is in\", obj.language)\n"
   ]
  },
  {
   "cell_type": "code",
   "execution_count": 9,
   "metadata": {},
   "outputs": [],
   "source": [
    "dilbert = Expert(\"Dilbert\")"
   ]
  },
  {
   "cell_type": "code",
   "execution_count": 10,
   "metadata": {},
   "outputs": [
    {
     "name": "stdout",
     "output_type": "stream",
     "text": [
      "Hi. My name is Dilbert\n",
      "I know a lot about Star Wars\n",
      "It is 121 minutes long\n",
      "It was released in 1977\n",
      "It is in English\n"
     ]
    }
   ],
   "source": [
    "dilbert.boast(star_wars)"
   ]
  },
  {
   "cell_type": "markdown",
   "metadata": {},
   "source": [
    "## Linked List implementation"
   ]
  },
  {
   "cell_type": "code",
   "execution_count": 23,
   "metadata": {},
   "outputs": [],
   "source": [
    "class Node():\n",
    "    def __init__(self,value):\n",
    "        self.value = value\n",
    "        self.next = None\n",
    "        \n",
    "    def __str__(self):\n",
    "        return self.value"
   ]
  },
  {
   "cell_type": "code",
   "execution_count": 24,
   "metadata": {},
   "outputs": [
    {
     "data": {
      "text/plain": [
       "mappingproxy({'__dict__': <attribute '__dict__' of 'Node' objects>,\n",
       "              '__doc__': None,\n",
       "              '__init__': <function __main__.Node.__init__>,\n",
       "              '__module__': '__main__',\n",
       "              '__str__': <function __main__.Node.__str__>,\n",
       "              '__weakref__': <attribute '__weakref__' of 'Node' objects>})"
      ]
     },
     "execution_count": 24,
     "metadata": {},
     "output_type": "execute_result"
    }
   ],
   "source": [
    "Node.__dict__"
   ]
  },
  {
   "cell_type": "code",
   "execution_count": 25,
   "metadata": {},
   "outputs": [],
   "source": [
    "class LinkedList():\n",
    "    def __init__(self,head=None):\n",
    "        self.head = head\n",
    "        \n",
    "        \n",
    "    def dequeue(self):\n",
    "        removed_node = None\n",
    "        if self.head:\n",
    "            removed_node = self.head\n",
    "            self.head = self.head.next\n",
    "        return removed_node\n",
    "        \n",
    "        \n",
    "    def enqueue(self,value):\n",
    "        \"\"\"\n",
    "        Question: how can we make this insertion constant time?\n",
    "        \"\"\"\n",
    "        current = self.head\n",
    "        if self.head == None:\n",
    "            self.head = Node(value)\n",
    "            return\n",
    "        while current.next:\n",
    "            current = current.next\n",
    "        current.next = Node(value)\n",
    "        return\n",
    "    \n",
    "    def __str__(self):\n",
    "        curr = self.head\n",
    "        cnt = 0\n",
    "        l = []\n",
    "        while curr:\n",
    "            l.append(f\"{cnt}:{curr}\")\n",
    "            curr = curr.next\n",
    "            cnt += 1\n",
    "        return \"|\".join(l)"
   ]
  },
  {
   "cell_type": "code",
   "execution_count": 34,
   "metadata": {},
   "outputs": [
    {
     "data": {
      "text/plain": [
       "mappingproxy({'__dict__': <attribute '__dict__' of 'LinkedList' objects>,\n",
       "              '__doc__': None,\n",
       "              '__init__': <function __main__.LinkedList.__init__>,\n",
       "              '__module__': '__main__',\n",
       "              '__str__': <function __main__.LinkedList.__str__>,\n",
       "              '__weakref__': <attribute '__weakref__' of 'LinkedList' objects>,\n",
       "              'dequeue': <function __main__.LinkedList.dequeue>,\n",
       "              'enqueue': <function __main__.LinkedList.enqueue>})"
      ]
     },
     "execution_count": 34,
     "metadata": {},
     "output_type": "execute_result"
    }
   ],
   "source": [
    "LinkedList.__dict__"
   ]
  },
  {
   "cell_type": "code",
   "execution_count": 36,
   "metadata": {},
   "outputs": [],
   "source": []
  },
  {
   "cell_type": "code",
   "execution_count": 26,
   "metadata": {},
   "outputs": [],
   "source": [
    "ll = LinkedList()\n",
    "ll.enqueue('aye')\n",
    "ll.enqueue('bee')\n",
    "ll.enqueue('ceecee')\n",
    "ll.enqueue('didi')\n",
    "ll.enqueue('edie')"
   ]
  },
  {
   "cell_type": "code",
   "execution_count": 27,
   "metadata": {},
   "outputs": [
    {
     "name": "stdout",
     "output_type": "stream",
     "text": [
      "0:aye|1:bee|2:ceecee|3:didi|4:edie\n"
     ]
    }
   ],
   "source": [
    "print(ll)"
   ]
  },
  {
   "cell_type": "code",
   "execution_count": 28,
   "metadata": {},
   "outputs": [
    {
     "name": "stdout",
     "output_type": "stream",
     "text": [
      "aye\n"
     ]
    }
   ],
   "source": [
    "print(ll.dequeue())"
   ]
  },
  {
   "cell_type": "code",
   "execution_count": 29,
   "metadata": {},
   "outputs": [
    {
     "name": "stdout",
     "output_type": "stream",
     "text": [
      "0:bee|1:ceecee|2:didi|3:edie\n"
     ]
    }
   ],
   "source": [
    "print(ll)"
   ]
  },
  {
   "cell_type": "code",
   "execution_count": 30,
   "metadata": {},
   "outputs": [
    {
     "name": "stdout",
     "output_type": "stream",
     "text": [
      "bee\n"
     ]
    }
   ],
   "source": [
    "print(ll.dequeue())"
   ]
  },
  {
   "cell_type": "code",
   "execution_count": 31,
   "metadata": {},
   "outputs": [
    {
     "name": "stdout",
     "output_type": "stream",
     "text": [
      "0:ceecee|1:didi|2:edie\n"
     ]
    }
   ],
   "source": [
    "print(ll)"
   ]
  },
  {
   "cell_type": "markdown",
   "metadata": {},
   "source": [
    "## inheritance"
   ]
  },
  {
   "cell_type": "code",
   "execution_count": 32,
   "metadata": {},
   "outputs": [],
   "source": [
    "class Animal():\n",
    "    def __init__(self,name):\n",
    "        self.name = name\n",
    "    \n",
    "    def goes(self):\n",
    "        return \"hello!\""
   ]
  },
  {
   "cell_type": "code",
   "execution_count": 33,
   "metadata": {},
   "outputs": [
    {
     "data": {
      "text/plain": [
       "mappingproxy({'__dict__': <attribute '__dict__' of 'Animal' objects>,\n",
       "              '__doc__': None,\n",
       "              '__init__': <function __main__.Animal.__init__>,\n",
       "              '__module__': '__main__',\n",
       "              '__weakref__': <attribute '__weakref__' of 'Animal' objects>,\n",
       "              'goes': <function __main__.Animal.goes>})"
      ]
     },
     "execution_count": 33,
     "metadata": {},
     "output_type": "execute_result"
    }
   ],
   "source": [
    "Animal.__dict__"
   ]
  },
  {
   "cell_type": "code",
   "execution_count": 34,
   "metadata": {},
   "outputs": [],
   "source": [
    "class Fox(Animal):\n",
    "    def __init__(self,name=None,hobby=None):\n",
    "        super().__init__(name)\n",
    "        self.hobby = hobby\n",
    "    \n",
    "    def goes(self):\n",
    "        return f\"{super().goes()} yeep yeep yeep\""
   ]
  },
  {
   "cell_type": "code",
   "execution_count": 35,
   "metadata": {},
   "outputs": [
    {
     "data": {
      "text/plain": [
       "mappingproxy({'__doc__': None,\n",
       "              '__init__': <function __main__.Fox.__init__>,\n",
       "              '__module__': '__main__',\n",
       "              'goes': <function __main__.Fox.goes>})"
      ]
     },
     "execution_count": 35,
     "metadata": {},
     "output_type": "execute_result"
    }
   ],
   "source": [
    "Fox.__dict__"
   ]
  },
  {
   "cell_type": "code",
   "execution_count": 36,
   "metadata": {},
   "outputs": [
    {
     "name": "stdout",
     "output_type": "stream",
     "text": [
      "Annie\n",
      "hello!\n"
     ]
    }
   ],
   "source": [
    "animaly = Animal(\"Annie\")\n",
    "print(animaly.name)\n",
    "print(animaly.goes())"
   ]
  },
  {
   "cell_type": "code",
   "execution_count": 37,
   "metadata": {},
   "outputs": [],
   "source": [
    "foxy = Fox(\"Frida\",\"trotting\")"
   ]
  },
  {
   "cell_type": "code",
   "execution_count": 38,
   "metadata": {},
   "outputs": [
    {
     "name": "stdout",
     "output_type": "stream",
     "text": [
      "Frida\n",
      "trotting\n",
      "hello! yeep yeep yeep\n"
     ]
    }
   ],
   "source": [
    "foxy = Fox(\"Frida\",\"trotting\")\n",
    "print(foxy.name)\n",
    "print(foxy.hobby)\n",
    "print(foxy.goes())"
   ]
  }
 ],
 "metadata": {
  "kernelspec": {
   "display_name": "PythonData",
   "language": "python",
   "name": "pythondata"
  },
  "language_info": {
   "codemirror_mode": {
    "name": "ipython",
    "version": 3
   },
   "file_extension": ".py",
   "mimetype": "text/x-python",
   "name": "python",
   "nbconvert_exporter": "python",
   "pygments_lexer": "ipython3",
   "version": "3.6.4"
  }
 },
 "nbformat": 4,
 "nbformat_minor": 2
}
