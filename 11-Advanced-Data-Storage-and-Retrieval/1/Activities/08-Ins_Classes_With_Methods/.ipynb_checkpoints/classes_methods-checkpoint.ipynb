{
 "cells": [
  {
   "cell_type": "code",
   "execution_count": null,
   "metadata": {},
   "outputs": [],
   "source": []
  },
  {
   "cell_type": "code",
   "execution_count": 1,
   "metadata": {},
   "outputs": [],
   "source": [
    "class Film():\n",
    "\n",
    "    # A required function to initialize the class object\n",
    "    def __init__(self, name, length, release_year, language):\n",
    "        self.name = name\n",
    "        self.length = length\n",
    "        self.release_year = release_year\n",
    "        self.language = language\n"
   ]
  },
  {
   "cell_type": "code",
   "execution_count": 2,
   "metadata": {},
   "outputs": [],
   "source": [
    "# An object belonging to the Film class\n",
    "star_wars = Film(\"Star Wars\", 121, 1977, \"English\")"
   ]
  },
  {
   "cell_type": "code",
   "execution_count": 4,
   "metadata": {},
   "outputs": [],
   "source": [
    "class Expert():    \n",
    "    def __init__(self, name):\n",
    "        self.name = name\n",
    "\n",
    "    # A method that takes another object as its argument\n",
    "    def boast(self, obj):\n",
    "\n",
    "        # Print out Expert object's name\n",
    "        print(\"Hi. My name is\", self.name)\n",
    "        \n",
    "        # Print out the name of the Film class object\n",
    "        print(\"I know a lot about\", obj.name)\n",
    "        print(\"It is\", obj.length, \"minutes long\")\n",
    "        print(\"It was released in\", obj.release_year)\n",
    "        print(\"It is in\", obj.language)\n"
   ]
  },
  {
   "cell_type": "code",
   "execution_count": 7,
   "metadata": {},
   "outputs": [
    {
     "name": "stdout",
     "output_type": "stream",
     "text": [
      "Hi. My name is Dilbert\n",
      "I know a lot about Star Wars\n",
      "It is 121 minutes long\n",
      "It was released in 1977\n",
      "It is in English\n"
     ]
    }
   ],
   "source": [
    "dilbert = Expert(\"Dilbert\")\n",
    "\n",
    "dilbert.boast(star_wars)\n",
    "\n"
   ]
  },
  {
   "cell_type": "code",
   "execution_count": null,
   "metadata": {},
   "outputs": [],
   "source": []
  }
 ],
 "metadata": {
  "kernelspec": {
   "display_name": "Python [conda env:pythondata]",
   "language": "python",
   "name": "conda-env-pythondata-py"
  },
  "language_info": {
   "codemirror_mode": {
    "name": "ipython",
    "version": 3
   },
   "file_extension": ".py",
   "mimetype": "text/x-python",
   "name": "python",
   "nbconvert_exporter": "python",
   "pygments_lexer": "ipython3",
   "version": "3.6.4"
  }
 },
 "nbformat": 4,
 "nbformat_minor": 2
}
