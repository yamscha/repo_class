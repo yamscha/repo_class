{
 "cells": [
  {
   "cell_type": "code",
   "execution_count": 2,
   "metadata": {},
   "outputs": [],
   "source": [
    "# Define the Surfer Class\n",
    "class Surfer():\n",
    "\n",
    "    # Keep track of surfer count as they are created\n",
    "    surferCount = 0\n",
    "\n",
    "    # Constructor\n",
    "    # --------------------------------------------------------------------------------\n",
    "    # Initialize the surfer and assign each surfer a new surfer count upon creation\n",
    "    def __init__(self, name, hometown, rank, wipeouts=0):\n",
    "        self.name = name\n",
    "        self.hometown = hometown\n",
    "        self.rank = rank\n",
    "        self.wipeouts = wipeouts\n",
    "        Surfer.surferCount += 1\n",
    "    \n",
    "    # Class Methods\n",
    "    # --------------------------------------------------------------------------------\n",
    "    # Prints what number surfer they are based on when they were created\n",
    "    def surfer_count(self):\n",
    "         print(\"Total surfers shredding waves %d\" % Surfer.surferCount)\n",
    "\n",
    "    # Prints out simple string\n",
    "    def speak(self):\n",
    "        print(\"Surfs up!\")\n",
    "\n",
    "    # Interpolates based on their attributes\n",
    "    def biography(self):\n",
    "        print(f\"My name is {surfer.name}, I am from {surfer.hometown} and rank #{surfer.rank}, I've wiped out {surfer.wipeouts} times!\")\n",
    "\n",
    "    # Check how many wipeouts and print out a statement\n",
    "    def cheer(self):\n",
    "        if self.wipeouts == 0:\n",
    "            print('I totally rock ever since I hit my head on that magic dolphin!')\n",
    "        else:\n",
    "            print('I think I can, I think I can...')\n"
   ]
  },
  {
   "cell_type": "code",
   "execution_count": 3,
   "metadata": {},
   "outputs": [
    {
     "name": "stdout",
     "output_type": "stream",
     "text": [
      "Kelly Slater\n",
      "Cocoa Beach\n",
      "1\n",
      "0\n",
      "Surfs up!\n",
      "My name is Kelly Slater, I am from Cocoa Beach and rank #1, I've wiped out 0 times!\n",
      "I totally rock ever since I hit my head on that magic dolphin!\n",
      "Total surfers shredding waves 1\n"
     ]
    }
   ],
   "source": [
    "# Create Surfers\n",
    "# --------------------------------------------------------------------------------\n",
    "\n",
    "surfer = Surfer('Kelly Slater', 'Cocoa Beach', 1,)\n",
    "print(surfer.name)\n",
    "print(surfer.hometown)\n",
    "print(surfer.rank)\n",
    "print(surfer.wipeouts)\n",
    "surfer.speak()\n",
    "surfer.biography()\n",
    "surfer.cheer()\n",
    "surfer.surfer_count()"
   ]
  },
  {
   "cell_type": "code",
   "execution_count": 4,
   "metadata": {},
   "outputs": [
    {
     "name": "stdout",
     "output_type": "stream",
     "text": [
      "John Breezy\n",
      "Spring Lake\n",
      "1\n",
      "10\n",
      "Surfs up!\n",
      "My name is John Breezy, I am from Spring Lake and rank #1, I've wiped out 10 times!\n",
      "I think I can, I think I can...\n",
      "Total surfers shredding waves 2\n"
     ]
    }
   ],
   "source": [
    "surfer = Surfer('John Breezy', 'Spring Lake', 1, 10)\n",
    "print(surfer.name)\n",
    "print(surfer.hometown)\n",
    "print(surfer.rank)\n",
    "print(surfer.wipeouts)\n",
    "surfer.speak()\n",
    "surfer.biography()\n",
    "surfer.cheer()\n",
    "surfer.surfer_count()\n"
   ]
  },
  {
   "cell_type": "code",
   "execution_count": null,
   "metadata": {},
   "outputs": [],
   "source": []
  }
 ],
 "metadata": {
  "kernelspec": {
   "display_name": "Python [conda env:pythondata]",
   "language": "python",
   "name": "conda-env-pythondata-py"
  },
  "language_info": {
   "codemirror_mode": {
    "name": "ipython",
    "version": 3
   },
   "file_extension": ".py",
   "mimetype": "text/x-python",
   "name": "python",
   "nbconvert_exporter": "python",
   "pygments_lexer": "ipython3",
   "version": "3.6.4"
  }
 },
 "nbformat": 4,
 "nbformat_minor": 2
}
