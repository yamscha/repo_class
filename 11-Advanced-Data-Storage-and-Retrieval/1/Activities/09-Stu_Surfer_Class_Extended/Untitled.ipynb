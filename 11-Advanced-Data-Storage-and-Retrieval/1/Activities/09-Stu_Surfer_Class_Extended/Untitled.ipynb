{
 "cells": [
  {
   "cell_type": "code",
   "execution_count": 6,
   "metadata": {},
   "outputs": [],
   "source": [
    "class Surfer():\n",
    "    surfer_count = 0\n",
    "    def __init__(self, name , hometown, rank):\n",
    "        self.name = name\n",
    "        self.hometown = hometown\n",
    "        self.rank = rank\n",
    "        \n",
    "        Surfer.surfer_count += 1\n",
    "        \n",
    "    def __surfer_count(self):\n",
    "        print(\"Surf Count\" % Surfer.surfer_count)\n",
    "        \n",
    "    def speak(self):\n",
    "        print(\"Surfs up!\")\n",
    "\n",
    "    "
   ]
  },
  {
   "cell_type": "code",
   "execution_count": 8,
   "metadata": {},
   "outputs": [
    {
     "name": "stdout",
     "output_type": "stream",
     "text": [
      "yam\n",
      "SA\n",
      "4\n",
      "2\n"
     ]
    }
   ],
   "source": [
    "my_surfer = Surfer(\"yam\",\"SA\",4)\n",
    "print(my_surfer.name)\n",
    "print(my_surfer.hometown)\n",
    "print(my_surfer.rank)\n",
    "print(Surfer.surfer_count)"
   ]
  },
  {
   "cell_type": "code",
   "execution_count": null,
   "metadata": {},
   "outputs": [],
   "source": []
  }
 ],
 "metadata": {
  "kernelspec": {
   "display_name": "Python [conda env:pythondata]",
   "language": "python",
   "name": "conda-env-pythondata-py"
  },
  "language_info": {
   "codemirror_mode": {
    "name": "ipython",
    "version": 3
   },
   "file_extension": ".py",
   "mimetype": "text/x-python",
   "name": "python",
   "nbconvert_exporter": "python",
   "pygments_lexer": "ipython3",
   "version": "3.6.4"
  }
 },
 "nbformat": 4,
 "nbformat_minor": 2
}
