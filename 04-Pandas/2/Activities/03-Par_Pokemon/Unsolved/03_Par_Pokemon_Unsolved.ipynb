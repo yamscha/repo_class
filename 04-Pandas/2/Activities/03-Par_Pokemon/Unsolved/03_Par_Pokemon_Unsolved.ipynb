{
 "cells": [
  {
   "cell_type": "markdown",
   "metadata": {},
   "source": [
    "# Creating a Pokedex\n",
    "\n",
    "In this activity, you will gain experience massaging DataFrames and creating tables.\n",
    "\n",
    "## Instructions\n",
    "\n",
    "1. Read the `Pokemon.csv` file with Pandas.\n",
    "\n",
    "2. Create a new DataFrame by extracting the following columns: `Type 1`, `HP`, `Attack`, `Sp. Atk`, `Sp. Def`, and `Speed`.\n",
    "\n",
    "3. Group pokemons by `Type 1`.\n",
    "\n",
    "4. Create a new DataFrame with the mean values per type.\n",
    "\n",
    "5. Add a new column with the total points per type."
   ]
  },
  {
   "cell_type": "code",
   "execution_count": 1,
   "metadata": {
    "collapsed": true
   },
   "outputs": [],
   "source": [
    "# Dependencies\n"
   ]
  },
  {
   "cell_type": "code",
   "execution_count": 2,
   "metadata": {
    "collapsed": true
   },
   "outputs": [],
   "source": [
    "# File to load\n"
   ]
  },
  {
   "cell_type": "code",
   "execution_count": 3,
   "metadata": {
    "collapsed": true
   },
   "outputs": [],
   "source": [
    "# Read with Pandas\n"
   ]
  },
  {
   "cell_type": "code",
   "execution_count": 1,
   "metadata": {
    "collapsed": true
   },
   "outputs": [],
   "source": [
    "# Create new dataframe\n"
   ]
  },
  {
   "cell_type": "code",
   "execution_count": 2,
   "metadata": {
    "collapsed": true
   },
   "outputs": [],
   "source": [
    "# Create the GroupBy object based on the \"Type 1\" column\n",
    "\n",
    "\n",
    "# Calculate averages for combat stats using the .mean() method\n",
    "\n"
   ]
  },
  {
   "cell_type": "code",
   "execution_count": null,
   "metadata": {
    "collapsed": true
   },
   "outputs": [],
   "source": [
    "# Total number of points\n"
   ]
  }
 ],
 "metadata": {
  "anaconda-cloud": {},
  "kernelspec": {
   "display_name": "Python [PythonData]",
   "language": "python",
   "name": "pythondata"
  },
  "language_info": {
   "codemirror_mode": {
    "name": "ipython",
    "version": 3
   },
   "file_extension": ".py",
   "mimetype": "text/x-python",
   "name": "python",
   "nbconvert_exporter": "python",
   "pygments_lexer": "ipython3",
   "version": "3.6.3"
  }
 },
 "nbformat": 4,
 "nbformat_minor": 2
}
