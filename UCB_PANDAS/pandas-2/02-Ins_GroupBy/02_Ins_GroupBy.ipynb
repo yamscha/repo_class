{
 "cells": [
  {
   "cell_type": "code",
   "execution_count": 1,
   "metadata": {
    "collapsed": true
   },
   "outputs": [],
   "source": [
    "# Import Dependencies\n",
    "import pandas as pd\n",
    "import os"
   ]
  },
  {
   "cell_type": "code",
   "execution_count": 2,
   "metadata": {},
   "outputs": [
    {
     "data": {
      "text/html": [
       "<div>\n",
       "<style>\n",
       "    .dataframe thead tr:only-child th {\n",
       "        text-align: right;\n",
       "    }\n",
       "\n",
       "    .dataframe thead th {\n",
       "        text-align: left;\n",
       "    }\n",
       "\n",
       "    .dataframe tbody tr th {\n",
       "        vertical-align: top;\n",
       "    }\n",
       "</style>\n",
       "<table border=\"1\" class=\"dataframe\">\n",
       "  <thead>\n",
       "    <tr style=\"text-align: right;\">\n",
       "      <th></th>\n",
       "      <th>datetime</th>\n",
       "      <th>city</th>\n",
       "      <th>state</th>\n",
       "      <th>country</th>\n",
       "      <th>shape</th>\n",
       "      <th>duration (seconds)</th>\n",
       "      <th>duration (hours/min)</th>\n",
       "      <th>comments</th>\n",
       "      <th>date posted</th>\n",
       "      <th>latitude</th>\n",
       "      <th>longitude</th>\n",
       "    </tr>\n",
       "  </thead>\n",
       "  <tbody>\n",
       "    <tr>\n",
       "      <th>0</th>\n",
       "      <td>10/10/1949 20:30</td>\n",
       "      <td>san marcos</td>\n",
       "      <td>tx</td>\n",
       "      <td>us</td>\n",
       "      <td>cylinder</td>\n",
       "      <td>2700.0</td>\n",
       "      <td>45 minutes</td>\n",
       "      <td>This event took place in early fall around 194...</td>\n",
       "      <td>4/27/2004</td>\n",
       "      <td>29.883056</td>\n",
       "      <td>-97.941111</td>\n",
       "    </tr>\n",
       "    <tr>\n",
       "      <th>1</th>\n",
       "      <td>10/10/1956 21:00</td>\n",
       "      <td>edna</td>\n",
       "      <td>tx</td>\n",
       "      <td>us</td>\n",
       "      <td>circle</td>\n",
       "      <td>20.0</td>\n",
       "      <td>1/2 hour</td>\n",
       "      <td>My older brother and twin sister were leaving ...</td>\n",
       "      <td>1/17/2004</td>\n",
       "      <td>28.978333</td>\n",
       "      <td>-96.645833</td>\n",
       "    </tr>\n",
       "    <tr>\n",
       "      <th>2</th>\n",
       "      <td>10/10/1960 20:00</td>\n",
       "      <td>kaneohe</td>\n",
       "      <td>hi</td>\n",
       "      <td>us</td>\n",
       "      <td>light</td>\n",
       "      <td>900.0</td>\n",
       "      <td>15 minutes</td>\n",
       "      <td>AS a Marine 1st Lt. flying an FJ4B fighter/att...</td>\n",
       "      <td>1/22/2004</td>\n",
       "      <td>21.418056</td>\n",
       "      <td>-157.803611</td>\n",
       "    </tr>\n",
       "    <tr>\n",
       "      <th>3</th>\n",
       "      <td>10/10/1961 19:00</td>\n",
       "      <td>bristol</td>\n",
       "      <td>tn</td>\n",
       "      <td>us</td>\n",
       "      <td>sphere</td>\n",
       "      <td>300.0</td>\n",
       "      <td>5 minutes</td>\n",
       "      <td>My father is now 89 my brother 52 the girl wit...</td>\n",
       "      <td>4/27/2007</td>\n",
       "      <td>36.595000</td>\n",
       "      <td>-82.188889</td>\n",
       "    </tr>\n",
       "    <tr>\n",
       "      <th>4</th>\n",
       "      <td>10/10/1965 23:45</td>\n",
       "      <td>norwalk</td>\n",
       "      <td>ct</td>\n",
       "      <td>us</td>\n",
       "      <td>disk</td>\n",
       "      <td>1200.0</td>\n",
       "      <td>20 minutes</td>\n",
       "      <td>A bright orange color changing to reddish colo...</td>\n",
       "      <td>10/2/1999</td>\n",
       "      <td>41.117500</td>\n",
       "      <td>-73.408333</td>\n",
       "    </tr>\n",
       "  </tbody>\n",
       "</table>\n",
       "</div>"
      ],
      "text/plain": [
       "           datetime        city state country     shape  duration (seconds)  \\\n",
       "0  10/10/1949 20:30  san marcos    tx      us  cylinder              2700.0   \n",
       "1  10/10/1956 21:00        edna    tx      us    circle                20.0   \n",
       "2  10/10/1960 20:00     kaneohe    hi      us     light               900.0   \n",
       "3  10/10/1961 19:00     bristol    tn      us    sphere               300.0   \n",
       "4  10/10/1965 23:45     norwalk    ct      us      disk              1200.0   \n",
       "\n",
       "  duration (hours/min)                                           comments  \\\n",
       "0           45 minutes  This event took place in early fall around 194...   \n",
       "1             1/2 hour  My older brother and twin sister were leaving ...   \n",
       "2           15 minutes  AS a Marine 1st Lt. flying an FJ4B fighter/att...   \n",
       "3            5 minutes  My father is now 89 my brother 52 the girl wit...   \n",
       "4           20 minutes  A bright orange color changing to reddish colo...   \n",
       "\n",
       "  date posted   latitude  longitude   \n",
       "0   4/27/2004  29.883056  -97.941111  \n",
       "1   1/17/2004  28.978333  -96.645833  \n",
       "2   1/22/2004  21.418056 -157.803611  \n",
       "3   4/27/2007  36.595000  -82.188889  \n",
       "4   10/2/1999  41.117500  -73.408333  "
      ]
     },
     "execution_count": 2,
     "metadata": {},
     "output_type": "execute_result"
    }
   ],
   "source": [
    "# Create a reference the CSV file desired\n",
    "csv_path = os.path.join('Resources', 'usa_ufo_sightings.csv')\n",
    "\n",
    "# Read the CSV into a Pandas DataFrame\n",
    "usa_ufo_df = pd.read_csv(csv_path)\n",
    "\n",
    "# Print the first five rows of data to the screen\n",
    "usa_ufo_df.head()"
   ]
  },
  {
   "cell_type": "code",
   "execution_count": 3,
   "metadata": {},
   "outputs": [
    {
     "data": {
      "text/plain": [
       "ca    8683\n",
       "fl    3754\n",
       "wa    3707\n",
       "tx    3398\n",
       "ny    2915\n",
       "Name: state, dtype: int64"
      ]
     },
     "execution_count": 3,
     "metadata": {},
     "output_type": "execute_result"
    }
   ],
   "source": [
    "# Count how many sightings have occured within each state\n",
    "state_counts = usa_ufo_df[\"state\"].value_counts()\n",
    "state_counts.head()"
   ]
  },
  {
   "cell_type": "code",
   "execution_count": 4,
   "metadata": {
    "scrolled": true
   },
   "outputs": [
    {
     "name": "stdout",
     "output_type": "stream",
     "text": [
      "<class 'pandas.core.groupby.DataFrameGroupBy'>\n"
     ]
    },
    {
     "data": {
      "text/html": [
       "<div>\n",
       "<style>\n",
       "    .dataframe thead tr:only-child th {\n",
       "        text-align: right;\n",
       "    }\n",
       "\n",
       "    .dataframe thead th {\n",
       "        text-align: left;\n",
       "    }\n",
       "\n",
       "    .dataframe tbody tr th {\n",
       "        vertical-align: top;\n",
       "    }\n",
       "</style>\n",
       "<table border=\"1\" class=\"dataframe\">\n",
       "  <thead>\n",
       "    <tr style=\"text-align: right;\">\n",
       "      <th></th>\n",
       "      <th>datetime</th>\n",
       "      <th>city</th>\n",
       "      <th>country</th>\n",
       "      <th>shape</th>\n",
       "      <th>duration (seconds)</th>\n",
       "      <th>duration (hours/min)</th>\n",
       "      <th>comments</th>\n",
       "      <th>date posted</th>\n",
       "      <th>latitude</th>\n",
       "      <th>longitude</th>\n",
       "    </tr>\n",
       "    <tr>\n",
       "      <th>state</th>\n",
       "      <th></th>\n",
       "      <th></th>\n",
       "      <th></th>\n",
       "      <th></th>\n",
       "      <th></th>\n",
       "      <th></th>\n",
       "      <th></th>\n",
       "      <th></th>\n",
       "      <th></th>\n",
       "      <th></th>\n",
       "    </tr>\n",
       "  </thead>\n",
       "  <tbody>\n",
       "    <tr>\n",
       "      <th>ak</th>\n",
       "      <td>311</td>\n",
       "      <td>311</td>\n",
       "      <td>311</td>\n",
       "      <td>311</td>\n",
       "      <td>311</td>\n",
       "      <td>311</td>\n",
       "      <td>311</td>\n",
       "      <td>311</td>\n",
       "      <td>311</td>\n",
       "      <td>311</td>\n",
       "    </tr>\n",
       "    <tr>\n",
       "      <th>al</th>\n",
       "      <td>629</td>\n",
       "      <td>629</td>\n",
       "      <td>629</td>\n",
       "      <td>629</td>\n",
       "      <td>629</td>\n",
       "      <td>629</td>\n",
       "      <td>629</td>\n",
       "      <td>629</td>\n",
       "      <td>629</td>\n",
       "      <td>629</td>\n",
       "    </tr>\n",
       "    <tr>\n",
       "      <th>ar</th>\n",
       "      <td>578</td>\n",
       "      <td>578</td>\n",
       "      <td>578</td>\n",
       "      <td>578</td>\n",
       "      <td>578</td>\n",
       "      <td>578</td>\n",
       "      <td>578</td>\n",
       "      <td>578</td>\n",
       "      <td>578</td>\n",
       "      <td>578</td>\n",
       "    </tr>\n",
       "    <tr>\n",
       "      <th>az</th>\n",
       "      <td>2362</td>\n",
       "      <td>2362</td>\n",
       "      <td>2362</td>\n",
       "      <td>2362</td>\n",
       "      <td>2362</td>\n",
       "      <td>2362</td>\n",
       "      <td>2362</td>\n",
       "      <td>2362</td>\n",
       "      <td>2362</td>\n",
       "      <td>2362</td>\n",
       "    </tr>\n",
       "    <tr>\n",
       "      <th>ca</th>\n",
       "      <td>8683</td>\n",
       "      <td>8683</td>\n",
       "      <td>8683</td>\n",
       "      <td>8683</td>\n",
       "      <td>8683</td>\n",
       "      <td>8683</td>\n",
       "      <td>8683</td>\n",
       "      <td>8683</td>\n",
       "      <td>8683</td>\n",
       "      <td>8683</td>\n",
       "    </tr>\n",
       "  </tbody>\n",
       "</table>\n",
       "</div>"
      ],
      "text/plain": [
       "       datetime  city  country  shape  duration (seconds)  \\\n",
       "state                                                       \n",
       "ak          311   311      311    311                 311   \n",
       "al          629   629      629    629                 629   \n",
       "ar          578   578      578    578                 578   \n",
       "az         2362  2362     2362   2362                2362   \n",
       "ca         8683  8683     8683   8683                8683   \n",
       "\n",
       "       duration (hours/min)  comments  date posted  latitude  longitude   \n",
       "state                                                                     \n",
       "ak                      311       311          311       311         311  \n",
       "al                      629       629          629       629         629  \n",
       "ar                      578       578          578       578         578  \n",
       "az                     2362      2362         2362      2362        2362  \n",
       "ca                     8683      8683         8683      8683        8683  "
      ]
     },
     "execution_count": 4,
     "metadata": {},
     "output_type": "execute_result"
    }
   ],
   "source": [
    "# Using GroupBy in order to separate the data into fields according to \"state\" values\n",
    "grouped_usa = usa_ufo_df.groupby('state')\n",
    "\n",
    "# The object returned is a \"GroupBy\" object and cannot be viewed normally...\n",
    "print(type(grouped_usa))\n",
    "\n",
    "# In order to be visualized, a data function must be used...\n",
    "grouped_usa.count().head()"
   ]
  },
  {
   "cell_type": "code",
   "execution_count": 5,
   "metadata": {
    "scrolled": true
   },
   "outputs": [
    {
     "data": {
      "text/plain": [
       "state\n",
       "ak     1455863.00\n",
       "al      900453.50\n",
       "ar    66986144.50\n",
       "az    15453494.60\n",
       "ca    24865571.47\n",
       "Name: duration (seconds), dtype: float64"
      ]
     },
     "execution_count": 5,
     "metadata": {},
     "output_type": "execute_result"
    }
   ],
   "source": [
    "# Since \"duration (seconds)\" was converted to a numeric time, it can now be summed up per state\n",
    "state_duration = grouped_usa[\"duration (seconds)\"].sum()\n",
    "state_duration.head()"
   ]
  },
  {
   "cell_type": "code",
   "execution_count": 6,
   "metadata": {},
   "outputs": [
    {
     "data": {
      "text/html": [
       "<div>\n",
       "<style>\n",
       "    .dataframe thead tr:only-child th {\n",
       "        text-align: right;\n",
       "    }\n",
       "\n",
       "    .dataframe thead th {\n",
       "        text-align: left;\n",
       "    }\n",
       "\n",
       "    .dataframe tbody tr th {\n",
       "        vertical-align: top;\n",
       "    }\n",
       "</style>\n",
       "<table border=\"1\" class=\"dataframe\">\n",
       "  <thead>\n",
       "    <tr style=\"text-align: right;\">\n",
       "      <th></th>\n",
       "      <th>Number of Sightings</th>\n",
       "      <th>Total Visit Time</th>\n",
       "    </tr>\n",
       "  </thead>\n",
       "  <tbody>\n",
       "    <tr>\n",
       "      <th>ak</th>\n",
       "      <td>311</td>\n",
       "      <td>1455863.00</td>\n",
       "    </tr>\n",
       "    <tr>\n",
       "      <th>al</th>\n",
       "      <td>629</td>\n",
       "      <td>900453.50</td>\n",
       "    </tr>\n",
       "    <tr>\n",
       "      <th>ar</th>\n",
       "      <td>578</td>\n",
       "      <td>66986144.50</td>\n",
       "    </tr>\n",
       "    <tr>\n",
       "      <th>az</th>\n",
       "      <td>2362</td>\n",
       "      <td>15453494.60</td>\n",
       "    </tr>\n",
       "    <tr>\n",
       "      <th>ca</th>\n",
       "      <td>8683</td>\n",
       "      <td>24865571.47</td>\n",
       "    </tr>\n",
       "  </tbody>\n",
       "</table>\n",
       "</div>"
      ],
      "text/plain": [
       "    Number of Sightings  Total Visit Time\n",
       "ak                  311        1455863.00\n",
       "al                  629         900453.50\n",
       "ar                  578       66986144.50\n",
       "az                 2362       15453494.60\n",
       "ca                 8683       24865571.47"
      ]
     },
     "execution_count": 6,
     "metadata": {},
     "output_type": "execute_result"
    }
   ],
   "source": [
    "# Creating a new DataFrame using both duration and count\n",
    "state_summary_table = pd.DataFrame({\n",
    "    \"Number of Sightings\": state_counts,\n",
    "    \"Total Visit Time\": state_duration\n",
    "})\n",
    "state_summary_table.head()"
   ]
  },
  {
   "cell_type": "code",
   "execution_count": 7,
   "metadata": {
    "scrolled": false
   },
   "outputs": [
    {
     "data": {
      "text/plain": [
       "state  city        \n",
       "ak     adak               180.0\n",
       "       anchor point       300.0\n",
       "       anchorage       109187.0\n",
       "       angoon             600.0\n",
       "       auke bay         40200.0\n",
       "       bethel            2760.0\n",
       "       big lake           180.0\n",
       "       butte              240.0\n",
       "       chugiak            180.0\n",
       "       clam gulch        1200.0\n",
       "Name: duration (seconds), dtype: float64"
      ]
     },
     "execution_count": 7,
     "metadata": {},
     "output_type": "execute_result"
    }
   ],
   "source": [
    "# It is also possible to group a DataFrame by multiple columns\n",
    "# This returns an object with multiple indexes, however, which can be harder to deal with\n",
    "grouped_city = usa_ufo_df.groupby(['state','city'])\n",
    "\n",
    "# Converting a GroupBy object into a Series\n",
    "city_duration = grouped_city[\"duration (seconds)\"].sum()\n",
    "city_duration.head(10)"
   ]
  },
  {
   "cell_type": "code",
   "execution_count": 8,
   "metadata": {},
   "outputs": [
    {
     "data": {
      "text/html": [
       "<div>\n",
       "<style>\n",
       "    .dataframe thead tr:only-child th {\n",
       "        text-align: right;\n",
       "    }\n",
       "\n",
       "    .dataframe thead th {\n",
       "        text-align: left;\n",
       "    }\n",
       "\n",
       "    .dataframe tbody tr th {\n",
       "        vertical-align: top;\n",
       "    }\n",
       "</style>\n",
       "<table border=\"1\" class=\"dataframe\">\n",
       "  <thead>\n",
       "    <tr style=\"text-align: right;\">\n",
       "      <th></th>\n",
       "      <th></th>\n",
       "      <th>duration (seconds)</th>\n",
       "    </tr>\n",
       "    <tr>\n",
       "      <th>state</th>\n",
       "      <th>city</th>\n",
       "      <th></th>\n",
       "    </tr>\n",
       "  </thead>\n",
       "  <tbody>\n",
       "    <tr>\n",
       "      <th rowspan=\"5\" valign=\"top\">ak</th>\n",
       "      <th>adak</th>\n",
       "      <td>180.0</td>\n",
       "    </tr>\n",
       "    <tr>\n",
       "      <th>anchor point</th>\n",
       "      <td>300.0</td>\n",
       "    </tr>\n",
       "    <tr>\n",
       "      <th>anchorage</th>\n",
       "      <td>109187.0</td>\n",
       "    </tr>\n",
       "    <tr>\n",
       "      <th>angoon</th>\n",
       "      <td>600.0</td>\n",
       "    </tr>\n",
       "    <tr>\n",
       "      <th>auke bay</th>\n",
       "      <td>40200.0</td>\n",
       "    </tr>\n",
       "  </tbody>\n",
       "</table>\n",
       "</div>"
      ],
      "text/plain": [
       "                    duration (seconds)\n",
       "state city                            \n",
       "ak    adak                       180.0\n",
       "      anchor point               300.0\n",
       "      anchorage               109187.0\n",
       "      angoon                     600.0\n",
       "      auke bay                 40200.0"
      ]
     },
     "execution_count": 8,
     "metadata": {},
     "output_type": "execute_result"
    }
   ],
   "source": [
    "city_duration_df = pd.DataFrame(grouped_city[\"duration (seconds)\"].sum())\n",
    "city_duration_df.head()"
   ]
  },
  {
   "cell_type": "code",
   "execution_count": 9,
   "metadata": {},
   "outputs": [
    {
     "data": {
      "text/plain": [
       "109187.0"
      ]
     },
     "execution_count": 9,
     "metadata": {},
     "output_type": "execute_result"
    }
   ],
   "source": [
    "city_duration_df.loc['ak']\n",
    "city_duration_df.loc[('ak', 'anchorage'), 'duration (seconds)']"
   ]
  },
  {
   "cell_type": "code",
   "execution_count": null,
   "metadata": {
    "collapsed": true
   },
   "outputs": [],
   "source": []
  }
 ],
 "metadata": {
  "kernelspec": {
   "display_name": "Python [default]",
   "language": "python",
   "name": "python3"
  },
  "language_info": {
   "codemirror_mode": {
    "name": "ipython",
    "version": 3
   },
   "file_extension": ".py",
   "mimetype": "text/x-python",
   "name": "python",
   "nbconvert_exporter": "python",
   "pygments_lexer": "ipython3",
   "version": "3.6.4"
  }
 },
 "nbformat": 4,
 "nbformat_minor": 2
}
