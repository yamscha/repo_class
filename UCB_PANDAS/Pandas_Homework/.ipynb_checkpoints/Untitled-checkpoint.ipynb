{
 "cells": [
  {
   "cell_type": "code",
   "execution_count": null,
   "metadata": {},
   "outputs": [],
   "source": [
    "total_schools=schools_df[\"School ID\"].count()\n",
    "print(total_schools)\n",
    "\n",
    "#Total Budget\n",
    "total_budget = schools_df[\"budget\"].sum()\n",
    "print(total_budget)\n",
    "\n",
    "total_students = len(students_df1[\"name\"].unique())\n",
    "print(\"TotalStudents:\",total_students)\n",
    "\n",
    "OverallScore = total_students*200\n",
    "print(\"OverallScore\", OverallScore)\n",
    "\n",
    "total_math_score = students_df1[\"math_score\"].sum()\n",
    "total_reading_score = students_df1[\"reading_score\"].sum()\n",
    "print(\"Total_Math_Score:\", total_math_score)\n",
    "print(\"Total_Reading_Score:\", total_reading_score)\n",
    "\n",
    "avg_math_score = students_df1[\"math_score\"].mean()\n",
    "avg_reading_score = students_df1[\"reading_score\"].mean()\n",
    "print(\"Average_Math_Score:\",avg_math_score)\n",
    "print(\"Average_Reading_Score:\", avg_reading_score)\n",
    "\n"
   ]
  }
 ],
 "metadata": {
  "kernelspec": {
   "display_name": "Python [conda env:pythondata]",
   "language": "python",
   "name": "conda-env-pythondata-py"
  },
  "language_info": {
   "codemirror_mode": {
    "name": "ipython",
    "version": 3
   },
   "file_extension": ".py",
   "mimetype": "text/x-python",
   "name": "python",
   "nbconvert_exporter": "python",
   "pygments_lexer": "ipython3",
   "version": "3.6.4"
  }
 },
 "nbformat": 4,
 "nbformat_minor": 2
}
