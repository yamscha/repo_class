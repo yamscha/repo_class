{
 "cells": [
  {
   "cell_type": "code",
   "execution_count": null,
   "metadata": {},
   "outputs": [],
   "source": [
    "total_schools=schools_df[\"School ID\"].count()\n",
    "print(total_schools)\n",
    "\n",
    "#Total Budget\n",
    "total_budget = schools_df[\"budget\"].sum()\n",
    "print(total_budget)\n",
    "\n",
    "total_students = len(students_df1[\"name\"].unique())\n",
    "print(\"TotalStudents:\",total_students)\n",
    "\n",
    "OverallScore = total_students*200\n",
    "print(\"OverallScore\", OverallScore)\n",
    "\n",
    "total_math_score = students_df1[\"math_score\"].sum()\n",
    "total_reading_score = students_df1[\"reading_score\"].sum()\n",
    "print(\"Total_Math_Score:\", total_math_score)\n",
    "print(\"Total_Reading_Score:\", total_reading_score)\n",
    "\n",
    "avg_math_score = students_df1[\"math_score\"].mean()\n",
    "avg_reading_score = students_df1[\"reading_score\"].mean()\n",
    "print(\"Average_Math_Score:\",avg_math_score)\n",
    "print(\"Average_Reading_Score:\", avg_reading_score)\n",
    "\n"
   ]
  },
  {
   "cell_type": "code",
   "execution_count": null,
   "metadata": {},
   "outputs": [],
   "source": [
    "total_math_score = students_df1[\"math_score\"].sum()\n",
    "#each_school= students_df1[\"school\"].value_counts()['Bailey High School']\n",
    "bhs_count = students_df1.loc[students_df1[\"school\"]==\"Bailey High School\",\"math_score\"].sum()\n",
    "chs_count = students_df1.loc[students_df1[\"school\"]==\"Cabrera High School\",\"math_score\"].sum()\n",
    "fhs_count = students_df1.loc[students_df1[\"school\"]==\"Figueroa High School\",\"math_score\"].sum()\n",
    "ford_hs_count = students_df1.loc[students_df1[\"school\"]==\"Ford High School\",\"math_score\"].sum()\n",
    "huang_hs_count=students_df1.loc[students_df1[\"school\"]==\"Huang High School\",\"math_score\"].sum()\n",
    "shelton_hs_count = students_df1.loc[students_df1[\"school\"]==\"Shelton High School\",\"math_score\"].sum()\n",
    "hernandez_hs_count= students_df1.loc[students_df1[\"school\"]==\"Hernandez High School\",\"math_score\"].sum()\n",
    "print(total_math_score)\n",
    "\n",
    "print(\"BHS_count:\",bhs_count)\n",
    "print(\"CHS_count:\",chs_count)\n",
    "print(\"FHS_count:\",fhs_count)\n",
    "print(\"Ford_hs_count:\",ford_hs_count)\n",
    "print(\"Huang_hs_count:\",huang_hs_count)\n",
    "print(\"Shelton_hs_count:\",shelton_hs_count)\n",
    "print(\"Hernandez_hs_count:\",hernandez_hs_count)\n",
    "\n",
    "percent_bhs = bhs_count/total_math_score*100\n",
    "percent_chs = chs_count/total_math_score*100\n",
    "percent_fhs = fhs_count/total_math_score*100\n",
    "percent_ford_hs = ford_hs_count/total_math_score*100\n",
    "percent_huang_hs=huang_hs_count/total_math_score*100\n",
    "percent_shelton_hs= shelton_hs_count/total_math_score*100\n",
    "percent_hernandez_hs = hernandez_hs_count/total_math_score*100\n",
    "\n",
    "\n",
    "print(\"BHS_Percentage:\",percent_bhs)\n",
    "print(\"CHS_percentage:\",percent_chs)\n",
    "print(\"FHS_percentage:\",percent_fhs)\n",
    "print(\"Ford_HS_percentage:\",percent_ford_hs)\n",
    "print(\"Huang_HS_percentage:\",percent_huang_hs)\n",
    "print(\"Shelton_HS_percentage:\",percent_shelton_hs)"
   ]
  }
 ],
 "metadata": {
  "kernelspec": {
   "display_name": "Python [conda env:pythondata]",
   "language": "python",
   "name": "conda-env-pythondata-py"
  },
  "language_info": {
   "codemirror_mode": {
    "name": "ipython",
    "version": 3
   },
   "file_extension": ".py",
   "mimetype": "text/x-python",
   "name": "python",
   "nbconvert_exporter": "python",
   "pygments_lexer": "ipython3",
   "version": "3.6.4"
  }
 },
 "nbformat": 4,
 "nbformat_minor": 2
}
