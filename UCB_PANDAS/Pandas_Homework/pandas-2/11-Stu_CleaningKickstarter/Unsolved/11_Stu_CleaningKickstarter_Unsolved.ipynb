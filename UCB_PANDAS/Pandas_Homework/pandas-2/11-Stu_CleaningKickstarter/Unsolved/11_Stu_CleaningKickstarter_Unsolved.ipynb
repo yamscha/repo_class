{
 "cells": [
  {
   "cell_type": "code",
   "execution_count": 1,
   "metadata": {},
   "outputs": [],
   "source": [
    "import pandas as pd\n",
    "import os"
   ]
  },
  {
   "cell_type": "code",
   "execution_count": 2,
   "metadata": {},
   "outputs": [
    {
     "name": "stdout",
     "output_type": "stream",
     "text": [
      " Volume in drive C is Windows\n",
      " Volume Serial Number is 8C14-D10F\n",
      "\n",
      " Directory of C:\\Users\\renuka\\Desktop\\pandas-2\\11-Stu_CleaningKickstarter\\Unsolved\n",
      "\n",
      "02/06/2018  09:24 PM    <DIR>          .\n",
      "02/06/2018  09:24 PM    <DIR>          ..\n",
      "02/06/2018  09:10 PM    <DIR>          .ipynb_checkpoints\n",
      "02/06/2018  09:24 PM             4,023 11_Stu_CleaningKickstarter_Unsolved.ipynb\n",
      "02/06/2018  06:41 PM    <DIR>          Resources\n",
      "               1 File(s)          4,023 bytes\n",
      "               4 Dir(s)  263,449,415,680 bytes free\n"
     ]
    }
   ],
   "source": [
    "# Get a list of all of our columns for easy reference\n",
    "%ls"
   ]
  },
  {
   "cell_type": "code",
   "execution_count": 3,
   "metadata": {},
   "outputs": [
    {
     "data": {
      "text/html": [
       "<div>\n",
       "<style scoped>\n",
       "    .dataframe tbody tr th:only-of-type {\n",
       "        vertical-align: middle;\n",
       "    }\n",
       "\n",
       "    .dataframe tbody tr th {\n",
       "        vertical-align: top;\n",
       "    }\n",
       "\n",
       "    .dataframe thead th {\n",
       "        text-align: right;\n",
       "    }\n",
       "</style>\n",
       "<table border=\"1\" class=\"dataframe\">\n",
       "  <thead>\n",
       "    <tr style=\"text-align: right;\">\n",
       "      <th></th>\n",
       "      <th>id</th>\n",
       "      <th>photo</th>\n",
       "      <th>name</th>\n",
       "      <th>blurb</th>\n",
       "      <th>goal</th>\n",
       "      <th>pledged</th>\n",
       "      <th>state</th>\n",
       "      <th>slug</th>\n",
       "      <th>disable_communication</th>\n",
       "      <th>country</th>\n",
       "      <th>...</th>\n",
       "      <th>location</th>\n",
       "      <th>category</th>\n",
       "      <th>profile</th>\n",
       "      <th>spotlight</th>\n",
       "      <th>urls</th>\n",
       "      <th>source_url</th>\n",
       "      <th>friends</th>\n",
       "      <th>is_starred</th>\n",
       "      <th>is_backing</th>\n",
       "      <th>permissions</th>\n",
       "    </tr>\n",
       "  </thead>\n",
       "  <tbody>\n",
       "    <tr>\n",
       "      <th>0</th>\n",
       "      <td>1645666704</td>\n",
       "      <td>{\"small\":\"https://ksr-ugc.imgix.net/assets/012...</td>\n",
       "      <td>The Class Act Players Theatre Company Presents...</td>\n",
       "      <td>The Class Act Players put on another one of th...</td>\n",
       "      <td>1500.0</td>\n",
       "      <td>2925.0</td>\n",
       "      <td>successful</td>\n",
       "      <td>the-class-act-players-theatre-company-presents...</td>\n",
       "      <td>False</td>\n",
       "      <td>US</td>\n",
       "      <td>...</td>\n",
       "      <td>{\"country\":\"US\",\"urls\":{\"web\":{\"discover\":\"htt...</td>\n",
       "      <td>{\"urls\":{\"web\":{\"discover\":\"http://www.kicksta...</td>\n",
       "      <td>{\"background_image_opacity\":0.8,\"should_show_f...</td>\n",
       "      <td>True</td>\n",
       "      <td>{\"web\":{\"project\":\"https://www.kickstarter.com...</td>\n",
       "      <td>https://www.kickstarter.com/discover/categorie...</td>\n",
       "      <td>NaN</td>\n",
       "      <td>NaN</td>\n",
       "      <td>NaN</td>\n",
       "      <td>NaN</td>\n",
       "    </tr>\n",
       "    <tr>\n",
       "      <th>1</th>\n",
       "      <td>874638240</td>\n",
       "      <td>{\"small\":\"https://ksr-ugc.imgix.net/assets/012...</td>\n",
       "      <td>MR INCREDIBLE by Camilla Whitehill - VAULT Fes...</td>\n",
       "      <td>A brand new play about love and entitlement, b...</td>\n",
       "      <td>2500.0</td>\n",
       "      <td>2936.0</td>\n",
       "      <td>successful</td>\n",
       "      <td>mr-incredible-by-camilla-whitehill-vault-festival</td>\n",
       "      <td>False</td>\n",
       "      <td>GB</td>\n",
       "      <td>...</td>\n",
       "      <td>{\"country\":\"GB\",\"urls\":{\"web\":{\"discover\":\"htt...</td>\n",
       "      <td>{\"urls\":{\"web\":{\"discover\":\"http://www.kicksta...</td>\n",
       "      <td>{\"background_image_opacity\":0.8,\"should_show_f...</td>\n",
       "      <td>True</td>\n",
       "      <td>{\"web\":{\"project\":\"https://www.kickstarter.com...</td>\n",
       "      <td>https://www.kickstarter.com/discover/categorie...</td>\n",
       "      <td>NaN</td>\n",
       "      <td>NaN</td>\n",
       "      <td>NaN</td>\n",
       "      <td>NaN</td>\n",
       "    </tr>\n",
       "    <tr>\n",
       "      <th>2</th>\n",
       "      <td>247074984</td>\n",
       "      <td>{\"small\":\"https://ksr-ugc.imgix.net/assets/012...</td>\n",
       "      <td>RUN</td>\n",
       "      <td>Yonni's pissed off in a world filled with scho...</td>\n",
       "      <td>1000.0</td>\n",
       "      <td>1200.0</td>\n",
       "      <td>successful</td>\n",
       "      <td>run-10</td>\n",
       "      <td>False</td>\n",
       "      <td>GB</td>\n",
       "      <td>...</td>\n",
       "      <td>{\"country\":\"GB\",\"urls\":{\"web\":{\"discover\":\"htt...</td>\n",
       "      <td>{\"urls\":{\"web\":{\"discover\":\"http://www.kicksta...</td>\n",
       "      <td>{\"background_image_opacity\":0.8,\"should_show_f...</td>\n",
       "      <td>True</td>\n",
       "      <td>{\"web\":{\"project\":\"https://www.kickstarter.com...</td>\n",
       "      <td>https://www.kickstarter.com/discover/categorie...</td>\n",
       "      <td>NaN</td>\n",
       "      <td>NaN</td>\n",
       "      <td>NaN</td>\n",
       "      <td>NaN</td>\n",
       "    </tr>\n",
       "    <tr>\n",
       "      <th>3</th>\n",
       "      <td>1941196813</td>\n",
       "      <td>{\"small\":\"https://ksr-ugc.imgix.net/assets/012...</td>\n",
       "      <td>9th International Meeting of Youth Theatre sap...</td>\n",
       "      <td>27. April bis 1. Mai 2016 in Brixen/Südtirol/I...</td>\n",
       "      <td>2000.0</td>\n",
       "      <td>2135.0</td>\n",
       "      <td>successful</td>\n",
       "      <td>9th-international-meeting-of-youth-theatre-sap...</td>\n",
       "      <td>False</td>\n",
       "      <td>IT</td>\n",
       "      <td>...</td>\n",
       "      <td>{\"country\":\"IT\",\"urls\":{\"web\":{\"discover\":\"htt...</td>\n",
       "      <td>{\"urls\":{\"web\":{\"discover\":\"http://www.kicksta...</td>\n",
       "      <td>{\"background_image_opacity\":0.8,\"should_show_f...</td>\n",
       "      <td>True</td>\n",
       "      <td>{\"web\":{\"project\":\"https://www.kickstarter.com...</td>\n",
       "      <td>https://www.kickstarter.com/discover/categorie...</td>\n",
       "      <td>NaN</td>\n",
       "      <td>NaN</td>\n",
       "      <td>NaN</td>\n",
       "      <td>NaN</td>\n",
       "    </tr>\n",
       "    <tr>\n",
       "      <th>4</th>\n",
       "      <td>421961595</td>\n",
       "      <td>{\"small\":\"https://ksr-ugc.imgix.net/assets/012...</td>\n",
       "      <td>Get Conti to the Ed Fringe!</td>\n",
       "      <td>The Italia Conti 2nd years are going to Ed Fri...</td>\n",
       "      <td>1000.0</td>\n",
       "      <td>1250.0</td>\n",
       "      <td>successful</td>\n",
       "      <td>get-conti-to-the-ed-fringe</td>\n",
       "      <td>False</td>\n",
       "      <td>GB</td>\n",
       "      <td>...</td>\n",
       "      <td>{\"country\":\"GB\",\"urls\":{\"web\":{\"discover\":\"htt...</td>\n",
       "      <td>{\"urls\":{\"web\":{\"discover\":\"http://www.kicksta...</td>\n",
       "      <td>{\"background_image_opacity\":0.8,\"should_show_f...</td>\n",
       "      <td>True</td>\n",
       "      <td>{\"web\":{\"project\":\"https://www.kickstarter.com...</td>\n",
       "      <td>https://www.kickstarter.com/discover/categorie...</td>\n",
       "      <td>NaN</td>\n",
       "      <td>NaN</td>\n",
       "      <td>NaN</td>\n",
       "      <td>NaN</td>\n",
       "    </tr>\n",
       "  </tbody>\n",
       "</table>\n",
       "<p>5 rows × 33 columns</p>\n",
       "</div>"
      ],
      "text/plain": [
       "           id                                              photo  \\\n",
       "0  1645666704  {\"small\":\"https://ksr-ugc.imgix.net/assets/012...   \n",
       "1   874638240  {\"small\":\"https://ksr-ugc.imgix.net/assets/012...   \n",
       "2   247074984  {\"small\":\"https://ksr-ugc.imgix.net/assets/012...   \n",
       "3  1941196813  {\"small\":\"https://ksr-ugc.imgix.net/assets/012...   \n",
       "4   421961595  {\"small\":\"https://ksr-ugc.imgix.net/assets/012...   \n",
       "\n",
       "                                                name  \\\n",
       "0  The Class Act Players Theatre Company Presents...   \n",
       "1  MR INCREDIBLE by Camilla Whitehill - VAULT Fes...   \n",
       "2                                                RUN   \n",
       "3  9th International Meeting of Youth Theatre sap...   \n",
       "4                        Get Conti to the Ed Fringe!   \n",
       "\n",
       "                                               blurb    goal  pledged  \\\n",
       "0  The Class Act Players put on another one of th...  1500.0   2925.0   \n",
       "1  A brand new play about love and entitlement, b...  2500.0   2936.0   \n",
       "2  Yonni's pissed off in a world filled with scho...  1000.0   1200.0   \n",
       "3  27. April bis 1. Mai 2016 in Brixen/Südtirol/I...  2000.0   2135.0   \n",
       "4  The Italia Conti 2nd years are going to Ed Fri...  1000.0   1250.0   \n",
       "\n",
       "        state                                               slug  \\\n",
       "0  successful  the-class-act-players-theatre-company-presents...   \n",
       "1  successful  mr-incredible-by-camilla-whitehill-vault-festival   \n",
       "2  successful                                             run-10   \n",
       "3  successful  9th-international-meeting-of-youth-theatre-sap...   \n",
       "4  successful                         get-conti-to-the-ed-fringe   \n",
       "\n",
       "   disable_communication country     ...       \\\n",
       "0                  False      US     ...        \n",
       "1                  False      GB     ...        \n",
       "2                  False      GB     ...        \n",
       "3                  False      IT     ...        \n",
       "4                  False      GB     ...        \n",
       "\n",
       "                                            location  \\\n",
       "0  {\"country\":\"US\",\"urls\":{\"web\":{\"discover\":\"htt...   \n",
       "1  {\"country\":\"GB\",\"urls\":{\"web\":{\"discover\":\"htt...   \n",
       "2  {\"country\":\"GB\",\"urls\":{\"web\":{\"discover\":\"htt...   \n",
       "3  {\"country\":\"IT\",\"urls\":{\"web\":{\"discover\":\"htt...   \n",
       "4  {\"country\":\"GB\",\"urls\":{\"web\":{\"discover\":\"htt...   \n",
       "\n",
       "                                            category  \\\n",
       "0  {\"urls\":{\"web\":{\"discover\":\"http://www.kicksta...   \n",
       "1  {\"urls\":{\"web\":{\"discover\":\"http://www.kicksta...   \n",
       "2  {\"urls\":{\"web\":{\"discover\":\"http://www.kicksta...   \n",
       "3  {\"urls\":{\"web\":{\"discover\":\"http://www.kicksta...   \n",
       "4  {\"urls\":{\"web\":{\"discover\":\"http://www.kicksta...   \n",
       "\n",
       "                                             profile  spotlight  \\\n",
       "0  {\"background_image_opacity\":0.8,\"should_show_f...       True   \n",
       "1  {\"background_image_opacity\":0.8,\"should_show_f...       True   \n",
       "2  {\"background_image_opacity\":0.8,\"should_show_f...       True   \n",
       "3  {\"background_image_opacity\":0.8,\"should_show_f...       True   \n",
       "4  {\"background_image_opacity\":0.8,\"should_show_f...       True   \n",
       "\n",
       "                                                urls  \\\n",
       "0  {\"web\":{\"project\":\"https://www.kickstarter.com...   \n",
       "1  {\"web\":{\"project\":\"https://www.kickstarter.com...   \n",
       "2  {\"web\":{\"project\":\"https://www.kickstarter.com...   \n",
       "3  {\"web\":{\"project\":\"https://www.kickstarter.com...   \n",
       "4  {\"web\":{\"project\":\"https://www.kickstarter.com...   \n",
       "\n",
       "                                          source_url  friends  is_starred  \\\n",
       "0  https://www.kickstarter.com/discover/categorie...      NaN         NaN   \n",
       "1  https://www.kickstarter.com/discover/categorie...      NaN         NaN   \n",
       "2  https://www.kickstarter.com/discover/categorie...      NaN         NaN   \n",
       "3  https://www.kickstarter.com/discover/categorie...      NaN         NaN   \n",
       "4  https://www.kickstarter.com/discover/categorie...      NaN         NaN   \n",
       "\n",
       "   is_backing  permissions  \n",
       "0         NaN          NaN  \n",
       "1         NaN          NaN  \n",
       "2         NaN          NaN  \n",
       "3         NaN          NaN  \n",
       "4         NaN          NaN  \n",
       "\n",
       "[5 rows x 33 columns]"
      ]
     },
     "execution_count": 3,
     "metadata": {},
     "output_type": "execute_result"
    }
   ],
   "source": [
    "\n",
    "# The path to our CSV file\n",
    "file = os.path.join('Resources', 'KickstarterData.csv')\n",
    "\n",
    "# Read our Kickstarter data into pandas\n",
    "df = pd.read_csv(file)\n",
    "df.head()\n"
   ]
  },
  {
   "cell_type": "code",
   "execution_count": 4,
   "metadata": {
    "scrolled": true
   },
   "outputs": [],
   "source": [
    "# Create a new dataframe with the following columns: \n",
    "# \"name\", \"goal\", \"pledged\", \"state\", \"country\", \"staff_pick\",\n",
    "# \"backers_count\", and \"spotlight\""
   ]
  },
  {
   "cell_type": "code",
   "execution_count": 5,
   "metadata": {
    "scrolled": true
   },
   "outputs": [],
   "source": [
    "# Get rid of projects that made no money at all\n"
   ]
  },
  {
   "cell_type": "code",
   "execution_count": 6,
   "metadata": {
    "scrolled": true
   },
   "outputs": [],
   "source": [
    "# Collect only those projects that were hosted in the US\n"
   ]
  },
  {
   "cell_type": "code",
   "execution_count": 7,
   "metadata": {},
   "outputs": [],
   "source": [
    "# Create a new column that finds the average amount pledged to a project\n"
   ]
  },
  {
   "cell_type": "code",
   "execution_count": 8,
   "metadata": {},
   "outputs": [],
   "source": [
    "# Format our \"average_donation\", \"goal\", and \"pledged\" columns\n",
    "# to go to two decimal places, include a dollar sign, and use comma notation\n"
   ]
  },
  {
   "cell_type": "code",
   "execution_count": 9,
   "metadata": {},
   "outputs": [],
   "source": [
    "# Calculate the total number of backers for all US projects\n"
   ]
  },
  {
   "cell_type": "code",
   "execution_count": 10,
   "metadata": {},
   "outputs": [],
   "source": [
    "# Calculate the average number of backers for all US projects\n"
   ]
  },
  {
   "cell_type": "code",
   "execution_count": 11,
   "metadata": {
    "scrolled": true
   },
   "outputs": [],
   "source": [
    "# Collect only those US campaigns that have been picked as a \"Staff Pick\"\n"
   ]
  },
  {
   "cell_type": "code",
   "execution_count": 12,
   "metadata": {},
   "outputs": [],
   "source": [
    "# Group by the state of the campaigns and see if staff picks matter (Seems to matter quite a bit)\n"
   ]
  },
  {
   "cell_type": "code",
   "execution_count": null,
   "metadata": {},
   "outputs": [],
   "source": []
  }
 ],
 "metadata": {
  "kernelspec": {
   "display_name": "Python [conda env:pythondata]",
   "language": "python",
   "name": "conda-env-pythondata-py"
  },
  "language_info": {
   "codemirror_mode": {
    "name": "ipython",
    "version": 3
   },
   "file_extension": ".py",
   "mimetype": "text/x-python",
   "name": "python",
   "nbconvert_exporter": "python",
   "pygments_lexer": "ipython3",
   "version": "3.6.4"
  }
 },
 "nbformat": 4,
 "nbformat_minor": 2
}
