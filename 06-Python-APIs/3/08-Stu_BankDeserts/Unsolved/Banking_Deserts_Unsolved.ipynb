{
 "cells": [
  {
   "cell_type": "markdown",
   "metadata": {},
   "source": [
    "# Banking Deserts\n",
    "---\n",
    "The below script uncovers the well-known phenomenon of [Banking Deserts](https://en.wikipedia.org/wiki/Banking_desert). The concept is simple: many neighborhoods with predominantly low-income and elderly populations tend to have inadequate coverage of banking services. This leads such communities to be  vulnerable to predatory loan and pricey check casher providers.\n",
    "\n",
    "In this script, we retrieved and plotted data from the 2013 US Census and Google Places API to show the relationship between various socioeconomic parameters and bank count across 700 randomly selected zip codes. We used Pandas, Numpy, Matplotlib, Requests, Census API, and Google API to accomplish our task."
   ]
  },
  {
   "cell_type": "code",
   "execution_count": null,
   "metadata": {
    "collapsed": true
   },
   "outputs": [],
   "source": [
    "# Dependencies\n",
    "import numpy as np\n",
    "import pandas as pd\n",
    "import matplotlib.pyplot as plt\n",
    "import requests\n",
    "import time\n",
    "\n",
    "# Google Places API Key from config\n"
   ]
  },
  {
   "cell_type": "markdown",
   "metadata": {},
   "source": [
    "## Data Retrieval"
   ]
  },
  {
   "cell_type": "code",
   "execution_count": null,
   "metadata": {
    "collapsed": true
   },
   "outputs": [],
   "source": [
    "# Import the census data into a pandas DataFrame\n",
    "\n",
    "\n",
    "# Preview the data\n"
   ]
  },
  {
   "cell_type": "code",
   "execution_count": null,
   "metadata": {
    "collapsed": true
   },
   "outputs": [],
   "source": [
    "# Randomly select 700 zip codes locations that have at least 100 residents\n",
    "# Hint: `pd.sample()`\n",
    "# Hint: `pd[pd[astype(int) > 100`]]`\n",
    "\n",
    "\n",
    "\n",
    "# Visualize the DataFrame\n",
    "\n"
   ]
  },
  {
   "cell_type": "code",
   "execution_count": null,
   "metadata": {
    "collapsed": true
   },
   "outputs": [],
   "source": [
    "# Create a DataFrame with only a subset of the zipcodes for testing purposes\n",
    "# One your code runs successfully, run it on all 700."
   ]
  },
  {
   "cell_type": "code",
   "execution_count": null,
   "metadata": {
    "collapsed": true
   },
   "outputs": [],
   "source": [
    "# Create blank columns in DataFrame for lat/lng\n",
    "\n",
    "\n",
    "\n",
    "# Loop through and grab the lat/lng for each of the selected zips using Google maps\n",
    "# Inside the loop add the lat/lng to our DataFrame\n",
    "# Note: Be sure to use try/except to handle cities with missing data\n",
    "\n",
    "\n",
    "\n",
    "\n",
    "\n",
    "\n",
    "\n",
    "# Visualize the DataFrame\n"
   ]
  },
  {
   "cell_type": "code",
   "execution_count": null,
   "metadata": {
    "collapsed": true
   },
   "outputs": [],
   "source": [
    "# Create an empty column for bank count\n",
    "\n",
    "\n",
    "# Re-loop through the DataFrame and run a Google Places search to get all banks in 5 mile radius (8000 meters)\n",
    "# Inside the loop add the bank count to our DataFrame\n",
    "\n",
    "\n",
    "\n",
    "\n",
    "\n",
    "\n",
    "\n",
    "# Visualize the DataFrame\n"
   ]
  },
  {
   "cell_type": "markdown",
   "metadata": {},
   "source": [
    "## Save to a CSV"
   ]
  },
  {
   "cell_type": "code",
   "execution_count": null,
   "metadata": {
    "collapsed": true
   },
   "outputs": [],
   "source": [
    "# Save the DataFrame as a csv\n"
   ]
  },
  {
   "cell_type": "markdown",
   "metadata": {},
   "source": [
    "## Plot & Save Graphs"
   ]
  },
  {
   "cell_type": "code",
   "execution_count": null,
   "metadata": {
    "collapsed": true
   },
   "outputs": [],
   "source": [
    "# Build a scatter plot for each data type \n"
   ]
  },
  {
   "cell_type": "code",
   "execution_count": null,
   "metadata": {
    "collapsed": true
   },
   "outputs": [],
   "source": [
    "# Build a scatter plot for each data type\n",
    "plt.scatter(selected_zips[\"Bank Count\"], \n",
    "            selected_zips[\"Median Age\"],\n",
    "            edgecolor=\"black\", linewidths=1, marker=\"o\", \n",
    "            alpha=0.8, label=\"Zip Codes\")\n",
    "\n",
    "# Incorporate the other graph properties\n",
    "plt.title(\"Median Age vs. Bank Count by Zip Code\")\n",
    "plt.ylabel(\"Median Age\")\n",
    "plt.xlabel(\"Bank Count\")\n",
    "plt.grid(True)\n",
    "plt.xlim([-2.5, 202])\n",
    "\n",
    "# Save the figure\n",
    "plt.savefig(\"output_analysis/Age_BankCount.png\")\n",
    "\n",
    "# Show plot\n",
    "plt.show()"
   ]
  },
  {
   "cell_type": "code",
   "execution_count": null,
   "metadata": {
    "collapsed": true
   },
   "outputs": [],
   "source": [
    "# Build a scatter plot for each data type\n",
    "plt.scatter(selected_zips[\"Bank Count\"], \n",
    "            selected_zips[\"Household Income\"],\n",
    "            edgecolor=\"black\", linewidths=1, marker=\"o\", \n",
    "            alpha=0.8, label=\"Zip Codes\")\n",
    "\n",
    "# Incorporate the other graph properties\n",
    "plt.title(\"Household Income vs. Bank Count by Zip Code\")\n",
    "plt.ylabel(\"Household Income ($)\")\n",
    "plt.xlabel(\"Bank Count\")\n",
    "plt.grid(True)\n",
    "plt.xlim([-2.5, 202])\n",
    "plt.ylim([-2.5, 230000])\n",
    "\n",
    "# Save the figure\n",
    "plt.savefig(\"output_analysis/HouseholdIncome_BankCount.png\")\n",
    "\n",
    "# Show plot\n",
    "plt.show()"
   ]
  },
  {
   "cell_type": "code",
   "execution_count": null,
   "metadata": {
    "collapsed": true
   },
   "outputs": [],
   "source": [
    "# Build a scatter plot for each data type\n",
    "plt.scatter(selected_zips[\"Bank Count\"], \n",
    "            selected_zips[\"Per Capita Income\"],\n",
    "            edgecolor=\"black\", linewidths=1, marker=\"o\", \n",
    "            alpha=0.8, label=\"Zip Codes\")\n",
    "\n",
    "# Incorporate the other graph properties\n",
    "plt.title(\"Per Capita Income vs. Bank Count by Zip Code\")\n",
    "plt.ylabel(\"Per Capita Income (%)\")\n",
    "plt.xlabel(\"Bank Count\")\n",
    "plt.grid(True)\n",
    "plt.xlim([-2.5, 202])\n",
    "plt.ylim([0, 165000])\n",
    "\n",
    "# Save the figure\n",
    "plt.savefig(\"output_analysis/PerCapitaIncome_BankCount.png\")\n",
    "\n",
    "# Show plot\n",
    "plt.show()"
   ]
  },
  {
   "cell_type": "code",
   "execution_count": null,
   "metadata": {
    "collapsed": true
   },
   "outputs": [],
   "source": [
    "# Build a scatter plot for each data type\n",
    "plt.scatter(selected_zips[\"Bank Count\"], \n",
    "            selected_zips[\"Poverty Rate\"],\n",
    "            edgecolor=\"black\", linewidths=1, marker=\"o\", \n",
    "            alpha=0.8, label=\"Zip Codes\")\n",
    "\n",
    "# Incorporate the other graph properties\n",
    "plt.title(\"Poverty Rate vs. Bank Count by Zip Code\")\n",
    "plt.ylabel(\"Poverty Rate (%)\")\n",
    "plt.xlabel(\"Bank Count\")\n",
    "plt.grid(True)\n",
    "plt.xlim([-2.5, 202])\n",
    "plt.ylim([-2.5, 102])\n",
    "\n",
    "# Save the figure\n",
    "plt.savefig(\"output_analysis/PovertyRate_BankCount.png\")\n",
    "\n",
    "# Show plot\n",
    "plt.show()"
   ]
  },
  {
   "cell_type": "code",
   "execution_count": null,
   "metadata": {
    "collapsed": true
   },
   "outputs": [],
   "source": []
  }
 ],
 "metadata": {
  "anaconda-cloud": {},
  "kernelspec": {
   "display_name": "Python [conda env:PythonData]",
   "language": "python",
   "name": "conda-env-PythonData-py"
  },
  "language_info": {
   "codemirror_mode": {
    "name": "ipython",
    "version": 3
   },
   "file_extension": ".py",
   "mimetype": "text/x-python",
   "name": "python",
   "nbconvert_exporter": "python",
   "pygments_lexer": "ipython3",
   "version": "3.6.1"
  }
 },
 "nbformat": 4,
 "nbformat_minor": 1
}
