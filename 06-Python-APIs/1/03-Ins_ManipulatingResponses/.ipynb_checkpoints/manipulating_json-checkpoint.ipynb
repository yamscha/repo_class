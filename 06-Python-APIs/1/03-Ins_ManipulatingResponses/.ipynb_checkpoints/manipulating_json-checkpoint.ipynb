{
 "cells": [
  {
   "cell_type": "code",
   "execution_count": 7,
   "metadata": {},
   "outputs": [],
   "source": [
    "# Dependencies\n",
    "import requests\n",
    "import json"
   ]
  },
  {
   "cell_type": "code",
   "execution_count": 2,
   "metadata": {},
   "outputs": [],
   "source": [
    "# Performing a GET Request and saving the API's response within a variable\n",
    "url = \"https://api.spacexdata.com/v2/rockets/falcon9\""
   ]
  },
  {
   "cell_type": "code",
   "execution_count": 3,
   "metadata": {},
   "outputs": [],
   "source": [
    "    response = requests.get(url)\n",
    "    response_json = response.json()"
   ]
  },
  {
   "cell_type": "code",
   "execution_count": 4,
   "metadata": {},
   "outputs": [
    {
     "data": {
      "text/plain": [
       "dict"
      ]
     },
     "execution_count": 4,
     "metadata": {},
     "output_type": "execute_result"
    }
   ],
   "source": [
    "type(response_json)"
   ]
  },
  {
   "cell_type": "code",
   "execution_count": 5,
   "metadata": {},
   "outputs": [
    {
     "data": {
      "text/plain": [
       "dict_keys(['id', 'name', 'type', 'active', 'stages', 'boosters', 'cost_per_launch', 'success_rate_pct', 'first_flight', 'country', 'company', 'height', 'diameter', 'mass', 'payload_weights', 'first_stage', 'second_stage', 'engines', 'landing_legs', 'description'])"
      ]
     },
     "execution_count": 5,
     "metadata": {},
     "output_type": "execute_result"
    }
   ],
   "source": [
    "response_json.keys()"
   ]
  },
  {
   "cell_type": "code",
   "execution_count": 8,
   "metadata": {},
   "outputs": [
    {
     "name": "stdout",
     "output_type": "stream",
     "text": [
      "{\n",
      "    \"active\": true,\n",
      "    \"boosters\": 0,\n",
      "    \"company\": \"SpaceX\",\n",
      "    \"cost_per_launch\": 61200000,\n",
      "    \"country\": \"United States\",\n",
      "    \"description\": \"Falcon 9 is a two-stage rocket designed and manufactured by SpaceX for the reliable and safe transport of satellites and the Dragon spacecraft into orbit.\",\n",
      "    \"diameter\": {\n",
      "        \"feet\": 12,\n",
      "        \"meters\": 3.7\n",
      "    },\n",
      "    \"engines\": {\n",
      "        \"engine_loss_max\": 2,\n",
      "        \"layout\": \"octaweb\",\n",
      "        \"number\": 9,\n",
      "        \"propellant_1\": \"liquid oxygen\",\n",
      "        \"propellant_2\": \"RP-1 kerosene\",\n",
      "        \"thrust_sea_level\": {\n",
      "            \"kN\": 845,\n",
      "            \"lbf\": 190000\n",
      "        },\n",
      "        \"thrust_to_weight\": 180.1,\n",
      "        \"thrust_vacuum\": {\n",
      "            \"kN\": 914,\n",
      "            \"lbf\": 205500\n",
      "        },\n",
      "        \"type\": \"merlin\",\n",
      "        \"version\": \"1D+\"\n",
      "    },\n",
      "    \"first_flight\": \"2010-06-04\",\n",
      "    \"first_stage\": {\n",
      "        \"burn_time_sec\": 162,\n",
      "        \"engines\": 9,\n",
      "        \"fuel_amount_tons\": 385,\n",
      "        \"reusable\": true,\n",
      "        \"thrust_sea_level\": {\n",
      "            \"kN\": 7607,\n",
      "            \"lbf\": 1710000\n",
      "        },\n",
      "        \"thrust_vacuum\": {\n",
      "            \"kN\": 8227,\n",
      "            \"lbf\": 1849500\n",
      "        }\n",
      "    },\n",
      "    \"height\": {\n",
      "        \"feet\": 229.6,\n",
      "        \"meters\": 70\n",
      "    },\n",
      "    \"id\": \"falcon9\",\n",
      "    \"landing_legs\": {\n",
      "        \"material\": \"carbon fiber\",\n",
      "        \"number\": 4\n",
      "    },\n",
      "    \"mass\": {\n",
      "        \"kg\": 549054,\n",
      "        \"lb\": 1207920\n",
      "    },\n",
      "    \"name\": \"Falcon 9\",\n",
      "    \"payload_weights\": [\n",
      "        {\n",
      "            \"id\": \"leo\",\n",
      "            \"kg\": 22800,\n",
      "            \"lb\": 50265,\n",
      "            \"name\": \"Low Earth Orbit\"\n",
      "        },\n",
      "        {\n",
      "            \"id\": \"gto\",\n",
      "            \"kg\": 8300,\n",
      "            \"lb\": 18300,\n",
      "            \"name\": \"Geosynchronous Transfer Orbit\"\n",
      "        },\n",
      "        {\n",
      "            \"id\": \"mars\",\n",
      "            \"kg\": 4020,\n",
      "            \"lb\": 8860,\n",
      "            \"name\": \"Mars Orbit\"\n",
      "        }\n",
      "    ],\n",
      "    \"second_stage\": {\n",
      "        \"burn_time_sec\": 397,\n",
      "        \"engines\": 1,\n",
      "        \"fuel_amount_tons\": 90,\n",
      "        \"payloads\": {\n",
      "            \"composite_fairing\": {\n",
      "                \"diameter\": {\n",
      "                    \"feet\": 17.1,\n",
      "                    \"meters\": 5.2\n",
      "                },\n",
      "                \"height\": {\n",
      "                    \"feet\": 43,\n",
      "                    \"meters\": 13.1\n",
      "                }\n",
      "            },\n",
      "            \"option_1\": \"dragon\",\n",
      "            \"option_2\": \"composite fairing\"\n",
      "        },\n",
      "        \"thrust\": {\n",
      "            \"kN\": 934,\n",
      "            \"lbf\": 210000\n",
      "        }\n",
      "    },\n",
      "    \"stages\": 2,\n",
      "    \"success_rate_pct\": 94,\n",
      "    \"type\": \"rocket\"\n",
      "}\n"
     ]
    }
   ],
   "source": [
    "print(json.dumps(response_json, indent=4, sort_keys=True))"
   ]
  },
  {
   "cell_type": "code",
   "execution_count": 19,
   "metadata": {},
   "outputs": [
    {
     "name": "stdout",
     "output_type": "stream",
     "text": [
      "61200000\n"
     ]
    }
   ],
   "source": [
    "# It is possible to grab a specific value from within the JSON object\n",
    "print(response_json[\"cost_per_launch\"])"
   ]
  },
  {
   "cell_type": "code",
   "execution_count": 21,
   "metadata": {},
   "outputs": [
    {
     "data": {
      "text/plain": [
       "[{'id': 'leo', 'kg': 22800, 'lb': 50265, 'name': 'Low Earth Orbit'},\n",
       " {'id': 'gto',\n",
       "  'kg': 8300,\n",
       "  'lb': 18300,\n",
       "  'name': 'Geosynchronous Transfer Orbit'},\n",
       " {'id': 'mars', 'kg': 4020, 'lb': 8860, 'name': 'Mars Orbit'}]"
      ]
     },
     "execution_count": 21,
     "metadata": {},
     "output_type": "execute_result"
    }
   ],
   "source": [
    "response_json[\"payload_weights\"]"
   ]
  },
  {
   "cell_type": "markdown",
   "metadata": {},
   "source": [
    "## check out f strings!\n",
    "\n",
    "https://www.python.org/dev/peps/pep-0498/"
   ]
  },
  {
   "cell_type": "code",
   "execution_count": 9,
   "metadata": {},
   "outputs": [
    {
     "name": "stdout",
     "output_type": "stream",
     "text": [
      "There are 3 payloads.\n"
     ]
    }
   ],
   "source": [
    "number_payloads = len(response_json[\"payload_weights\"])\n",
    "print(f\"There are {number_payloads} payloads.\") #isn't this cool?"
   ]
  },
  {
   "cell_type": "code",
   "execution_count": 10,
   "metadata": {},
   "outputs": [
    {
     "name": "stdout",
     "output_type": "stream",
     "text": [
      "The first payload weighed 22800 Kilograms\n"
     ]
    }
   ],
   "source": [
    "# Finally, it is possible to reference the\n",
    "# values stored within sub-dictionaries and sub-lists\n",
    "payload_weight = response_json[\"payload_weights\"][0][\"kg\"]\n",
    "print(f\"The first payload weighed {payload_weight} Kilograms\")"
   ]
  },
  {
   "cell_type": "code",
   "execution_count": 1,
   "metadata": {},
   "outputs": [
    {
     "name": "stdout",
     "output_type": "stream",
     "text": [
      "1.23\n"
     ]
    }
   ],
   "source": [
    "#formatting example with f-strings\n",
    "my_num = 1.23456789\n",
    "print(f\"{my_num:.2f}\")"
   ]
  },
  {
   "cell_type": "code",
   "execution_count": null,
   "metadata": {},
   "outputs": [],
   "source": []
  }
 ],
 "metadata": {
  "kernelspec": {
   "display_name": "PythonData",
   "language": "python",
   "name": "pythondata"
  },
  "language_info": {
   "codemirror_mode": {
    "name": "ipython",
    "version": 3
   },
   "file_extension": ".py",
   "mimetype": "text/x-python",
   "name": "python",
   "nbconvert_exporter": "python",
   "pygments_lexer": "ipython3",
   "version": "3.6.4"
  }
 },
 "nbformat": 4,
 "nbformat_minor": 2
}
