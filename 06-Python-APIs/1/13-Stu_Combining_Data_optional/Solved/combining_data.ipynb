{
 "cells": [
  {
   "cell_type": "code",
   "execution_count": 1,
   "metadata": {},
   "outputs": [],
   "source": [
    "import requests"
   ]
  },
  {
   "cell_type": "code",
   "execution_count": 9,
   "metadata": {},
   "outputs": [],
   "source": [
    "# Create a JSON object with three links to NYT articles about it, and whatever\n",
    "# other information you\"d like--such as Director, Year published, etc.\n",
    "# ==============================================================================\n",
    "\n",
    "info = {}\n",
    "name = \"Black Panther\""
   ]
  },
  {
   "cell_type": "code",
   "execution_count": 10,
   "metadata": {},
   "outputs": [],
   "source": [
    "# Initialize config variables\n",
    "omdb_url = \"http://www.omdbapi.com/?apikey=40e9cece&t=\"\n",
    "nyt_url = \"https://api.nytimes.com/svc/search/v2/articlesearch.json?\"\n",
    "api_key = \"164b73c522a8420c8e05343ef1da0a7e\""
   ]
  },
  {
   "cell_type": "code",
   "execution_count": 11,
   "metadata": {},
   "outputs": [],
   "source": [
    "# Make requests\n",
    "movie = requests.get(f\"{omdb_url}{name}\").json()"
   ]
  },
  {
   "cell_type": "code",
   "execution_count": 12,
   "metadata": {},
   "outputs": [],
   "source": [
    "movie_json = requests.get(f\"{nyt_url}api-key={api_key}&q={name}\").json()"
   ]
  },
  {
   "cell_type": "code",
   "execution_count": 13,
   "metadata": {},
   "outputs": [],
   "source": [
    "movie_articles = [a for a in movie_json[\"response\"][\"docs\"]]"
   ]
  },
  {
   "cell_type": "code",
   "execution_count": 15,
   "metadata": {},
   "outputs": [],
   "source": [
    "# Save some information\n",
    "info[\"Year\"] = movie[\"Year\"]\n",
    "info[\"Director\"] = movie[\"Director\"]"
   ]
  },
  {
   "cell_type": "code",
   "execution_count": 17,
   "metadata": {},
   "outputs": [],
   "source": [
    "# Get URLs from article data\n",
    "info[\"Links\"] = []\n",
    "for article in movie_articles:\n",
    "    url = article[\"web_url\"]\n",
    "    if url:\n",
    "        info[\"Links\"].append(url)"
   ]
  },
  {
   "cell_type": "code",
   "execution_count": 18,
   "metadata": {},
   "outputs": [
    {
     "data": {
      "text/plain": [
       "{'Director': 'Ryan Coogler',\n",
       " 'Links': ['https://www.nytimes.com/2018/02/14/arts/music/kendrick-lamar-black-panther-soundtrack-review.html',\n",
       "  'https://www.nytimes.com/2018/02/14/style/black-panther-natural-hair.html',\n",
       "  'https://www.nytimes.com/2018/02/16/opinion/sunday/black-panther-nerds-cool.html',\n",
       "  'https://www.nytimes.com/2018/02/13/learning/black-panther.html',\n",
       "  'https://www.nytimes.com/2018/02/19/arts/music/black-panther-soundtrack-kendrick-lamar-no-1-album.html',\n",
       "  'https://www.nytimes.com/2018/02/18/movies/black-panther-challenge-students.html',\n",
       "  'https://www.nytimes.com/2018/02/06/business/media/disney-earnings-marvel.html',\n",
       "  'https://www.nytimes.com/2018/02/18/movies/black-panther-spoilers.html',\n",
       "  'https://www.nytimes.com/2018/02/15/style/black-panther-movie-cosplay.html',\n",
       "  'https://www.nytimes.com/2018/02/09/movies/black-panther-african-american-fans.html'],\n",
       " 'Year': '2018'}"
      ]
     },
     "execution_count": 18,
     "metadata": {},
     "output_type": "execute_result"
    }
   ],
   "source": [
    "info"
   ]
  },
  {
   "cell_type": "code",
   "execution_count": 28,
   "metadata": {},
   "outputs": [
    {
     "name": "stdout",
     "output_type": "stream",
     "text": [
      "The director of Black Panther was Ryan Coogler\n",
      "It was released in 2018\n",
      "We collected 10 articles. Their links are:\n",
      "\n",
      "https://www.nytimes.com/2018/02/14/arts/music/kendrick-lamar-black-panther-soundtrack-review.html\n",
      "https://www.nytimes.com/2018/02/14/style/black-panther-natural-hair.html\n",
      "https://www.nytimes.com/2018/02/16/opinion/sunday/black-panther-nerds-cool.html\n",
      "https://www.nytimes.com/2018/02/13/learning/black-panther.html\n",
      "https://www.nytimes.com/2018/02/19/arts/music/black-panther-soundtrack-kendrick-lamar-no-1-album.html\n",
      "https://www.nytimes.com/2018/02/18/movies/black-panther-challenge-students.html\n",
      "https://www.nytimes.com/2018/02/06/business/media/disney-earnings-marvel.html\n",
      "https://www.nytimes.com/2018/02/18/movies/black-panther-spoilers.html\n",
      "https://www.nytimes.com/2018/02/15/style/black-panther-movie-cosplay.html\n",
      "https://www.nytimes.com/2018/02/09/movies/black-panther-african-american-fans.html\n"
     ]
    }
   ],
   "source": [
    "print(f\"The director of {name} was {info['Director']}\\n\"\n",
    "      f\"It was released in {info['Year']}\\n\"\n",
    "      f\"We collected {len(info['Links'])} articles. Their links are:\\n\")\n",
    "\n",
    "print(\"\\n\".join(info['Links']))"
   ]
  }
 ],
 "metadata": {
  "kernelspec": {
   "display_name": "PythonData",
   "language": "python",
   "name": "pythondata"
  },
  "language_info": {
   "codemirror_mode": {
    "name": "ipython",
    "version": 3
   },
   "file_extension": ".py",
   "mimetype": "text/x-python",
   "name": "python",
   "nbconvert_exporter": "python",
   "pygments_lexer": "ipython3",
   "version": "3.6.4"
  }
 },
 "nbformat": 4,
 "nbformat_minor": 2
}
