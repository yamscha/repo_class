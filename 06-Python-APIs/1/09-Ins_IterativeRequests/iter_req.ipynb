{
 "cells": [
  {
   "cell_type": "code",
   "execution_count": 1,
   "metadata": {},
   "outputs": [],
   "source": [
    "# Dependencies\n",
    "import json\n",
    "import requests"
   ]
  },
  {
   "cell_type": "code",
   "execution_count": 6,
   "metadata": {},
   "outputs": [
    {
     "name": "stdout",
     "output_type": "stream",
     "text": [
      "Making request number 0 for ID 2\n",
      "Making request number 1 for ID 22\n",
      "Making request number 2 for ID 18\n"
     ]
    }
   ],
   "source": [
    "# Let's get the JSON for 3 posts sequentially.\n",
    "url = \"http://jsonplaceholder.typicode.com/posts/\"\n",
    "response_json = []\n",
    "\n",
    "# Create random indices representing, for instance, a user's choice of posts\n",
    "indices = [2,22,18]\n",
    "\n",
    "for i, val in enumerate(indices):\n",
    "    print(f\"Making request number {i}\"\n",
    "          f\" for ID {val}\")\n",
    "\n",
    "    # Get post #i\n",
    "    post_response = requests.get(f\"{url}{val}\")\n",
    "\n",
    "    # Save post's JSON\n",
    "    response_json.append(post_response.json())"
   ]
  },
  {
   "cell_type": "code",
   "execution_count": 7,
   "metadata": {},
   "outputs": [
    {
     "name": "stdout",
     "output_type": "stream",
     "text": [
      "We have 3 posts!\n"
     ]
    }
   ],
   "source": [
    "# Now we have 10 post objects, \n",
    "print(f\"We have {len(response_json)} posts!\")"
   ]
  },
  {
   "cell_type": "code",
   "execution_count": 11,
   "metadata": {},
   "outputs": [
    {
     "name": "stdout",
     "output_type": "stream",
     "text": [
      "[\n",
      " {\n",
      "  \"userId\": 1,\n",
      "  \"id\": 2,\n",
      "  \"title\": \"qui est esse\",\n",
      "  \"body\": \"est rerum tempore vitae\\nsequi sint nihil reprehenderit dolor beatae ea dolores neque\\nfugiat blanditiis voluptate porro vel nihil molestiae ut reiciendis\\nqui aperiam non debitis possimus qui neque nisi nulla\"\n",
      " },\n",
      " {\n",
      "  \"userId\": 3,\n",
      "  \"id\": 22,\n",
      "  \"title\": \"dolor sint quo a velit explicabo quia nam\",\n",
      "  \"body\": \"eos qui et ipsum ipsam suscipit aut\\nsed omnis non odio\\nexpedita earum mollitia molestiae aut atque rem suscipit\\nnam impedit esse\"\n",
      " },\n",
      " {\n",
      "  \"userId\": 2,\n",
      "  \"id\": 18,\n",
      "  \"title\": \"voluptate et itaque vero tempora molestiae\",\n",
      "  \"body\": \"eveniet quo quis\\nlaborum totam consequatur non dolor\\nut et est repudiandae\\nest voluptatem vel debitis et magnam\"\n",
      " }\n",
      "]\n"
     ]
    }
   ],
   "source": [
    "print(json.dumps(response_json,indent=1))"
   ]
  },
  {
   "cell_type": "code",
   "execution_count": null,
   "metadata": {},
   "outputs": [],
   "source": []
  }
 ],
 "metadata": {
  "kernelspec": {
   "display_name": "PythonData",
   "language": "python",
   "name": "pythondata"
  },
  "language_info": {
   "codemirror_mode": {
    "name": "ipython",
    "version": 3
   },
   "file_extension": ".py",
   "mimetype": "text/x-python",
   "name": "python",
   "nbconvert_exporter": "python",
   "pygments_lexer": "ipython3",
   "version": "3.6.4"
  }
 },
 "nbformat": 4,
 "nbformat_minor": 2
}
