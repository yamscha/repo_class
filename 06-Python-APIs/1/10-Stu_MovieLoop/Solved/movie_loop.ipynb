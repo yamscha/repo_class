{
 "cells": [
  {
   "cell_type": "code",
   "execution_count": 4,
   "metadata": {},
   "outputs": [],
   "source": [
    "# Dependencies\n",
    "import requests"
   ]
  },
  {
   "cell_type": "code",
   "execution_count": 2,
   "metadata": {},
   "outputs": [],
   "source": [
    "base_url = \"http://www.omdbapi.com\"\n",
    "api_key = \"40e9cece\""
   ]
  },
  {
   "cell_type": "code",
   "execution_count": 3,
   "metadata": {},
   "outputs": [],
   "source": [
    "def format_url(base_url,api_key,title):\n",
    "    return \"{}/?apikey={}&t={}\".format(base_url,api_key,title)"
   ]
  },
  {
   "cell_type": "code",
   "execution_count": 6,
   "metadata": {},
   "outputs": [
    {
     "name": "stdout",
     "output_type": "stream",
     "text": [
      "The director of Black Panther is Ryan Coogler\n",
      "The director of Lady Bird is Greta Gerwig\n",
      "The director of Star Wars: The Last Jedi is Rian Johnson\n"
     ]
    }
   ],
   "source": [
    "movie_l = [\"Black Panther\", \"Lady Bird\", \"Star Wars: The Last Jedi\"]\n",
    "\n",
    "for movie in movie_l:\n",
    "    m = requests.get(format_url(base_url,api_key,movie)).json()\n",
    "    print(f\"The director of {movie} is {m['Director']}\")\n"
   ]
  },
  {
   "cell_type": "code",
   "execution_count": null,
   "metadata": {},
   "outputs": [],
   "source": []
  }
 ],
 "metadata": {
  "kernelspec": {
   "display_name": "PythonData",
   "language": "python",
   "name": "pythondata"
  },
  "language_info": {
   "codemirror_mode": {
    "name": "ipython",
    "version": 3
   },
   "file_extension": ".py",
   "mimetype": "text/x-python",
   "name": "python",
   "nbconvert_exporter": "python",
   "pygments_lexer": "ipython3",
   "version": "3.6.4"
  }
 },
 "nbformat": 4,
 "nbformat_minor": 2
}
