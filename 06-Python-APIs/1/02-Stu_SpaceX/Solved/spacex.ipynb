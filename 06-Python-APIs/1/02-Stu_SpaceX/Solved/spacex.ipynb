{
 "cells": [
  {
   "cell_type": "code",
   "execution_count": 2,
   "metadata": {},
   "outputs": [],
   "source": [
    "# Dependencies\n",
    "import requests\n",
    "import json"
   ]
  },
  {
   "cell_type": "code",
   "execution_count": 3,
   "metadata": {},
   "outputs": [],
   "source": [
    "# URL for GET requests to retrieve vehicle data\n",
    "url = \"https://api.spacexdata.com/v2/launchpads/\""
   ]
  },
  {
   "cell_type": "markdown",
   "metadata": {},
   "source": [
    "Check out the documentation to see examples of how to filter your request\n",
    "\n",
    "https://github.com/r-spacex/SpaceX-API/wiki/Launchpad-Info"
   ]
  },
  {
   "cell_type": "code",
   "execution_count": 4,
   "metadata": {},
   "outputs": [],
   "source": [
    "response_json = requests.get(url).json()"
   ]
  },
  {
   "cell_type": "code",
   "execution_count": 5,
   "metadata": {},
   "outputs": [
    {
     "data": {
      "text/plain": [
       "[{'details': 'SpaceX primary Falcon 9 launch pad, where all east coast Falcon 9s launched prior to the AMOS-6 anomaly. Initially used to launch Titan rockets for Lockheed Martin. Back online since CRS-13 on 2017-12-15.',\n",
       "  'full_name': 'Cape Canaveral Air Force Station Space Launch Complex 40',\n",
       "  'id': 'ccafs_slc_40',\n",
       "  'location': {'latitude': 28.5618571,\n",
       "   'longitude': -80.577366,\n",
       "   'name': 'Cape Canaveral',\n",
       "   'region': 'Florida'},\n",
       "  'status': 'active',\n",
       "  'vehicles_launched': ['Falcon 9']},\n",
       " {'details': 'SpaceX new launch site currently under construction to help keep up with the Falcon 9 and Heavy manifests. Expected to be completed in late 2018. Initially will be limited to 12 flights per year, and only GTO launches.',\n",
       "  'full_name': 'SpaceX South Texas Launch Site',\n",
       "  'id': 'stls',\n",
       "  'location': {'latitude': 25.9972641,\n",
       "   'longitude': -97.1560845,\n",
       "   'name': 'Boca Chica Village',\n",
       "   'region': 'Texas'},\n",
       "  'status': 'under construction',\n",
       "  'vehicles_launched': ['Falcon 9']},\n",
       " {'details': 'SpaceX west coast landing pad, has not yet been used. Expected to first be used during the Formosat-5 launch.',\n",
       "  'full_name': 'Vandenberg Air Force Base Space Launch Complex 4W',\n",
       "  'id': 'vafb_slc_4w',\n",
       "  'location': {'latitude': 34.6332043,\n",
       "   'longitude': -120.6156234,\n",
       "   'name': 'Vandenberg Air Force Base',\n",
       "   'region': 'California'},\n",
       "  'status': 'active',\n",
       "  'vehicles_launched': ['Falcon 9']},\n",
       " {'details': 'SpaceX east coast landing pad, where the historic first landing occurred. Originally used for early Atlas missiles and rockets from Lockheed Martin. Currently being expanded to add two smaller pads for Falcon Heavy RTLS missions.',\n",
       "  'full_name': 'Cape Canaveral Air Force Station Space Launch Complex 13',\n",
       "  'id': 'ccafs_lc_13',\n",
       "  'location': {'latitude': 28.4857244,\n",
       "   'longitude': -80.5449222,\n",
       "   'name': 'Cape Canaveral',\n",
       "   'region': 'Florida'},\n",
       "  'status': 'active',\n",
       "  'vehicles_launched': ['Falcon 9']},\n",
       " {'details': 'SpaceX original launch site, where all of the Falcon 1 launches occured. Abandoned as SpaceX decided against upgrading the pad to support Falcon 9.',\n",
       "  'full_name': 'Kwajalein Atoll Omelek Island',\n",
       "  'id': 'kwajalein_atoll',\n",
       "  'location': {'latitude': 9.0477206,\n",
       "   'longitude': 167.7431292,\n",
       "   'name': 'Omelek Island',\n",
       "   'region': 'Marshall Islands'},\n",
       "  'status': 'retired',\n",
       "  'vehicles_launched': ['Falcon 1']},\n",
       " {'details': 'NASA historic launch pad that launched most of the Saturn V and Space Shuttle missions. Initially for Falcon Heavy launches, it is now launching all of SpaceX east coast missions due to the damage from the AMOS-6 anomaly. After SLC-40 repairs are complete, it will be upgraded to support Falcon Heavy, a process which will take about two months. In the future it will launch commercial crew missions and the Interplanetary Transport System.',\n",
       "  'full_name': 'Kennedy Space Center Historic Launch Complex 39A',\n",
       "  'id': 'ksc_lc_39a',\n",
       "  'location': {'latitude': 28.6080585,\n",
       "   'longitude': -80.6039558,\n",
       "   'name': 'Cape Canaveral',\n",
       "   'region': 'Florida'},\n",
       "  'status': 'active',\n",
       "  'vehicles_launched': ['Falcon 9', 'Falcon Heavy']},\n",
       " {'details': 'SpaceX original west coast launch pad for Falcon 1. Performed a static fire but was never used for a launch and abandoned due to scheduling conflicts.',\n",
       "  'full_name': 'Vandenberg Air Force Base Space Launch Complex 3W',\n",
       "  'id': 'vafb_slc_3w',\n",
       "  'location': {'latitude': 34.6440904,\n",
       "   'longitude': -120.5931438,\n",
       "   'name': 'Vandenberg Air Force Base',\n",
       "   'region': 'California'},\n",
       "  'status': 'retired',\n",
       "  'vehicles_launched': ['Falcon 9']},\n",
       " {'details': 'SpaceX primary west coast launch pad for polar orbits and sun synchronous orbits, primarily used for Iridium. Also intended to be capable of launching Falcon Heavy.',\n",
       "  'full_name': 'Vandenberg Air Force Base Space Launch Complex 4E',\n",
       "  'id': 'vafb_slc_4e',\n",
       "  'location': {'latitude': 34.632093,\n",
       "   'longitude': -120.610829,\n",
       "   'name': 'Vandenberg Air Force Base',\n",
       "   'region': 'California'},\n",
       "  'status': 'active',\n",
       "  'vehicles_launched': ['Falcon 9']}]"
      ]
     },
     "execution_count": 5,
     "metadata": {},
     "output_type": "execute_result"
    }
   ],
   "source": [
    "response_json"
   ]
  },
  {
   "cell_type": "code",
   "execution_count": 6,
   "metadata": {},
   "outputs": [
    {
     "name": "stdout",
     "output_type": "stream",
     "text": [
      "[\n",
      "    {\n",
      "        \"details\": \"SpaceX primary Falcon 9 launch pad, where all east coast Falcon 9s launched prior to the AMOS-6 anomaly. Initially used to launch Titan rockets for Lockheed Martin. Back online since CRS-13 on 2017-12-15.\",\n",
      "        \"full_name\": \"Cape Canaveral Air Force Station Space Launch Complex 40\",\n",
      "        \"id\": \"ccafs_slc_40\",\n",
      "        \"location\": {\n",
      "            \"latitude\": 28.5618571,\n",
      "            \"longitude\": -80.577366,\n",
      "            \"name\": \"Cape Canaveral\",\n",
      "            \"region\": \"Florida\"\n",
      "        },\n",
      "        \"status\": \"active\",\n",
      "        \"vehicles_launched\": [\n",
      "            \"Falcon 9\"\n",
      "        ]\n",
      "    },\n",
      "    {\n",
      "        \"details\": \"SpaceX new launch site currently under construction to help keep up with the Falcon 9 and Heavy manifests. Expected to be completed in late 2018. Initially will be limited to 12 flights per year, and only GTO launches.\",\n",
      "        \"full_name\": \"SpaceX South Texas Launch Site\",\n",
      "        \"id\": \"stls\",\n",
      "        \"location\": {\n",
      "            \"latitude\": 25.9972641,\n",
      "            \"longitude\": -97.1560845,\n",
      "            \"name\": \"Boca Chica Village\",\n",
      "            \"region\": \"Texas\"\n",
      "        },\n",
      "        \"status\": \"under construction\",\n",
      "        \"vehicles_launched\": [\n",
      "            \"Falcon 9\"\n",
      "        ]\n",
      "    },\n",
      "    {\n",
      "        \"details\": \"SpaceX west coast landing pad, has not yet been used. Expected to first be used during the Formosat-5 launch.\",\n",
      "        \"full_name\": \"Vandenberg Air Force Base Space Launch Complex 4W\",\n",
      "        \"id\": \"vafb_slc_4w\",\n",
      "        \"location\": {\n",
      "            \"latitude\": 34.6332043,\n",
      "            \"longitude\": -120.6156234,\n",
      "            \"name\": \"Vandenberg Air Force Base\",\n",
      "            \"region\": \"California\"\n",
      "        },\n",
      "        \"status\": \"active\",\n",
      "        \"vehicles_launched\": [\n",
      "            \"Falcon 9\"\n",
      "        ]\n",
      "    },\n",
      "    {\n",
      "        \"details\": \"SpaceX east coast landing pad, where the historic first landing occurred. Originally used for early Atlas missiles and rockets from Lockheed Martin. Currently being expanded to add two smaller pads for Falcon Heavy RTLS missions.\",\n",
      "        \"full_name\": \"Cape Canaveral Air Force Station Space Launch Complex 13\",\n",
      "        \"id\": \"ccafs_lc_13\",\n",
      "        \"location\": {\n",
      "            \"latitude\": 28.4857244,\n",
      "            \"longitude\": -80.5449222,\n",
      "            \"name\": \"Cape Canaveral\",\n",
      "            \"region\": \"Florida\"\n",
      "        },\n",
      "        \"status\": \"active\",\n",
      "        \"vehicles_launched\": [\n",
      "            \"Falcon 9\"\n",
      "        ]\n",
      "    },\n",
      "    {\n",
      "        \"details\": \"SpaceX original launch site, where all of the Falcon 1 launches occured. Abandoned as SpaceX decided against upgrading the pad to support Falcon 9.\",\n",
      "        \"full_name\": \"Kwajalein Atoll Omelek Island\",\n",
      "        \"id\": \"kwajalein_atoll\",\n",
      "        \"location\": {\n",
      "            \"latitude\": 9.0477206,\n",
      "            \"longitude\": 167.7431292,\n",
      "            \"name\": \"Omelek Island\",\n",
      "            \"region\": \"Marshall Islands\"\n",
      "        },\n",
      "        \"status\": \"retired\",\n",
      "        \"vehicles_launched\": [\n",
      "            \"Falcon 1\"\n",
      "        ]\n",
      "    },\n",
      "    {\n",
      "        \"details\": \"NASA historic launch pad that launched most of the Saturn V and Space Shuttle missions. Initially for Falcon Heavy launches, it is now launching all of SpaceX east coast missions due to the damage from the AMOS-6 anomaly. After SLC-40 repairs are complete, it will be upgraded to support Falcon Heavy, a process which will take about two months. In the future it will launch commercial crew missions and the Interplanetary Transport System.\",\n",
      "        \"full_name\": \"Kennedy Space Center Historic Launch Complex 39A\",\n",
      "        \"id\": \"ksc_lc_39a\",\n",
      "        \"location\": {\n",
      "            \"latitude\": 28.6080585,\n",
      "            \"longitude\": -80.6039558,\n",
      "            \"name\": \"Cape Canaveral\",\n",
      "            \"region\": \"Florida\"\n",
      "        },\n",
      "        \"status\": \"active\",\n",
      "        \"vehicles_launched\": [\n",
      "            \"Falcon 9\",\n",
      "            \"Falcon Heavy\"\n",
      "        ]\n",
      "    },\n",
      "    {\n",
      "        \"details\": \"SpaceX original west coast launch pad for Falcon 1. Performed a static fire but was never used for a launch and abandoned due to scheduling conflicts.\",\n",
      "        \"full_name\": \"Vandenberg Air Force Base Space Launch Complex 3W\",\n",
      "        \"id\": \"vafb_slc_3w\",\n",
      "        \"location\": {\n",
      "            \"latitude\": 34.6440904,\n",
      "            \"longitude\": -120.5931438,\n",
      "            \"name\": \"Vandenberg Air Force Base\",\n",
      "            \"region\": \"California\"\n",
      "        },\n",
      "        \"status\": \"retired\",\n",
      "        \"vehicles_launched\": [\n",
      "            \"Falcon 9\"\n",
      "        ]\n",
      "    },\n",
      "    {\n",
      "        \"details\": \"SpaceX primary west coast launch pad for polar orbits and sun synchronous orbits, primarily used for Iridium. Also intended to be capable of launching Falcon Heavy.\",\n",
      "        \"full_name\": \"Vandenberg Air Force Base Space Launch Complex 4E\",\n",
      "        \"id\": \"vafb_slc_4e\",\n",
      "        \"location\": {\n",
      "            \"latitude\": 34.632093,\n",
      "            \"longitude\": -120.610829,\n",
      "            \"name\": \"Vandenberg Air Force Base\",\n",
      "            \"region\": \"California\"\n",
      "        },\n",
      "        \"status\": \"active\",\n",
      "        \"vehicles_launched\": [\n",
      "            \"Falcon 9\"\n",
      "        ]\n",
      "    }\n",
      "]\n"
     ]
    }
   ],
   "source": [
    "print(json.dumps(response_json, indent=4, sort_keys=True))"
   ]
  },
  {
   "cell_type": "code",
   "execution_count": 7,
   "metadata": {},
   "outputs": [
    {
     "data": {
      "text/plain": [
       "'https://api.spacexdata.com/v2/launchpads/vafb_slc_4e'"
      ]
     },
     "execution_count": 7,
     "metadata": {},
     "output_type": "execute_result"
    }
   ],
   "source": [
    "url_vandenberg_4e = url + \"vafb_slc_4e\"\n",
    "url_vandenberg_4e"
   ]
  },
  {
   "cell_type": "code",
   "execution_count": 8,
   "metadata": {},
   "outputs": [
    {
     "name": "stdout",
     "output_type": "stream",
     "text": [
      "{\n",
      "    \"details\": \"SpaceX primary west coast launch pad for polar orbits and sun synchronous orbits, primarily used for Iridium. Also intended to be capable of launching Falcon Heavy.\",\n",
      "    \"full_name\": \"Vandenberg Air Force Base Space Launch Complex 4E\",\n",
      "    \"id\": \"vafb_slc_4e\",\n",
      "    \"location\": {\n",
      "        \"latitude\": 34.632093,\n",
      "        \"longitude\": -120.610829,\n",
      "        \"name\": \"Vandenberg Air Force Base\",\n",
      "        \"region\": \"California\"\n",
      "    },\n",
      "    \"status\": \"active\",\n",
      "    \"vehicles_launched\": [\n",
      "        \"Falcon 9\"\n",
      "    ]\n",
      "}\n"
     ]
    }
   ],
   "source": [
    "# Pretty print JSON for a specific launchpad\n",
    "response_json = requests.get(url_vandenberg_4e).json()\n",
    "print(json.dumps(response_json, indent=4, sort_keys=True))"
   ]
  }
 ],
 "metadata": {
  "kernelspec": {
   "display_name": "PythonData",
   "language": "python",
   "name": "pythondata"
  },
  "language_info": {
   "codemirror_mode": {
    "name": "ipython",
    "version": 3
   },
   "file_extension": ".py",
   "mimetype": "text/x-python",
   "name": "python",
   "nbconvert_exporter": "python",
   "pygments_lexer": "ipython3",
   "version": "3.6.4"
  }
 },
 "nbformat": 4,
 "nbformat_minor": 2
}
