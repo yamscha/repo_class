{
 "cells": [
  {
   "cell_type": "code",
   "execution_count": 1,
   "metadata": {},
   "outputs": [],
   "source": [
    "# Dependencies\n",
    "import requests as req"
   ]
  },
  {
   "cell_type": "code",
   "execution_count": 2,
   "metadata": {},
   "outputs": [],
   "source": [
    "url = \"https://api.nytimes.com/svc/search/v2/articlesearch.json?\"\n",
    "api_key = \"164b73c522a8420c8e05343ef1da0a7e\""
   ]
  },
  {
   "cell_type": "code",
   "execution_count": 17,
   "metadata": {},
   "outputs": [],
   "source": [
    "# Store a search term\n",
    "q = \"San Francisco\"\n",
    "# Search for articles published between a begin and end date\n",
    "begin_date = \"20170101\"\n",
    "end_date = \"20180228\""
   ]
  },
  {
   "cell_type": "code",
   "execution_count": 18,
   "metadata": {},
   "outputs": [],
   "source": [
    "def format_query(url,api_key,q,begin_d,end_d):\n",
    "    return f\"{url}api-key={api_key}&q={q}&begin_date={begin_d}&end_date={end_d}\""
   ]
  },
  {
   "cell_type": "code",
   "execution_count": 19,
   "metadata": {},
   "outputs": [
    {
     "data": {
      "text/plain": [
       "'https://api.nytimes.com/svc/search/v2/articlesearch.json?api-key=164b73c522a8420c8e05343ef1da0a7e&q=San Francisco&begin_date=20170101&end_date=20180228'"
      ]
     },
     "execution_count": 19,
     "metadata": {},
     "output_type": "execute_result"
    }
   ],
   "source": [
    "query = format_query(url,api_key,q,begin_date,end_date)\n",
    "query"
   ]
  },
  {
   "cell_type": "code",
   "execution_count": 23,
   "metadata": {},
   "outputs": [
    {
     "name": "stdout",
     "output_type": "stream",
     "text": [
      "article 0: snippet: A San Francisco police investigator, he worked on the case, which remains unsolved, for nine years — until he was removed in 1978 for “a foolish thing.”\n",
      "\n",
      "article 1: snippet: Mike Isaac, a tech reporter for The Times, now uses Uber and Lyft infrequently, though he remains a steady user of Twitter and HQ Trivia.\n",
      "\n",
      "article 2: snippet: The documentary is a sort of fast-forward remake of “Vertigo,” built from clips of movies and TV shows shot in the city.\n",
      "\n",
      "article 3: snippet: McCutchen, who was named the National League’s M.V.P. in 2013, is on his way to San Francisco as the Pirates continue to rebuild their roster.\n",
      "\n",
      "article 4: snippet: Garoppolo has started four games for the Niners, and the results have been astonishing.\n",
      "\n",
      "article 5: snippet: Salesforce Tower, which at 1,070 feet is the tallest office building west of the Mississippi, will be inhabited in January, signaling tech’s triumph in the city.\n",
      "\n",
      "article 6: snippet: The special counsel’s indictment detailed how crucial Facebook and Instagram were to the Russian campaign to disrupt the presidential election.\n",
      "\n",
      "article 7: snippet: By lowering rates, the law reduces the value of tax credits that have been crucial to rental projects nationwide, with the effect being felt already.\n",
      "\n",
      "article 8: snippet: With high levels of pressure and tension on the job, burnout rates among nonprofit staffers are rising. The antidote? Sabbaticals.\n",
      "\n",
      "article 9: snippet: The portable, foldable, self-contained vendor booth is the newest innovation in mobile food service.\n",
      "\n"
     ]
    }
   ],
   "source": [
    "# Retrieve articles\n",
    "articles = req.get(query).json()\n",
    "snippet_l = [article[\"snippet\"] for article in articles[\"response\"][\"docs\"]]\n",
    "\n",
    "for i, s in enumerate(snippet_l):\n",
    "    print(f\"article {i}: snippet: {s}\\n\")"
   ]
  },
  {
   "cell_type": "code",
   "execution_count": 24,
   "metadata": {},
   "outputs": [],
   "source": [
    "# BONUS: How would we get 10+ results? HINT: Look up the page query param\n",
    "article_l = []\n",
    "for page in range(1, 3):\n",
    "    query = f\"{query}&page={page}\"\n",
    "    data = req.get(query).json()\n",
    "    for article in data[\"response\"][\"docs\"]:\n",
    "        article_l.append(article)"
   ]
  },
  {
   "cell_type": "code",
   "execution_count": 25,
   "metadata": {},
   "outputs": [
    {
     "name": "stdout",
     "output_type": "stream",
     "text": [
      "article 0 headline David Toschi, 86, Detective Who Pursued the Zodiac Killer, Dies\n",
      "article 1 headline He Weaned Himself From Ride-Hailing Apps. Here’s Why.\n",
      "article 2 headline Review: ‘The Green Fog,’ a Salute to Hitchcock’s San Francisco\n",
      "article 3 headline Trade of Andrew McCutchen Ends an Era in Pittsburgh\n",
      "article 4 headline Jimmy Garoppolo Leads a 49ers Resurgence\n",
      "article 5 headline San Francisco’s Skyline, Now Inescapably Transformed by Tech\n",
      "article 6 headline To Stir Discord in 2016, Russians Turned Most Often to Facebook\n",
      "article 7 headline Tax Overhaul Is a Blow to Affordable Housing Efforts\n",
      "article 8 headline When Being Unproductive Saves a Career\n",
      "article 9 headline Somewhere Between a Food Truck and a Food Tent, You’ll Find a Cubert\n",
      "article 10 headline David Toschi, 86, Detective Who Pursued the Zodiac Killer, Dies\n",
      "article 11 headline He Weaned Himself From Ride-Hailing Apps. Here’s Why.\n",
      "article 12 headline Review: ‘The Green Fog,’ a Salute to Hitchcock’s San Francisco\n",
      "article 13 headline Trade of Andrew McCutchen Ends an Era in Pittsburgh\n",
      "article 14 headline Jimmy Garoppolo Leads a 49ers Resurgence\n",
      "article 15 headline San Francisco’s Skyline, Now Inescapably Transformed by Tech\n",
      "article 16 headline To Stir Discord in 2016, Russians Turned Most Often to Facebook\n",
      "article 17 headline Tax Overhaul Is a Blow to Affordable Housing Efforts\n",
      "article 18 headline When Being Unproductive Saves a Career\n",
      "article 19 headline Somewhere Between a Food Truck and a Food Tent, You’ll Find a Cubert\n"
     ]
    }
   ],
   "source": [
    "for i, a in enumerate(article_l):\n",
    "    print(f\"article {i} headline {a['headline']['main']}\")"
   ]
  },
  {
   "cell_type": "code",
   "execution_count": null,
   "metadata": {},
   "outputs": [],
   "source": []
  }
 ],
 "metadata": {
  "kernelspec": {
   "display_name": "PythonData",
   "language": "python",
   "name": "pythondata"
  },
  "language_info": {
   "codemirror_mode": {
    "name": "ipython",
    "version": 3
   },
   "file_extension": ".py",
   "mimetype": "text/x-python",
   "name": "python",
   "nbconvert_exporter": "python",
   "pygments_lexer": "ipython3",
   "version": "3.6.4"
  }
 },
 "nbformat": 4,
 "nbformat_minor": 2
}
