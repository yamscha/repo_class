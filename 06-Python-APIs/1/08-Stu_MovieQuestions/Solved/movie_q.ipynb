{
 "cells": [
  {
   "cell_type": "code",
   "execution_count": 1,
   "metadata": {},
   "outputs": [],
   "source": [
    "# Dependencies\n",
    "import requests"
   ]
  },
  {
   "cell_type": "markdown",
   "metadata": {},
   "source": [
    "Try some of these movies:\n",
    "https://www.visitoakland.com/blog/post/9-movies-you-didnt-know-were-filmed-oakland/\n",
    "\n",
    "https://www.thrillist.com/entertainment/san-francisco/best-movies-shot-in-san-francisco-ranked"
   ]
  },
  {
   "cell_type": "code",
   "execution_count": 4,
   "metadata": {},
   "outputs": [],
   "source": [
    "base_url = \"http://www.omdbapi.com\"\n",
    "api_key = \"40e9cece\""
   ]
  },
  {
   "cell_type": "code",
   "execution_count": 5,
   "metadata": {},
   "outputs": [],
   "source": [
    "def format_url(base_url,api_key,title):\n",
    "    return f\"{base_url}/?apikey={api_key}&t={title}\""
   ]
  },
  {
   "cell_type": "code",
   "execution_count": 6,
   "metadata": {},
   "outputs": [
    {
     "data": {
      "text/plain": [
       "'http://www.omdbapi.com/?apikey=40e9cece&t=Aliens'"
      ]
     },
     "execution_count": 6,
     "metadata": {},
     "output_type": "execute_result"
    }
   ],
   "source": [
    "format_url(base_url,api_key,\"Aliens\")"
   ]
  },
  {
   "cell_type": "code",
   "execution_count": 7,
   "metadata": {},
   "outputs": [
    {
     "name": "stdout",
     "output_type": "stream",
     "text": [
      "The director of Aliens was Ryan Coogler.\n"
     ]
    }
   ],
   "source": [
    "# Who was the director of the movie Fruitvale station??\n",
    "movie = requests.get(format_url(base_url,api_key,\"Fruitvale Station\")).json()\n",
    "print(\"The director of Fruitvale Station was \" + movie[\"Director\"] + \".\")"
   ]
  },
  {
   "cell_type": "code",
   "execution_count": 9,
   "metadata": {},
   "outputs": [
    {
     "name": "stdout",
     "output_type": "stream",
     "text": [
      "The rating of Moneyball was PG-13.\n"
     ]
    }
   ],
   "source": [
    "# What was the movie Moneyball rated?\n",
    "movie = requests.get(format_url(base_url,api_key,\"Moneyball\")).json()\n",
    "print(\"The rating of Moneyball was \" + movie[\"Rated\"] + \".\")"
   ]
  },
  {
   "cell_type": "code",
   "execution_count": 12,
   "metadata": {},
   "outputs": [
    {
     "name": "stdout",
     "output_type": "stream",
     "text": [
      "The movie The Rock was released in 1996.\n"
     ]
    }
   ],
   "source": [
    "# What year was The Rock released?\n",
    "movie = requests.get(format_url(base_url,api_key,\"The Rock\")).json()\n",
    "print(\"The movie The Rock was released in \" + movie[\"Year\"] + \".\")"
   ]
  },
  {
   "cell_type": "code",
   "execution_count": 15,
   "metadata": {},
   "outputs": [
    {
     "name": "stdout",
     "output_type": "stream",
     "text": [
      "Moana was written by Pete Docter (original story by), Ronnie Del Carmen (original story by), Pete Docter (screenplay by), Meg LeFauve (screenplay by), Josh Cooley (screenplay by), Michael Arndt (additional story material by), Simon Rich (additional story material by), Bill Hader (additional dialogue by), Amy Poehler (additional dialogue by).\n"
     ]
    }
   ],
   "source": [
    "# Who wrote Moana?\n",
    "movie = requests.get(format_url(base_url,api_key,\"Inside Out\")).json()\n",
    "print(\"Moana was written by \" + movie[\"Writer\"] + \".\")"
   ]
  },
  {
   "cell_type": "code",
   "execution_count": 19,
   "metadata": {},
   "outputs": [
    {
     "name": "stdout",
     "output_type": "stream",
     "text": [
      "The plot of Big Hero Six was: 'The special bond that develops between plus-sized inflatable robot Baymax, and prodigy Hiro Hamada, who team up with a group of friends to form a band of high-tech heroes.'.\n"
     ]
    }
   ],
   "source": [
    "# What was the plot of the movie Big Hero 6?\n",
    "movie = requests.get(format_url(base_url,api_key,\"Big Hero 6\")).json()\n",
    "print(\"The plot of Big Hero 6 was: '\" + movie[\"Plot\"] + \"'.\")"
   ]
  }
 ],
 "metadata": {
  "kernelspec": {
   "display_name": "PythonData",
   "language": "python",
   "name": "pythondata"
  },
  "language_info": {
   "codemirror_mode": {
    "name": "ipython",
    "version": 3
   },
   "file_extension": ".py",
   "mimetype": "text/x-python",
   "name": "python",
   "nbconvert_exporter": "python",
   "pygments_lexer": "ipython3",
   "version": "3.6.4"
  }
 },
 "nbformat": 4,
 "nbformat_minor": 2
}
