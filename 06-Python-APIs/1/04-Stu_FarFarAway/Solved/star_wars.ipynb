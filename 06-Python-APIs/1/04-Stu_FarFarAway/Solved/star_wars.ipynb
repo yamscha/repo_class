{
 "cells": [
  {
   "cell_type": "markdown",
   "metadata": {},
   "source": [
    "# Dependencies\n",
    "import requests\n",
    "import json"
   ]
  },
  {
   "cell_type": "markdown",
   "metadata": {},
   "source": [
    "https://swapi.co/documentation"
   ]
  },
  {
   "cell_type": "code",
   "execution_count": 5,
   "metadata": {},
   "outputs": [],
   "source": [
    "# URL for GET requests to retrieve Star Wars character data\n",
    "url = \"https://swapi.co/api/people/\""
   ]
  },
  {
   "cell_type": "code",
   "execution_count": 6,
   "metadata": {},
   "outputs": [
    {
     "data": {
      "text/plain": [
       "{'count': 87,\n",
       " 'next': 'https://swapi.co/api/people/?page=2',\n",
       " 'previous': None,\n",
       " 'results': [{'birth_year': '19BBY',\n",
       "   'created': '2014-12-09T13:50:51.644000Z',\n",
       "   'edited': '2014-12-20T21:17:56.891000Z',\n",
       "   'eye_color': 'blue',\n",
       "   'films': ['https://swapi.co/api/films/2/',\n",
       "    'https://swapi.co/api/films/6/',\n",
       "    'https://swapi.co/api/films/3/',\n",
       "    'https://swapi.co/api/films/1/',\n",
       "    'https://swapi.co/api/films/7/'],\n",
       "   'gender': 'male',\n",
       "   'hair_color': 'blond',\n",
       "   'height': '172',\n",
       "   'homeworld': 'https://swapi.co/api/planets/1/',\n",
       "   'mass': '77',\n",
       "   'name': 'Luke Skywalker',\n",
       "   'skin_color': 'fair',\n",
       "   'species': ['https://swapi.co/api/species/1/'],\n",
       "   'starships': ['https://swapi.co/api/starships/12/',\n",
       "    'https://swapi.co/api/starships/22/'],\n",
       "   'url': 'https://swapi.co/api/people/1/',\n",
       "   'vehicles': ['https://swapi.co/api/vehicles/14/',\n",
       "    'https://swapi.co/api/vehicles/30/']},\n",
       "  {'birth_year': '112BBY',\n",
       "   'created': '2014-12-10T15:10:51.357000Z',\n",
       "   'edited': '2014-12-20T21:17:50.309000Z',\n",
       "   'eye_color': 'yellow',\n",
       "   'films': ['https://swapi.co/api/films/2/',\n",
       "    'https://swapi.co/api/films/5/',\n",
       "    'https://swapi.co/api/films/4/',\n",
       "    'https://swapi.co/api/films/6/',\n",
       "    'https://swapi.co/api/films/3/',\n",
       "    'https://swapi.co/api/films/1/'],\n",
       "   'gender': 'n/a',\n",
       "   'hair_color': 'n/a',\n",
       "   'height': '167',\n",
       "   'homeworld': 'https://swapi.co/api/planets/1/',\n",
       "   'mass': '75',\n",
       "   'name': 'C-3PO',\n",
       "   'skin_color': 'gold',\n",
       "   'species': ['https://swapi.co/api/species/2/'],\n",
       "   'starships': [],\n",
       "   'url': 'https://swapi.co/api/people/2/',\n",
       "   'vehicles': []},\n",
       "  {'birth_year': '33BBY',\n",
       "   'created': '2014-12-10T15:11:50.376000Z',\n",
       "   'edited': '2014-12-20T21:17:50.311000Z',\n",
       "   'eye_color': 'red',\n",
       "   'films': ['https://swapi.co/api/films/2/',\n",
       "    'https://swapi.co/api/films/5/',\n",
       "    'https://swapi.co/api/films/4/',\n",
       "    'https://swapi.co/api/films/6/',\n",
       "    'https://swapi.co/api/films/3/',\n",
       "    'https://swapi.co/api/films/1/',\n",
       "    'https://swapi.co/api/films/7/'],\n",
       "   'gender': 'n/a',\n",
       "   'hair_color': 'n/a',\n",
       "   'height': '96',\n",
       "   'homeworld': 'https://swapi.co/api/planets/8/',\n",
       "   'mass': '32',\n",
       "   'name': 'R2-D2',\n",
       "   'skin_color': 'white, blue',\n",
       "   'species': ['https://swapi.co/api/species/2/'],\n",
       "   'starships': [],\n",
       "   'url': 'https://swapi.co/api/people/3/',\n",
       "   'vehicles': []},\n",
       "  {'birth_year': '41.9BBY',\n",
       "   'created': '2014-12-10T15:18:20.704000Z',\n",
       "   'edited': '2014-12-20T21:17:50.313000Z',\n",
       "   'eye_color': 'yellow',\n",
       "   'films': ['https://swapi.co/api/films/2/',\n",
       "    'https://swapi.co/api/films/6/',\n",
       "    'https://swapi.co/api/films/3/',\n",
       "    'https://swapi.co/api/films/1/'],\n",
       "   'gender': 'male',\n",
       "   'hair_color': 'none',\n",
       "   'height': '202',\n",
       "   'homeworld': 'https://swapi.co/api/planets/1/',\n",
       "   'mass': '136',\n",
       "   'name': 'Darth Vader',\n",
       "   'skin_color': 'white',\n",
       "   'species': ['https://swapi.co/api/species/1/'],\n",
       "   'starships': ['https://swapi.co/api/starships/13/'],\n",
       "   'url': 'https://swapi.co/api/people/4/',\n",
       "   'vehicles': []},\n",
       "  {'birth_year': '19BBY',\n",
       "   'created': '2014-12-10T15:20:09.791000Z',\n",
       "   'edited': '2014-12-20T21:17:50.315000Z',\n",
       "   'eye_color': 'brown',\n",
       "   'films': ['https://swapi.co/api/films/2/',\n",
       "    'https://swapi.co/api/films/6/',\n",
       "    'https://swapi.co/api/films/3/',\n",
       "    'https://swapi.co/api/films/1/',\n",
       "    'https://swapi.co/api/films/7/'],\n",
       "   'gender': 'female',\n",
       "   'hair_color': 'brown',\n",
       "   'height': '150',\n",
       "   'homeworld': 'https://swapi.co/api/planets/2/',\n",
       "   'mass': '49',\n",
       "   'name': 'Leia Organa',\n",
       "   'skin_color': 'light',\n",
       "   'species': ['https://swapi.co/api/species/1/'],\n",
       "   'starships': [],\n",
       "   'url': 'https://swapi.co/api/people/5/',\n",
       "   'vehicles': ['https://swapi.co/api/vehicles/30/']},\n",
       "  {'birth_year': '52BBY',\n",
       "   'created': '2014-12-10T15:52:14.024000Z',\n",
       "   'edited': '2014-12-20T21:17:50.317000Z',\n",
       "   'eye_color': 'blue',\n",
       "   'films': ['https://swapi.co/api/films/5/',\n",
       "    'https://swapi.co/api/films/6/',\n",
       "    'https://swapi.co/api/films/1/'],\n",
       "   'gender': 'male',\n",
       "   'hair_color': 'brown, grey',\n",
       "   'height': '178',\n",
       "   'homeworld': 'https://swapi.co/api/planets/1/',\n",
       "   'mass': '120',\n",
       "   'name': 'Owen Lars',\n",
       "   'skin_color': 'light',\n",
       "   'species': ['https://swapi.co/api/species/1/'],\n",
       "   'starships': [],\n",
       "   'url': 'https://swapi.co/api/people/6/',\n",
       "   'vehicles': []},\n",
       "  {'birth_year': '47BBY',\n",
       "   'created': '2014-12-10T15:53:41.121000Z',\n",
       "   'edited': '2014-12-20T21:17:50.319000Z',\n",
       "   'eye_color': 'blue',\n",
       "   'films': ['https://swapi.co/api/films/5/',\n",
       "    'https://swapi.co/api/films/6/',\n",
       "    'https://swapi.co/api/films/1/'],\n",
       "   'gender': 'female',\n",
       "   'hair_color': 'brown',\n",
       "   'height': '165',\n",
       "   'homeworld': 'https://swapi.co/api/planets/1/',\n",
       "   'mass': '75',\n",
       "   'name': 'Beru Whitesun lars',\n",
       "   'skin_color': 'light',\n",
       "   'species': ['https://swapi.co/api/species/1/'],\n",
       "   'starships': [],\n",
       "   'url': 'https://swapi.co/api/people/7/',\n",
       "   'vehicles': []},\n",
       "  {'birth_year': 'unknown',\n",
       "   'created': '2014-12-10T15:57:50.959000Z',\n",
       "   'edited': '2014-12-20T21:17:50.321000Z',\n",
       "   'eye_color': 'red',\n",
       "   'films': ['https://swapi.co/api/films/1/'],\n",
       "   'gender': 'n/a',\n",
       "   'hair_color': 'n/a',\n",
       "   'height': '97',\n",
       "   'homeworld': 'https://swapi.co/api/planets/1/',\n",
       "   'mass': '32',\n",
       "   'name': 'R5-D4',\n",
       "   'skin_color': 'white, red',\n",
       "   'species': ['https://swapi.co/api/species/2/'],\n",
       "   'starships': [],\n",
       "   'url': 'https://swapi.co/api/people/8/',\n",
       "   'vehicles': []},\n",
       "  {'birth_year': '24BBY',\n",
       "   'created': '2014-12-10T15:59:50.509000Z',\n",
       "   'edited': '2014-12-20T21:17:50.323000Z',\n",
       "   'eye_color': 'brown',\n",
       "   'films': ['https://swapi.co/api/films/1/'],\n",
       "   'gender': 'male',\n",
       "   'hair_color': 'black',\n",
       "   'height': '183',\n",
       "   'homeworld': 'https://swapi.co/api/planets/1/',\n",
       "   'mass': '84',\n",
       "   'name': 'Biggs Darklighter',\n",
       "   'skin_color': 'light',\n",
       "   'species': ['https://swapi.co/api/species/1/'],\n",
       "   'starships': ['https://swapi.co/api/starships/12/'],\n",
       "   'url': 'https://swapi.co/api/people/9/',\n",
       "   'vehicles': []},\n",
       "  {'birth_year': '57BBY',\n",
       "   'created': '2014-12-10T16:16:29.192000Z',\n",
       "   'edited': '2014-12-20T21:17:50.325000Z',\n",
       "   'eye_color': 'blue-gray',\n",
       "   'films': ['https://swapi.co/api/films/2/',\n",
       "    'https://swapi.co/api/films/5/',\n",
       "    'https://swapi.co/api/films/4/',\n",
       "    'https://swapi.co/api/films/6/',\n",
       "    'https://swapi.co/api/films/3/',\n",
       "    'https://swapi.co/api/films/1/'],\n",
       "   'gender': 'male',\n",
       "   'hair_color': 'auburn, white',\n",
       "   'height': '182',\n",
       "   'homeworld': 'https://swapi.co/api/planets/20/',\n",
       "   'mass': '77',\n",
       "   'name': 'Obi-Wan Kenobi',\n",
       "   'skin_color': 'fair',\n",
       "   'species': ['https://swapi.co/api/species/1/'],\n",
       "   'starships': ['https://swapi.co/api/starships/48/',\n",
       "    'https://swapi.co/api/starships/59/',\n",
       "    'https://swapi.co/api/starships/64/',\n",
       "    'https://swapi.co/api/starships/65/',\n",
       "    'https://swapi.co/api/starships/74/'],\n",
       "   'url': 'https://swapi.co/api/people/10/',\n",
       "   'vehicles': ['https://swapi.co/api/vehicles/38/']}]}"
      ]
     },
     "execution_count": 6,
     "metadata": {},
     "output_type": "execute_result"
    }
   ],
   "source": [
    "response_json = requests.get(url).json()\n",
    "response_json"
   ]
  },
  {
   "cell_type": "code",
   "execution_count": 8,
   "metadata": {},
   "outputs": [
    {
     "data": {
      "text/plain": [
       "dict"
      ]
     },
     "execution_count": 8,
     "metadata": {},
     "output_type": "execute_result"
    }
   ],
   "source": [
    "type(response_json)"
   ]
  },
  {
   "cell_type": "code",
   "execution_count": 9,
   "metadata": {},
   "outputs": [
    {
     "data": {
      "text/plain": [
       "list"
      ]
     },
     "execution_count": 9,
     "metadata": {},
     "output_type": "execute_result"
    }
   ],
   "source": [
    "type(response_json['results'])"
   ]
  },
  {
   "cell_type": "code",
   "execution_count": 11,
   "metadata": {},
   "outputs": [
    {
     "data": {
      "text/plain": [
       "[(1, 'Luke Skywalker'),\n",
       " (2, 'C-3PO'),\n",
       " (3, 'R2-D2'),\n",
       " (4, 'Darth Vader'),\n",
       " (5, 'Leia Organa'),\n",
       " (6, 'Owen Lars'),\n",
       " (7, 'Beru Whitesun lars'),\n",
       " (8, 'R5-D4'),\n",
       " (9, 'Biggs Darklighter'),\n",
       " (10, 'Obi-Wan Kenobi')]"
      ]
     },
     "execution_count": 11,
     "metadata": {},
     "output_type": "execute_result"
    }
   ],
   "source": [
    "names = [(i, d['name']) for i,d \n",
    "             in enumerate(response_json['results'],start=1)]\n",
    "names"
   ]
  },
  {
   "cell_type": "markdown",
   "metadata": {},
   "source": [
    "Get a specific person with a more detailed url"
   ]
  },
  {
   "cell_type": "code",
   "execution_count": 13,
   "metadata": {},
   "outputs": [
    {
     "data": {
      "text/plain": [
       "{'birth_year': '19BBY',\n",
       " 'created': '2014-12-09T13:50:51.644000Z',\n",
       " 'edited': '2014-12-20T21:17:56.891000Z',\n",
       " 'eye_color': 'blue',\n",
       " 'films': ['https://swapi.co/api/films/2/',\n",
       "  'https://swapi.co/api/films/6/',\n",
       "  'https://swapi.co/api/films/3/',\n",
       "  'https://swapi.co/api/films/1/',\n",
       "  'https://swapi.co/api/films/7/'],\n",
       " 'gender': 'male',\n",
       " 'hair_color': 'blond',\n",
       " 'height': '172',\n",
       " 'homeworld': 'https://swapi.co/api/planets/1/',\n",
       " 'mass': '77',\n",
       " 'name': 'Luke Skywalker',\n",
       " 'skin_color': 'fair',\n",
       " 'species': ['https://swapi.co/api/species/1/'],\n",
       " 'starships': ['https://swapi.co/api/starships/12/',\n",
       "  'https://swapi.co/api/starships/22/'],\n",
       " 'url': 'https://swapi.co/api/people/1/',\n",
       " 'vehicles': ['https://swapi.co/api/vehicles/14/',\n",
       "  'https://swapi.co/api/vehicles/30/']}"
      ]
     },
     "execution_count": 13,
     "metadata": {},
     "output_type": "execute_result"
    }
   ],
   "source": [
    "response_json['results'][0]"
   ]
  },
  {
   "cell_type": "code",
   "execution_count": 15,
   "metadata": {},
   "outputs": [
    {
     "data": {
      "text/plain": [
       "{'birth_year': '19BBY',\n",
       " 'created': '2014-12-09T13:50:51.644000Z',\n",
       " 'edited': '2014-12-20T21:17:56.891000Z',\n",
       " 'eye_color': 'blue',\n",
       " 'films': ['https://swapi.co/api/films/2/',\n",
       "  'https://swapi.co/api/films/6/',\n",
       "  'https://swapi.co/api/films/3/',\n",
       "  'https://swapi.co/api/films/1/',\n",
       "  'https://swapi.co/api/films/7/'],\n",
       " 'gender': 'male',\n",
       " 'hair_color': 'blond',\n",
       " 'height': '172',\n",
       " 'homeworld': 'https://swapi.co/api/planets/1/',\n",
       " 'mass': '77',\n",
       " 'name': 'Luke Skywalker',\n",
       " 'skin_color': 'fair',\n",
       " 'species': ['https://swapi.co/api/species/1/'],\n",
       " 'starships': ['https://swapi.co/api/starships/12/',\n",
       "  'https://swapi.co/api/starships/22/'],\n",
       " 'url': 'https://swapi.co/api/people/1/',\n",
       " 'vehicles': ['https://swapi.co/api/vehicles/14/',\n",
       "  'https://swapi.co/api/vehicles/30/']}"
      ]
     },
     "execution_count": 15,
     "metadata": {},
     "output_type": "execute_result"
    }
   ],
   "source": [
    "#get the specific person only\n",
    "response_luke = requests.get(url + '1').json()\n",
    "response_luke"
   ]
  },
  {
   "cell_type": "code",
   "execution_count": 16,
   "metadata": {},
   "outputs": [
    {
     "data": {
      "text/plain": [
       "'Luke Skywalker'"
      ]
     },
     "execution_count": 16,
     "metadata": {},
     "output_type": "execute_result"
    }
   ],
   "source": [
    "# Collecting the name of the character collected\n",
    "response_luke[\"name\"]"
   ]
  },
  {
   "cell_type": "code",
   "execution_count": 26,
   "metadata": {},
   "outputs": [
    {
     "data": {
      "text/plain": [
       "5"
      ]
     },
     "execution_count": 26,
     "metadata": {},
     "output_type": "execute_result"
    }
   ],
   "source": [
    "# Counting how many films the character was in\n",
    "len(response_luke[\"films\"])"
   ]
  },
  {
   "cell_type": "code",
   "execution_count": 17,
   "metadata": {},
   "outputs": [
    {
     "data": {
      "text/plain": [
       "'https://swapi.co/api/starships/12/'"
      ]
     },
     "execution_count": 17,
     "metadata": {},
     "output_type": "execute_result"
    }
   ],
   "source": [
    "# Figure out what their first starship was\n",
    "first_ship_url = response_luke[\"starships\"][0]\n",
    "first_ship_url"
   ]
  },
  {
   "cell_type": "code",
   "execution_count": 19,
   "metadata": {},
   "outputs": [
    {
     "data": {
      "text/plain": [
       "{'MGLT': '100',\n",
       " 'cargo_capacity': '110',\n",
       " 'consumables': '1 week',\n",
       " 'cost_in_credits': '149999',\n",
       " 'created': '2014-12-12T11:19:05.340000Z',\n",
       " 'crew': '1',\n",
       " 'edited': '2014-12-22T17:35:44.491233Z',\n",
       " 'films': ['https://swapi.co/api/films/2/',\n",
       "  'https://swapi.co/api/films/3/',\n",
       "  'https://swapi.co/api/films/1/'],\n",
       " 'hyperdrive_rating': '1.0',\n",
       " 'length': '12.5',\n",
       " 'manufacturer': 'Incom Corporation',\n",
       " 'max_atmosphering_speed': '1050',\n",
       " 'model': 'T-65 X-wing',\n",
       " 'name': 'X-wing',\n",
       " 'passengers': '0',\n",
       " 'pilots': ['https://swapi.co/api/people/1/',\n",
       "  'https://swapi.co/api/people/9/',\n",
       "  'https://swapi.co/api/people/18/',\n",
       "  'https://swapi.co/api/people/19/'],\n",
       " 'starship_class': 'Starfighter',\n",
       " 'url': 'https://swapi.co/api/starships/12/'}"
      ]
     },
     "execution_count": 19,
     "metadata": {},
     "output_type": "execute_result"
    }
   ],
   "source": [
    "ship_response = requests.get(first_ship_url).json()\n",
    "ship_response"
   ]
  },
  {
   "cell_type": "code",
   "execution_count": 20,
   "metadata": {},
   "outputs": [
    {
     "data": {
      "text/plain": [
       "'X-wing'"
      ]
     },
     "execution_count": 20,
     "metadata": {},
     "output_type": "execute_result"
    }
   ],
   "source": [
    "ship_response[\"name\"]"
   ]
  },
  {
   "cell_type": "markdown",
   "metadata": {},
   "source": [
    "For long strings, they can be continued onto the next line without using the + for concatenation as long as they're wrapped inside function parentheses like print()."
   ]
  },
  {
   "cell_type": "code",
   "execution_count": 30,
   "metadata": {},
   "outputs": [
    {
     "name": "stdout",
     "output_type": "stream",
     "text": [
      "Luke Skywalker was in 5 films. First ship was X-wing.\n"
     ]
    }
   ],
   "source": [
    "#notice how each string needs to be prefixed with the \"f\"\n",
    "print(f\"{response_luke['name']} \"\n",
    "      f\"was in {len(response_luke['films'])} films.\"\n",
    "      f\" First ship was {ship_response['name']}.\")"
   ]
  },
  {
   "cell_type": "markdown",
   "metadata": {},
   "source": [
    "### bonus"
   ]
  },
  {
   "cell_type": "code",
   "execution_count": 32,
   "metadata": {},
   "outputs": [],
   "source": [
    "# BONUS\n",
    "films = []\n",
    "\n",
    "for film in response_luke['films']:\n",
    "    cur_film = requests.get(film).json()\n",
    "    film_title = cur_film[\"title\"]\n",
    "    films.append(film_title)"
   ]
  },
  {
   "cell_type": "code",
   "execution_count": 36,
   "metadata": {},
   "outputs": [
    {
     "name": "stdout",
     "output_type": "stream",
     "text": [
      "Luke Skywalker was in:\n",
      "The Empire Strikes Back\n",
      "Revenge of the Sith\n",
      "Return of the Jedi\n",
      "A New Hope\n",
      "The Force Awakens\n"
     ]
    }
   ],
   "source": [
    "print(f\"{response_luke['name']} was in:\")\n",
    "print(\"\\n\".join(films))"
   ]
  },
  {
   "cell_type": "code",
   "execution_count": null,
   "metadata": {},
   "outputs": [],
   "source": []
  }
 ],
 "metadata": {
  "kernelspec": {
   "display_name": "PythonData",
   "language": "python",
   "name": "pythondata"
  },
  "language_info": {
   "codemirror_mode": {
    "name": "ipython",
    "version": 3
   },
   "file_extension": ".py",
   "mimetype": "text/x-python",
   "name": "python",
   "nbconvert_exporter": "python",
   "pygments_lexer": "ipython3",
   "version": "3.6.4"
  }
 },
 "nbformat": 4,
 "nbformat_minor": 2
}
