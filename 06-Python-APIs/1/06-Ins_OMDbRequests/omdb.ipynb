{
 "cells": [
  {
   "cell_type": "code",
   "execution_count": 7,
   "metadata": {},
   "outputs": [],
   "source": [
    "import requests\n",
    "import json"
   ]
  },
  {
   "cell_type": "code",
   "execution_count": 8,
   "metadata": {},
   "outputs": [],
   "source": [
    "# https://docs.python.org/3/library/pprint.html\n",
    "from pprint import pprint"
   ]
  },
  {
   "cell_type": "markdown",
   "metadata": {},
   "source": [
    "Docs:\n",
    "http://www.omdbapi.com/"
   ]
  },
  {
   "cell_type": "code",
   "execution_count": 9,
   "metadata": {},
   "outputs": [],
   "source": [
    "# Note that the ?t= is a query param for the t-itle of the\n",
    "# movie we want to search for.\n",
    "url = \"http://www.omdbapi.com\"\n",
    "api_key = \"40e9cece\""
   ]
  },
  {
   "cell_type": "markdown",
   "metadata": {},
   "source": [
    "http://www.omdbapi.com/?t=Aliens&apikey=40e9cece"
   ]
  },
  {
   "cell_type": "code",
   "execution_count": 10,
   "metadata": {},
   "outputs": [
    {
     "name": "stdout",
     "output_type": "stream",
     "text": [
      "http://www.omdbapi.com/?t=Wonder Woman&apikey=40e9cece\n"
     ]
    }
   ],
   "source": [
    "# Performing a GET request similar to the one we executed\n",
    "# earlier\n",
    "url_full = \"{}/?t={}&apikey={}\".format(url,\"Wonder Woman\",api_key)\n",
    "print(url_full)"
   ]
  },
  {
   "cell_type": "code",
   "execution_count": 11,
   "metadata": {},
   "outputs": [],
   "source": [
    "data = requests.get(url_full).json()"
   ]
  },
  {
   "cell_type": "code",
   "execution_count": 12,
   "metadata": {},
   "outputs": [
    {
     "name": "stdout",
     "output_type": "stream",
     "text": [
      "{'Actors': 'Gal Gadot, Chris Pine, Connie Nielsen, Robin Wright',\n",
      " 'Awards': '14 wins & 36 nominations.',\n",
      " 'BoxOffice': '$412,400,625',\n",
      " 'Country': 'Hong Kong, China, USA',\n",
      " 'DVD': '19 Sep 2017',\n",
      " 'Director': 'Patty Jenkins',\n",
      " 'Genre': 'Action, Adventure, Fantasy',\n",
      " 'Language': 'English, German, Dutch, French, Spanish, Chinese, Greek,  '\n",
      "             'Ancient (to 1453), North American Indian',\n",
      " 'Metascore': '76',\n",
      " 'Plot': 'When a pilot crashes and tells of conflict in the outside world, '\n",
      "         'Diana, an Amazonian warrior in training, leaves home to fight a war, '\n",
      "         'discovering her full powers and true destiny.',\n",
      " 'Poster': 'https://images-na.ssl-images-amazon.com/images/M/MV5BNDFmZjgyMTEtYTk5MC00NmY0LWJhZjktOWY2MzI5YjkzODNlXkEyXkFqcGdeQXVyMDA4NzMyOA@@._V1_SX300.jpg',\n",
      " 'Production': 'Warner Bros. Pictures',\n",
      " 'Rated': 'PG-13',\n",
      " 'Ratings': [{'Source': 'Internet Movie Database', 'Value': '7.5/10'},\n",
      "             {'Source': 'Rotten Tomatoes', 'Value': '92%'},\n",
      "             {'Source': 'Metacritic', 'Value': '76/100'}],\n",
      " 'Released': '02 Jun 2017',\n",
      " 'Response': 'True',\n",
      " 'Runtime': '141 min',\n",
      " 'Title': 'Wonder Woman',\n",
      " 'Type': 'movie',\n",
      " 'Website': 'http://wonderwomanfilm.com/',\n",
      " 'Writer': 'Allan Heinberg (screenplay by), Zack Snyder (story by), Allan '\n",
      "           'Heinberg (story by), Jason Fuchs (story by), William Moulton '\n",
      "           'Marston (Wonder Woman created by)',\n",
      " 'Year': '2017',\n",
      " 'imdbID': 'tt0451279',\n",
      " 'imdbRating': '7.5',\n",
      " 'imdbVotes': '370,886'}\n"
     ]
    }
   ],
   "source": [
    "pprint(data)"
   ]
  },
  {
   "cell_type": "code",
   "execution_count": 13,
   "metadata": {},
   "outputs": [
    {
     "name": "stdout",
     "output_type": "stream",
     "text": [
      "Movie was directed by Patty Jenkins.\n",
      "Movie was released in Hong Kong, China, USA.\n",
      "Actors are Gal Gadot, Chris Pine, Connie Nielsen, Robin Wright\n"
     ]
    }
   ],
   "source": [
    "# Print a few keys from the response JSON.\n",
    "print(f\"Movie was directed by {data['Director']}.\\n\"\n",
    "      f\"Movie was released in {data['Country']}.\\n\"\n",
    "      f\"Actors are {data['Actors']}\")"
   ]
  },
  {
   "cell_type": "code",
   "execution_count": null,
   "metadata": {},
   "outputs": [],
   "source": []
  }
 ],
 "metadata": {
  "kernelspec": {
   "display_name": "PythonData",
   "language": "python",
   "name": "pythondata"
  },
  "language_info": {
   "codemirror_mode": {
    "name": "ipython",
    "version": 3
   },
   "file_extension": ".py",
   "mimetype": "text/x-python",
   "name": "python",
   "nbconvert_exporter": "python",
   "pygments_lexer": "ipython3",
   "version": "3.6.4"
  }
 },
 "nbformat": 4,
 "nbformat_minor": 2
}
