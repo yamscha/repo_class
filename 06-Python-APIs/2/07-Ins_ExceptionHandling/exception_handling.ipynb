{
 "cells": [
  {
   "cell_type": "markdown",
   "metadata": {},
   "source": [
    "## Check out what exceptions look like"
   ]
  },
  {
   "cell_type": "code",
   "execution_count": 1,
   "metadata": {},
   "outputs": [
    {
     "ename": "KeyError",
     "evalue": "'Kevin Bacon'",
     "output_type": "error",
     "traceback": [
      "\u001b[0;31m---------------------------------------------------------------------------\u001b[0m",
      "\u001b[0;31mKeyError\u001b[0m                                  Traceback (most recent call last)",
      "\u001b[0;32m<ipython-input-1-df065cf15801>\u001b[0m in \u001b[0;36m<module>\u001b[0;34m()\u001b[0m\n\u001b[1;32m      7\u001b[0m }\n\u001b[1;32m      8\u001b[0m \u001b[0;34m\u001b[0m\u001b[0m\n\u001b[0;32m----> 9\u001b[0;31m \u001b[0mprint\u001b[0m\u001b[0;34m(\u001b[0m\u001b[0mactors_in_black_panther\u001b[0m\u001b[0;34m[\u001b[0m\u001b[0;34m\"Kevin Bacon\"\u001b[0m\u001b[0;34m]\u001b[0m\u001b[0;34m)\u001b[0m\u001b[0;34m\u001b[0m\u001b[0m\n\u001b[0m\u001b[1;32m     10\u001b[0m \u001b[0;34m\u001b[0m\u001b[0m\n\u001b[1;32m     11\u001b[0m \u001b[0mprint\u001b[0m\u001b[0;34m(\u001b[0m\u001b[0;34m\"The program terminates before getting to this line.\"\u001b[0m\u001b[0;34m)\u001b[0m\u001b[0;34m\u001b[0m\u001b[0m\n",
      "\u001b[0;31mKeyError\u001b[0m: 'Kevin Bacon'"
     ]
    }
   ],
   "source": [
    "actors_in_black_panther = {\n",
    "    # actor  : character\n",
    "    \"Chadwick Boseman\": \"T'Challa\",\n",
    "    \"Lupita Nyong'o\": \"Nakia\",\n",
    "    \"Michael B. Jordan\": \"Killmonger\",\n",
    "    \"Danai Gurira\": \"Okoye\"\n",
    "}\n",
    "\n",
    "print(actors_in_black_panther[\"Kevin Bacon\"])\n",
    "\n",
    "print(\"The program terminates before getting to this line.\")"
   ]
  },
  {
   "cell_type": "markdown",
   "metadata": {},
   "source": [
    "## See how to handle possible exceptions"
   ]
  },
  {
   "cell_type": "code",
   "execution_count": 2,
   "metadata": {},
   "outputs": [
    {
     "name": "stdout",
     "output_type": "stream",
     "text": [
      "That key doesn't exist.\n",
      "'Kevin Bacon'\n",
      "...But the program doesn't die early!\n"
     ]
    }
   ],
   "source": [
    "actors_in_black_panther = {\n",
    "    # actor  : character\n",
    "    \"Chadwick Boseman\": \"T'Challa\",\n",
    "    \"Lupita Nyong'o\": \"Nakia\",\n",
    "    \"Michael B. Jordan\": \"Killmonger\",\n",
    "    \"Danai Gurira\": \"Okoye\"\n",
    "}\n",
    "\n",
    "# Try to access key that doesn't exist\n",
    "try:\n",
    "    print(actors_in_black_panther[\"Kevin Bacon\"])\n",
    "except KeyError as e:\n",
    "    print(\"That key doesn't exist.\")\n",
    "    print(e)\n",
    "\n",
    "# \"Catching\" the error lets the rest of our code execute\n",
    "print(\"...But the program doesn't die early!\")"
   ]
  },
  {
   "cell_type": "markdown",
   "metadata": {},
   "source": [
    "## For dictionary access, get() is best practice\n",
    "https://docs.quantifiedcode.com/python-anti-patterns/correctness/not_using_get_to_return_a_default_value_from_a_dictionary.html"
   ]
  },
  {
   "cell_type": "code",
   "execution_count": 3,
   "metadata": {},
   "outputs": [
    {
     "name": "stdout",
     "output_type": "stream",
     "text": [
      "(not in this movie)\n"
     ]
    }
   ],
   "source": [
    "actors_in_black_panther = {\n",
    "    # actor  : character\n",
    "    \"Chadwick Boseman\": \"T'Challa\",\n",
    "    \"Lupita Nyong'o\": \"Nakia\",\n",
    "    \"Michael B. Jordan\": \"Killmonger\",\n",
    "    \"Danai Gurira\": \"Okoye\"\n",
    "}\n",
    "\n",
    "# Use get method, and provide a default value if key is not found\n",
    "print(actors_in_black_panther.get(\"Kevin Bacon\",\"(not in this movie)\"))"
   ]
  },
  {
   "cell_type": "markdown",
   "metadata": {},
   "source": [
    "## You may see this too"
   ]
  },
  {
   "cell_type": "code",
   "execution_count": 6,
   "metadata": {},
   "outputs": [
    {
     "name": "stdout",
     "output_type": "stream",
     "text": [
      "(not in this movie)\n"
     ]
    }
   ],
   "source": [
    "actors_in_black_panther = {\n",
    "    # actor  : character\n",
    "    \"Chadwick Boseman\": \"T'Challa\",\n",
    "    \"Lupita Nyong'o\": \"Nakia\",\n",
    "    \"Michael B. Jordan\": \"Killmonger\",\n",
    "    \"Danai Gurira\": \"Okoye\"\n",
    "}\n",
    "\n",
    "if \"Kevin Bacon\" in actors_in_black_panther:\n",
    "    print(actors_in_black_panther[\"Kevin Bacon\"])\n",
    "else:\n",
    "    print(\"(not in this movie)\")"
   ]
  }
 ],
 "metadata": {
  "kernelspec": {
   "display_name": "PythonData",
   "language": "python",
   "name": "pythondata"
  },
  "language_info": {
   "codemirror_mode": {
    "name": "ipython",
    "version": 3
   },
   "file_extension": ".py",
   "mimetype": "text/x-python",
   "name": "python",
   "nbconvert_exporter": "python",
   "pygments_lexer": "ipython3",
   "version": "3.6.4"
  }
 },
 "nbformat": 4,
 "nbformat_minor": 2
}
