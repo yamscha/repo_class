{
 "cells": [
  {
   "cell_type": "code",
   "execution_count": 1,
   "metadata": {},
   "outputs": [],
   "source": [
    "# Dependencies\n",
    "import json"
   ]
  },
  {
   "cell_type": "code",
   "execution_count": 2,
   "metadata": {},
   "outputs": [],
   "source": [
    "# Load JSON\n",
    "video_file = open('../Resources/youtube_response.json')\n",
    "video_json = json.load(video_file)"
   ]
  },
  {
   "cell_type": "code",
   "execution_count": 4,
   "metadata": {},
   "outputs": [
    {
     "data": {
      "text/plain": [
       "dict"
      ]
     },
     "execution_count": 4,
     "metadata": {},
     "output_type": "execute_result"
    }
   ],
   "source": [
    "type(video_json)"
   ]
  },
  {
   "cell_type": "code",
   "execution_count": 3,
   "metadata": {},
   "outputs": [
    {
     "data": {
      "text/plain": [
       "{'apiVersion': '2.0',\n",
       " 'data': {'items': [{'accessControl': {'comment': 'allowed',\n",
       "     'commentVote': 'allowed',\n",
       "     'embed': 'allowed',\n",
       "     'list': 'allowed',\n",
       "     'rate': 'allowed',\n",
       "     'syndicate': 'allowed',\n",
       "     'videoRespond': 'moderated'},\n",
       "    'aspectRatio': 'widescreen',\n",
       "    'category': 'News',\n",
       "    'commentCount': 22,\n",
       "    'content': {'1': 'rtsp://v5.cache3.c.youtube.com/CiILENy.../0/0/0/video.3gp',\n",
       "     '5': 'http://www.youtube.com/v/hYB0mn5zh2c?f...',\n",
       "     '6': 'rtsp://v1.cache1.c.youtube.com/CiILENy.../0/0/0/video.3gp'},\n",
       "    'description': 'Google Maps API Introduction ...',\n",
       "    'duration': 2840,\n",
       "    'favoriteCount': 201,\n",
       "    'id': 'hYB0mn5zh2c',\n",
       "    'player': {'default': 'http://www.youtube.com/watch?vu003dhYB0mn5zh2c'},\n",
       "    'rating': 4.63,\n",
       "    'ratingCount': 68,\n",
       "    'status': {'reason': 'limitedSyndication', 'value': 'restricted'},\n",
       "    'tags': ['GDD07', 'GDD07US', 'Maps'],\n",
       "    'thumbnail': {'default': 'http://i.ytimg.com/vi/hYB0mn5zh2c/default.jpg',\n",
       "     'hqDefault': 'http://i.ytimg.com/vi/hYB0mn5zh2c/hqdefault.jpg'},\n",
       "    'title': 'Google Developers Day US - Maps API Introduction',\n",
       "    'updated': '2010-01-07T13:26:50.000Z',\n",
       "    'uploaded': '2007-06-05T22:07:03.000Z',\n",
       "    'uploader': 'GoogleDeveloperDay',\n",
       "    'viewCount': 220101}],\n",
       "  'itemsPerPage': 1,\n",
       "  'startIndex': 1,\n",
       "  'totalItems': 800,\n",
       "  'updated': '2010-01-07T19:58:42.949Z'}}"
      ]
     },
     "execution_count": 3,
     "metadata": {},
     "output_type": "execute_result"
    }
   ],
   "source": [
    "video_json"
   ]
  },
  {
   "cell_type": "code",
   "execution_count": 4,
   "metadata": {},
   "outputs": [
    {
     "data": {
      "text/plain": [
       "[{'accessControl': {'comment': 'allowed',\n",
       "   'commentVote': 'allowed',\n",
       "   'embed': 'allowed',\n",
       "   'list': 'allowed',\n",
       "   'rate': 'allowed',\n",
       "   'syndicate': 'allowed',\n",
       "   'videoRespond': 'moderated'},\n",
       "  'aspectRatio': 'widescreen',\n",
       "  'category': 'News',\n",
       "  'commentCount': 22,\n",
       "  'content': {'1': 'rtsp://v5.cache3.c.youtube.com/CiILENy.../0/0/0/video.3gp',\n",
       "   '5': 'http://www.youtube.com/v/hYB0mn5zh2c?f...',\n",
       "   '6': 'rtsp://v1.cache1.c.youtube.com/CiILENy.../0/0/0/video.3gp'},\n",
       "  'description': 'Google Maps API Introduction ...',\n",
       "  'duration': 2840,\n",
       "  'favoriteCount': 201,\n",
       "  'id': 'hYB0mn5zh2c',\n",
       "  'player': {'default': 'http://www.youtube.com/watch?vu003dhYB0mn5zh2c'},\n",
       "  'rating': 4.63,\n",
       "  'ratingCount': 68,\n",
       "  'status': {'reason': 'limitedSyndication', 'value': 'restricted'},\n",
       "  'tags': ['GDD07', 'GDD07US', 'Maps'],\n",
       "  'thumbnail': {'default': 'http://i.ytimg.com/vi/hYB0mn5zh2c/default.jpg',\n",
       "   'hqDefault': 'http://i.ytimg.com/vi/hYB0mn5zh2c/hqdefault.jpg'},\n",
       "  'title': 'Google Developers Day US - Maps API Introduction',\n",
       "  'updated': '2010-01-07T13:26:50.000Z',\n",
       "  'uploaded': '2007-06-05T22:07:03.000Z',\n",
       "  'uploader': 'GoogleDeveloperDay',\n",
       "  'viewCount': 220101}]"
      ]
     },
     "execution_count": 4,
     "metadata": {},
     "output_type": "execute_result"
    }
   ],
   "source": [
    "# Isolate \"data items\" for easy reading\n",
    "data_items = video_json[\"data\"][\"items\"]\n",
    "data_items"
   ]
  },
  {
   "cell_type": "code",
   "execution_count": 6,
   "metadata": {},
   "outputs": [
    {
     "name": "stdout",
     "output_type": "stream",
     "text": [
      "Title:  Google Developers Day US - Maps API Introduction\n",
      "Rating: 4.63\n",
      "Thumbnail:  http://i.ytimg.com/vi/hYB0mn5zh2c/default.jpg\n",
      "View count: 220101\n"
     ]
    }
   ],
   "source": [
    "# Retrieve the video's title\n",
    "title = data_items[0][\"title\"]\n",
    "print(\"Title: \", title)\n",
    "\n",
    "# Retrieve the video's rating\n",
    "rating = data_items[0][\"rating\"]\n",
    "print(\"Rating:\", rating)\n",
    "\n",
    "# Retrieve the link to the video's default thumbnail\n",
    "default_thumbnail = data_items[0][\"thumbnail\"][\"default\"]\n",
    "print(\"Thumbnail: \", default_thumbnail)\n",
    "\n",
    "# Retrieve the number of views this video has\n",
    "view_count = data_items[0][\"viewCount\"]\n",
    "print(\"View count:\", view_count)\n"
   ]
  },
  {
   "cell_type": "code",
   "execution_count": null,
   "metadata": {},
   "outputs": [],
   "source": []
  }
 ],
 "metadata": {
  "kernelspec": {
   "display_name": "PythonData",
   "language": "python",
   "name": "pythondata"
  },
  "language_info": {
   "codemirror_mode": {
    "name": "ipython",
    "version": 3
   },
   "file_extension": ".py",
   "mimetype": "text/x-python",
   "name": "python",
   "nbconvert_exporter": "python",
   "pygments_lexer": "ipython3",
   "version": "3.6.4"
  }
 },
 "nbformat": 4,
 "nbformat_minor": 2
}
