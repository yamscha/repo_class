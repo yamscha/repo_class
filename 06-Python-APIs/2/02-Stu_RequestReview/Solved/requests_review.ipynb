{
 "cells": [
  {
   "cell_type": "code",
   "execution_count": 1,
   "metadata": {},
   "outputs": [],
   "source": [
    "# Dependencies\n",
    "import json\n",
    "import requests as req"
   ]
  },
  {
   "cell_type": "code",
   "execution_count": 2,
   "metadata": {},
   "outputs": [],
   "source": [
    "# Specify the URL\n",
    "url = \"http://nyt-mongo-scraper.herokuapp.com/api/headlines\""
   ]
  },
  {
   "cell_type": "code",
   "execution_count": 3,
   "metadata": {},
   "outputs": [],
   "source": [
    "# Make request and store response\n",
    "response = req.get(url)"
   ]
  },
  {
   "cell_type": "markdown",
   "metadata": {},
   "source": [
    "common status codes:\n",
    "\n",
    "200: okay: \"too okay okay!\"\n",
    "\n",
    "404: file not found: \"fouirl not fournd\"\n",
    "\n",
    "400: bad request: \"fail uh oh\"\n",
    "\n",
    "http://www.restapitutorial.com/httpstatuscodes.html"
   ]
  },
  {
   "cell_type": "code",
   "execution_count": 4,
   "metadata": {},
   "outputs": [
    {
     "data": {
      "text/plain": [
       "200"
      ]
     },
     "execution_count": 4,
     "metadata": {},
     "output_type": "execute_result"
    }
   ],
   "source": [
    "# Print status code\n",
    "response.status_code"
   ]
  },
  {
   "cell_type": "code",
   "execution_count": 5,
   "metadata": {},
   "outputs": [],
   "source": [
    "# JSON-ify response\n",
    "response_json = response.json()"
   ]
  },
  {
   "cell_type": "code",
   "execution_count": 10,
   "metadata": {},
   "outputs": [
    {
     "data": {
      "text/plain": [
       "list"
      ]
     },
     "execution_count": 10,
     "metadata": {},
     "output_type": "execute_result"
    }
   ],
   "source": [
    "type(response_json)"
   ]
  },
  {
   "cell_type": "code",
   "execution_count": 15,
   "metadata": {},
   "outputs": [
    {
     "name": "stdout",
     "output_type": "stream",
     "text": [
      "The first response is:\n",
      "{\n",
      "  \"_id\": \"5a8a58ed12efb600110ef391\",\n",
      "  \"headline\": \"Uncovering Strands of History Tied to George Washington\",\n",
      "  \"summary\": \"A librarian going through a book at Union College in Schenectady, N.Y., found a slender envelope that may add a new wrinkle in the odd history of George Washington\\u2019s hair.\",\n",
      "  \"url\": \"https://www.nytimes.com/2018/02/18/nyregion/president-washington-hair-discovered.html\",\n",
      "  \"date\": \"2_19_2018\",\n",
      "  \"saved\": false\n",
      "}\n"
     ]
    }
   ],
   "source": [
    "# Print first and last articles\n",
    "print(\"The first response is:\\n\" \n",
    "      + json.dumps(response_json[0], indent=2))"
   ]
  },
  {
   "cell_type": "code",
   "execution_count": 16,
   "metadata": {},
   "outputs": [
    {
     "name": "stdout",
     "output_type": "stream",
     "text": [
      "The last response is:\n",
      "{\n",
      "  \"_id\": \"599dcd78701dee0011f11248\",\n",
      "  \"headline\": \"Imam Who Forged Barcelona Cell Long Evaded Scrutiny\",\n",
      "  \"summary\": \"Abdelbaki Essati, believed to be the recruiter behind the attacks in Spain, had deep links with Islamic extremists and seems to have learned their methods well.\",\n",
      "  \"url\": \"https://www.nytimes.com/2017/08/23/world/europe/abdelbaki-essati-spain-attacks-imam.html\",\n",
      "  \"date\": \"8_23_2017\",\n",
      "  \"saved\": false\n",
      "}\n"
     ]
    }
   ],
   "source": [
    "print(\"The last response is:\\n\" \n",
    "      + json.dumps(response_json[-1], indent=2))"
   ]
  },
  {
   "cell_type": "code",
   "execution_count": 18,
   "metadata": {},
   "outputs": [
    {
     "name": "stdout",
     "output_type": "stream",
     "text": [
      "We received 6808 responses\n"
     ]
    }
   ],
   "source": [
    "# Print number of articles we received\n",
    "print(\"We received {} responses\".format(len(response_json)))"
   ]
  }
 ],
 "metadata": {
  "kernelspec": {
   "display_name": "Python [PythonData]",
   "language": "python",
   "name": "pythondata"
  },
  "language_info": {
   "codemirror_mode": {
    "name": "ipython",
    "version": 3
   },
   "file_extension": ".py",
   "mimetype": "text/x-python",
   "name": "python",
   "nbconvert_exporter": "python",
   "pygments_lexer": "ipython3",
   "version": "3.6.3"
  }
 },
 "nbformat": 4,
 "nbformat_minor": 2
}
