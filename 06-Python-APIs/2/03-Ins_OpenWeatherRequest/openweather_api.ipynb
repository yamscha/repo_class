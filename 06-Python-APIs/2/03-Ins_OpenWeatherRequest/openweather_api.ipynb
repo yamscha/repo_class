{
 "cells": [
  {
   "cell_type": "code",
   "execution_count": 1,
   "metadata": {},
   "outputs": [],
   "source": [
    "# Dependencies\n",
    "#import json\n",
    "import requests"
   ]
  },
  {
   "cell_type": "markdown",
   "metadata": {},
   "source": [
    "http://openweathermap.org/api\n",
    "\n",
    "http://openweathermap.org/current"
   ]
  },
  {
   "cell_type": "code",
   "execution_count": 11,
   "metadata": {},
   "outputs": [],
   "source": [
    "# Save config information\n",
    "api_key = \"25bc90a1196e6f153eece0bc0b0fc9eb\"\n",
    "url = \"http://api.openweathermap.org/data/2.5/weather?\"\n",
    "city = \"San Ramon\""
   ]
  },
  {
   "cell_type": "markdown",
   "metadata": {},
   "source": [
    "### here's a nice way to pass parameters into requests\n",
    "\n",
    "http://docs.python-requests.org/en/master/user/quickstart/#passing-parameters-in-urls"
   ]
  },
  {
   "cell_type": "code",
   "execution_count": 12,
   "metadata": {},
   "outputs": [],
   "source": [
    "params = {\"appid\": api_key,\n",
    "          \"q\": city}"
   ]
  },
  {
   "cell_type": "code",
   "execution_count": 13,
   "metadata": {},
   "outputs": [
    {
     "data": {
      "text/plain": [
       "'http://api.openweathermap.org/data/2.5/weather?appid=25bc90a1196e6f153eece0bc0b0fc9eb&q=San+Ramon'"
      ]
     },
     "execution_count": 13,
     "metadata": {},
     "output_type": "execute_result"
    }
   ],
   "source": [
    "# Get weather data\n",
    "weather_response = requests.get(url,params=params)\n",
    "weather_json = weather_response.json()\n",
    "weather_response.url"
   ]
  },
  {
   "cell_type": "code",
   "execution_count": 14,
   "metadata": {},
   "outputs": [
    {
     "data": {
      "text/plain": [
       "{'base': 'stations',\n",
       " 'clouds': {'all': 68},\n",
       " 'cod': 200,\n",
       " 'coord': {'lat': 12.92, 'lon': -85.84},\n",
       " 'dt': 1542522206,\n",
       " 'id': 3616584,\n",
       " 'main': {'grnd_level': 933.73,\n",
       "  'humidity': 85,\n",
       "  'pressure': 933.73,\n",
       "  'sea_level': 1025.67,\n",
       "  'temp': 294.085,\n",
       "  'temp_max': 294.085,\n",
       "  'temp_min': 294.085},\n",
       " 'name': 'San Ramon',\n",
       " 'sys': {'country': 'NI',\n",
       "  'message': 0.0042,\n",
       "  'sunrise': 1542541403,\n",
       "  'sunset': 1542582822},\n",
       " 'weather': [{'description': 'broken clouds',\n",
       "   'icon': '04n',\n",
       "   'id': 803,\n",
       "   'main': 'Clouds'}],\n",
       " 'wind': {'deg': 35.5024, 'speed': 1.97}}"
      ]
     },
     "execution_count": 14,
     "metadata": {},
     "output_type": "execute_result"
    }
   ],
   "source": [
    "# Get the temperature from the response\n",
    "weather_json"
   ]
  },
  {
   "cell_type": "code",
   "execution_count": 15,
   "metadata": {},
   "outputs": [
    {
     "name": "stdout",
     "output_type": "stream",
     "text": [
      "the temperature in San Ramon is 294.085\n"
     ]
    }
   ],
   "source": [
    "print(f\"the temperature in {city} \"\n",
    "      f\"is {weather_json['main']['temp']}\")"
   ]
  },
  {
   "cell_type": "markdown",
   "metadata": {},
   "source": [
    "### Wow, 200+ degrees in San Francisco?\n",
    "#### Time to wear flip flops to work?\n",
    "\n",
    "Units format\n",
    "Description:\n",
    "Standard, metric, and imperial units are available.\n",
    "\n",
    "Parameters:\n",
    "units metric, imperial. When you do not use units parameter, format is Standard by default.\n",
    "\n",
    "Temperature is available in Fahrenheit, Celsius and Kelvin units.\n",
    "\n",
    "For temperature in Fahrenheit use units=imperial\n",
    "For temperature in Celsius use units=metric\n",
    "Temperature in Kelvin is used by default, no need to use units parameter in API call\n",
    "List of all API parameters with units openweathermap.org/weather-data"
   ]
  },
  {
   "cell_type": "code",
   "execution_count": 16,
   "metadata": {},
   "outputs": [],
   "source": [
    "# get temperature in Fahrenheit\n",
    "api_key = \"25bc90a1196e6f153eece0bc0b0fc9eb\"\n",
    "url = \"http://api.openweathermap.org/data/2.5/weather?\"\n",
    "city = \"San Ramon\""
   ]
  },
  {
   "cell_type": "code",
   "execution_count": 17,
   "metadata": {},
   "outputs": [],
   "source": [
    "params = {\"appid\": api_key,\n",
    "          \"q\": city,\n",
    "          \"units\": \"imperial\"}"
   ]
  },
  {
   "cell_type": "code",
   "execution_count": 18,
   "metadata": {},
   "outputs": [
    {
     "data": {
      "text/plain": [
       "'http://api.openweathermap.org/data/2.5/weather?appid=25bc90a1196e6f153eece0bc0b0fc9eb&q=San+Ramon&units=imperial'"
      ]
     },
     "execution_count": 18,
     "metadata": {},
     "output_type": "execute_result"
    }
   ],
   "source": [
    "weather_r = requests.get(url, params=params)\n",
    "weather_json = weather_r.json()\n",
    "weather_r.url"
   ]
  },
  {
   "cell_type": "code",
   "execution_count": 19,
   "metadata": {},
   "outputs": [
    {
     "name": "stdout",
     "output_type": "stream",
     "text": [
      "the temperature in San Ramon is 69.68 Fahrenheit\n"
     ]
    }
   ],
   "source": [
    "print(f\"the temperature in {city} \"\n",
    "      f\"is {weather_json['main']['temp']} Fahrenheit\")"
   ]
  },
  {
   "cell_type": "code",
   "execution_count": null,
   "metadata": {},
   "outputs": [],
   "source": []
  }
 ],
 "metadata": {
  "kernelspec": {
   "display_name": "Python [conda env:pythondata]",
   "language": "python",
   "name": "conda-env-pythondata-py"
  },
  "language_info": {
   "codemirror_mode": {
    "name": "ipython",
    "version": 3
   },
   "file_extension": ".py",
   "mimetype": "text/x-python",
   "name": "python",
   "nbconvert_exporter": "python",
   "pygments_lexer": "ipython3",
   "version": "3.6.4"
  }
 },
 "nbformat": 4,
 "nbformat_minor": 2
}
