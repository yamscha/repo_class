{
 "cells": [
  {
   "cell_type": "code",
   "execution_count": 1,
   "metadata": {},
   "outputs": [],
   "source": [
    "# Dependencies\n",
    "#import json\n",
    "import requests"
   ]
  },
  {
   "cell_type": "markdown",
   "metadata": {},
   "source": [
    "http://openweathermap.org/api\n",
    "\n",
    "http://openweathermap.org/current"
   ]
  },
  {
   "cell_type": "code",
   "execution_count": 2,
   "metadata": {},
   "outputs": [],
   "source": [
    "# Save config information\n",
    "api_key = \"25bc90a1196e6f153eece0bc0b0fc9eb\"\n",
    "url = \"http://api.openweathermap.org/data/2.5/weather?\"\n",
    "city = \"San Francisco\""
   ]
  },
  {
   "cell_type": "markdown",
   "metadata": {},
   "source": [
    "### here's a nice way to pass parameters into requests\n",
    "\n",
    "http://docs.python-requests.org/en/master/user/quickstart/#passing-parameters-in-urls"
   ]
  },
  {
   "cell_type": "code",
   "execution_count": 3,
   "metadata": {},
   "outputs": [],
   "source": [
    "params = {\"appid\": api_key,\n",
    "          \"q\": city}"
   ]
  },
  {
   "cell_type": "code",
   "execution_count": 6,
   "metadata": {},
   "outputs": [
    {
     "data": {
      "text/plain": [
       "'http://api.openweathermap.org/data/2.5/weather?appid=25bc90a1196e6f153eece0bc0b0fc9eb&q=San+Francisco'"
      ]
     },
     "execution_count": 6,
     "metadata": {},
     "output_type": "execute_result"
    }
   ],
   "source": [
    "# Get weather data\n",
    "weather_response = requests.get(url,params=params)\n",
    "weather_json = weather_response.json()\n",
    "weather_response.url"
   ]
  },
  {
   "cell_type": "code",
   "execution_count": 7,
   "metadata": {},
   "outputs": [
    {
     "data": {
      "text/plain": [
       "{'base': 'stations',\n",
       " 'clouds': {'all': 1},\n",
       " 'cod': 200,\n",
       " 'coord': {'lat': 37.78, 'lon': -122.42},\n",
       " 'dt': 1519426680,\n",
       " 'id': 5391959,\n",
       " 'main': {'humidity': 34,\n",
       "  'pressure': 1028,\n",
       "  'temp': 285.3,\n",
       "  'temp_max': 287.15,\n",
       "  'temp_min': 283.15},\n",
       " 'name': 'San Francisco',\n",
       " 'sys': {'country': 'US',\n",
       "  'id': 478,\n",
       "  'message': 0.005,\n",
       "  'sunrise': 1519397271,\n",
       "  'sunset': 1519437501,\n",
       "  'type': 1},\n",
       " 'visibility': 16093,\n",
       " 'weather': [{'description': 'clear sky',\n",
       "   'icon': '01d',\n",
       "   'id': 800,\n",
       "   'main': 'Clear'}],\n",
       " 'wind': {'deg': 290, 'speed': 5.7}}"
      ]
     },
     "execution_count": 7,
     "metadata": {},
     "output_type": "execute_result"
    }
   ],
   "source": [
    "# Get the temperature from the response\n",
    "weather_json"
   ]
  },
  {
   "cell_type": "code",
   "execution_count": 8,
   "metadata": {},
   "outputs": [
    {
     "name": "stdout",
     "output_type": "stream",
     "text": [
      "the temperature in San Francisco is 285.3\n"
     ]
    }
   ],
   "source": [
    "print(f\"the temperature in {city} \"\n",
    "      f\"is {weather_json['main']['temp']}\")"
   ]
  },
  {
   "cell_type": "markdown",
   "metadata": {},
   "source": [
    "### Wow, 200+ degrees in San Francisco?\n",
    "#### Time to wear flip flops to work?\n",
    "\n",
    "Units format\n",
    "Description:\n",
    "Standard, metric, and imperial units are available.\n",
    "\n",
    "Parameters:\n",
    "units metric, imperial. When you do not use units parameter, format is Standard by default.\n",
    "\n",
    "Temperature is available in Fahrenheit, Celsius and Kelvin units.\n",
    "\n",
    "For temperature in Fahrenheit use units=imperial\n",
    "For temperature in Celsius use units=metric\n",
    "Temperature in Kelvin is used by default, no need to use units parameter in API call\n",
    "List of all API parameters with units openweathermap.org/weather-data"
   ]
  },
  {
   "cell_type": "code",
   "execution_count": 9,
   "metadata": {},
   "outputs": [],
   "source": [
    "# get temperature in Fahrenheit\n",
    "api_key = \"25bc90a1196e6f153eece0bc0b0fc9eb\"\n",
    "url = \"http://api.openweathermap.org/data/2.5/weather?\"\n",
    "city = \"San Francisco\""
   ]
  },
  {
   "cell_type": "code",
   "execution_count": 9,
   "metadata": {},
   "outputs": [],
   "source": [
    "params = {\"appid\": api_key,\n",
    "          \"q\": city,\n",
    "          \"units\": \"imperial\"}"
   ]
  },
  {
   "cell_type": "code",
   "execution_count": 12,
   "metadata": {},
   "outputs": [
    {
     "data": {
      "text/plain": [
       "'http://api.openweathermap.org/data/2.5/weather?appid=25bc90a1196e6f153eece0bc0b0fc9eb&q=San+Francisco&units=imperial'"
      ]
     },
     "execution_count": 12,
     "metadata": {},
     "output_type": "execute_result"
    }
   ],
   "source": [
    "weather_r = requests.get(url, params=params)\n",
    "weather_json = weather_r.json()\n",
    "weather_r.url"
   ]
  },
  {
   "cell_type": "code",
   "execution_count": 13,
   "metadata": {},
   "outputs": [
    {
     "name": "stdout",
     "output_type": "stream",
     "text": [
      "the temperature in San Francisco is 53.87 Fahrenheit\n"
     ]
    }
   ],
   "source": [
    "print(f\"the temperature in {city} \"\n",
    "      f\"is {weather_json['main']['temp']} Fahrenheit\")"
   ]
  },
  {
   "cell_type": "code",
   "execution_count": null,
   "metadata": {},
   "outputs": [],
   "source": []
  }
 ],
 "metadata": {
  "kernelspec": {
   "display_name": "Python 3",
   "language": "python",
   "name": "python3"
  },
  "language_info": {
   "codemirror_mode": {
    "name": "ipython",
    "version": 3
   },
   "file_extension": ".py",
   "mimetype": "text/x-python",
   "name": "python",
   "nbconvert_exporter": "python",
   "pygments_lexer": "ipython3",
   "version": "3.6.4"
  }
 },
 "nbformat": 4,
 "nbformat_minor": 2
}
