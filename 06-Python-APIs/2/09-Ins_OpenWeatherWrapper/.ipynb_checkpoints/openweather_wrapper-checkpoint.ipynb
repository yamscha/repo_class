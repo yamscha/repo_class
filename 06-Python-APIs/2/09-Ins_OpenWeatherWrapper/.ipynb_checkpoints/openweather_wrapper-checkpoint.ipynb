{
 "cells": [
  {
   "cell_type": "markdown",
   "metadata": {},
   "source": [
    "Activate your PythonData environment, then:\n",
    "\n",
    "```\n",
    "pip install openweathermapy\n",
    "```"
   ]
  },
  {
   "cell_type": "markdown",
   "metadata": {},
   "source": [
    "http://openweathermapy.readthedocs.io/en/latest/"
   ]
  },
  {
   "cell_type": "code",
   "execution_count": 9,
   "metadata": {},
   "outputs": [],
   "source": [
    "# Dependencies\n",
    "import openweathermapy.core as ow"
   ]
  },
  {
   "cell_type": "code",
   "execution_count": 10,
   "metadata": {},
   "outputs": [],
   "source": [
    "# Create settings dictionary with information we're interested in\n",
    "api_key = \"25bc90a1196e6f153eece0bc0b0fc9eb\"\n",
    "settings = {\"units\": \"metric\", \"appid\": api_key}"
   ]
  },
  {
   "cell_type": "code",
   "execution_count": 11,
   "metadata": {},
   "outputs": [
    {
     "data": {
      "text/plain": [
       "{'base': 'stations',\n",
       " 'clouds': {'all': 1},\n",
       " 'cod': 200,\n",
       " 'coord': {'lat': 37.78, 'lon': -122.42},\n",
       " 'dt': 1519425660,\n",
       " 'id': 5391959,\n",
       " 'main': {'humidity': 37,\n",
       "  'pressure': 1028,\n",
       "  'temp': 12,\n",
       "  'temp_max': 13,\n",
       "  'temp_min': 9},\n",
       " 'name': 'San Francisco',\n",
       " 'sys': {'country': 'US',\n",
       "  'id': 478,\n",
       "  'message': 0.0231,\n",
       "  'sunrise': 1519397274,\n",
       "  'sunset': 1519437499,\n",
       "  'type': 1},\n",
       " 'visibility': 16093,\n",
       " 'weather': [{'description': 'clear sky',\n",
       "   'icon': '01d',\n",
       "   'id': 800,\n",
       "   'main': 'Clear'}],\n",
       " 'wind': {'deg': 270, 'speed': 6.7}}"
      ]
     },
     "execution_count": 11,
     "metadata": {},
     "output_type": "execute_result"
    }
   ],
   "source": [
    "current_weather_sf = ow.get_current(\"San Francisco\",\n",
    "                                       units=\"metric\",\n",
    "                                       appid=api_key)\n",
    "current_weather_sf"
   ]
  },
  {
   "cell_type": "markdown",
   "metadata": {},
   "source": [
    "### Let's check the type of the returned object\n",
    "\n",
    "https://github.com/crazycapivara/openweathermapy"
   ]
  },
  {
   "cell_type": "code",
   "execution_count": 12,
   "metadata": {},
   "outputs": [
    {
     "data": {
      "text/plain": [
       "openweathermapy.utils.NestedDict"
      ]
     },
     "execution_count": 12,
     "metadata": {},
     "output_type": "execute_result"
    }
   ],
   "source": [
    "type(current_weather_sf)"
   ]
  },
  {
   "cell_type": "markdown",
   "metadata": {},
   "source": [
    "### let's read about nested_dict\n",
    "http://nested-dict.readthedocs.io/en/latest/"
   ]
  },
  {
   "cell_type": "code",
   "execution_count": 13,
   "metadata": {},
   "outputs": [
    {
     "data": {
      "text/plain": [
       "dict_keys(['coord', 'weather', 'base', 'main', 'visibility', 'wind', 'clouds', 'dt', 'sys', 'id', 'name', 'cod'])"
      ]
     },
     "execution_count": 13,
     "metadata": {},
     "output_type": "execute_result"
    }
   ],
   "source": [
    "current_weather_sf.keys()"
   ]
  },
  {
   "cell_type": "code",
   "execution_count": 14,
   "metadata": {},
   "outputs": [
    {
     "data": {
      "text/plain": [
       "('San Francisco', 12)"
      ]
     },
     "execution_count": 14,
     "metadata": {},
     "output_type": "execute_result"
    }
   ],
   "source": [
    "#we can access specific values by their keys\n",
    "current_weather_sf(\"name\",\"main.temp\")"
   ]
  },
  {
   "cell_type": "markdown",
   "metadata": {},
   "source": [
    "### let's read about `*arg`\n",
    "https://pythontips.com/2013/08/04/args-and-kwargs-in-python-explained/"
   ]
  },
  {
   "cell_type": "code",
   "execution_count": 15,
   "metadata": {},
   "outputs": [
    {
     "data": {
      "text/plain": [
       "('San Francisco', 12)"
      ]
     },
     "execution_count": 15,
     "metadata": {},
     "output_type": "execute_result"
    }
   ],
   "source": [
    "summary = [\"name\", \"main.temp\"]\n",
    "current_weather_sf(*summary)"
   ]
  },
  {
   "cell_type": "markdown",
   "metadata": {},
   "source": [
    "## keyword arguments\n",
    "\n",
    "Let's read to find out what `**settings` means\n",
    "\n",
    "https://docs.python.org/2/tutorial/controlflow.html#keyword-arguments"
   ]
  },
  {
   "cell_type": "code",
   "execution_count": 16,
   "metadata": {},
   "outputs": [
    {
     "data": {
      "text/plain": [
       "openweathermapy.utils.NestedDict"
      ]
     },
     "execution_count": 16,
     "metadata": {},
     "output_type": "execute_result"
    }
   ],
   "source": [
    "# Get current weather\n",
    "# Create settings dictionary with information we're interested in\n",
    "api_key = \"25bc90a1196e6f153eece0bc0b0fc9eb\"\n",
    "settings = {\"units\": \"metric\", \"appid\": api_key}\n",
    "current_weather_sf = ow.get_current(\"San Francisco\", **settings)\n",
    "type(current_weather_sf)"
   ]
  },
  {
   "cell_type": "code",
   "execution_count": 17,
   "metadata": {},
   "outputs": [
    {
     "data": {
      "text/plain": [
       "{'base': 'stations',\n",
       " 'clouds': {'all': 1},\n",
       " 'cod': 200,\n",
       " 'coord': {'lat': 37.78, 'lon': -122.42},\n",
       " 'dt': 1519425660,\n",
       " 'id': 5391959,\n",
       " 'main': {'humidity': 37,\n",
       "  'pressure': 1028,\n",
       "  'temp': 12,\n",
       "  'temp_max': 13,\n",
       "  'temp_min': 9},\n",
       " 'name': 'San Francisco',\n",
       " 'sys': {'country': 'US',\n",
       "  'id': 478,\n",
       "  'message': 0.0231,\n",
       "  'sunrise': 1519397274,\n",
       "  'sunset': 1519437499,\n",
       "  'type': 1},\n",
       " 'visibility': 16093,\n",
       " 'weather': [{'description': 'clear sky',\n",
       "   'icon': '01d',\n",
       "   'id': 800,\n",
       "   'main': 'Clear'}],\n",
       " 'wind': {'deg': 270, 'speed': 6.7}}"
      ]
     },
     "execution_count": 17,
     "metadata": {},
     "output_type": "execute_result"
    }
   ],
   "source": [
    "current_weather_sf"
   ]
  },
  {
   "cell_type": "code",
   "execution_count": null,
   "metadata": {},
   "outputs": [],
   "source": []
  }
 ],
 "metadata": {
  "kernelspec": {
   "display_name": "Python 3",
   "language": "python",
   "name": "python3"
  },
  "language_info": {
   "codemirror_mode": {
    "name": "ipython",
    "version": 3
   },
   "file_extension": ".py",
   "mimetype": "text/x-python",
   "name": "python",
   "nbconvert_exporter": "python",
   "pygments_lexer": "ipython3",
   "version": "3.6.4"
  }
 },
 "nbformat": 4,
 "nbformat_minor": 2
}
