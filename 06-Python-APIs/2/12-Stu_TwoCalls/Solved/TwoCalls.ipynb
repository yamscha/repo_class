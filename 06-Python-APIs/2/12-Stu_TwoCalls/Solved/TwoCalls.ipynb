{
 "cells": [
  {
   "cell_type": "markdown",
   "metadata": {},
   "source": [
    "[World bank api documentation](https://datahelpdesk.worldbank.org/knowledgebase/topics/125589-developer-information)\n",
    "\n",
    "[basic call structure shows us to specify format=json](https://datahelpdesk.worldbank.org/knowledgebase/articles/898581-api-basic-call-structure)\n",
    "\n",
    "By default, all requests will respond with valid XML. To receive the response in JSON format, you may provide format=json in any request.\n",
    "\n",
    "\n",
    "\n",
    "\n",
    "[lending types](https://datahelpdesk.worldbank.org/knowledgebase/articles/898608-api-lending-type-queries)\n",
    "\n",
    "[countries](https://datahelpdesk.worldbank.org/knowledgebase/articles/898590-api-country-queries)"
   ]
  },
  {
   "cell_type": "code",
   "execution_count": 3,
   "metadata": {},
   "outputs": [],
   "source": [
    "# Dependencies\n",
    "import requests\n",
    "url = \"http://api.worldbank.org/v2/\""
   ]
  },
  {
   "cell_type": "code",
   "execution_count": 4,
   "metadata": {},
   "outputs": [],
   "source": [
    "# Get the list of lending types the world bank has\n",
    "# notice we specify the data format as json\n",
    "lending_response = requests.get(f\"{url}lendingTypes?format=json\").json()"
   ]
  },
  {
   "cell_type": "code",
   "execution_count": 5,
   "metadata": {},
   "outputs": [
    {
     "data": {
      "text/plain": [
       "[{'page': '1', 'pages': '1', 'per_page': '50', 'total': '4'},\n",
       " [{'id': 'IBD', 'iso2code': 'XF', 'value': 'IBRD'},\n",
       "  {'id': 'IDB', 'iso2code': 'XH', 'value': 'Blend'},\n",
       "  {'id': 'IDX', 'iso2code': 'XI', 'value': 'IDA'},\n",
       "  {'id': 'LNX', 'iso2code': 'XX', 'value': 'Not classified'}]]"
      ]
     },
     "execution_count": 5,
     "metadata": {},
     "output_type": "execute_result"
    }
   ],
   "source": [
    "lending_response"
   ]
  },
  {
   "cell_type": "code",
   "execution_count": 6,
   "metadata": {},
   "outputs": [],
   "source": [
    "lending_type_l = [l[\"id\"] for l in lending_response[1]]"
   ]
  },
  {
   "cell_type": "code",
   "execution_count": 7,
   "metadata": {},
   "outputs": [
    {
     "data": {
      "text/plain": [
       "['IBD', 'IDB', 'IDX', 'LNX']"
      ]
     },
     "execution_count": 7,
     "metadata": {},
     "output_type": "execute_result"
    }
   ],
   "source": [
    "lending_type_l"
   ]
  },
  {
   "cell_type": "markdown",
   "metadata": {},
   "source": [
    "Look at output for one lending type"
   ]
  },
  {
   "cell_type": "code",
   "execution_count": 8,
   "metadata": {},
   "outputs": [
    {
     "data": {
      "text/plain": [
       "'http://api.worldbank.org/v2/countries?lendingType=IBD&format=json'"
      ]
     },
     "execution_count": 8,
     "metadata": {},
     "output_type": "execute_result"
    }
   ],
   "source": [
    "query = f\"{url}countries?lendingType=IBD&format=json\"\n",
    "query"
   ]
  },
  {
   "cell_type": "code",
   "execution_count": 9,
   "metadata": {},
   "outputs": [],
   "source": [
    "r_j = requests.get(query).json()"
   ]
  },
  {
   "cell_type": "code",
   "execution_count": 10,
   "metadata": {},
   "outputs": [
    {
     "name": "stdout",
     "output_type": "stream",
     "text": [
      "returned object is a <class 'list'> of length 2\n"
     ]
    }
   ],
   "source": [
    "print (f\"returned object is a {type(r_j)} of length {len(r_j)}\")"
   ]
  },
  {
   "cell_type": "code",
   "execution_count": 11,
   "metadata": {},
   "outputs": [
    {
     "data": {
      "text/plain": [
       "{'page': 1, 'pages': 2, 'per_page': '50', 'total': 69}"
      ]
     },
     "execution_count": 11,
     "metadata": {},
     "output_type": "execute_result"
    }
   ],
   "source": [
    "#notice by default, we get 50 items per page, and we get page 1\n",
    "r_j[0]"
   ]
  },
  {
   "cell_type": "markdown",
   "metadata": {},
   "source": [
    "from the [api basic call structure](https://datahelpdesk.worldbank.org/knowledgebase/articles/898581-api-basic-call-structure)\n",
    "\n",
    "per_page – number of results per page, for pagination of the result-set. Default setting is 50\n",
    "> http://api.worldbank.org/v2/countries/all/indicators/SP.POP.TOTL?per_page=25"
   ]
  },
  {
   "cell_type": "code",
   "execution_count": 12,
   "metadata": {},
   "outputs": [
    {
     "data": {
      "text/plain": [
       "50"
      ]
     },
     "execution_count": 12,
     "metadata": {},
     "output_type": "execute_result"
    }
   ],
   "source": [
    "len(r_j[1])"
   ]
  },
  {
   "cell_type": "code",
   "execution_count": 13,
   "metadata": {},
   "outputs": [],
   "source": [
    "# Next, determine how many countries fall into each lending type.\n",
    "# Hint: Look at the first element of the response array.\n",
    "country_count_by_type = {}\n",
    "for lending_type in lending_type_l:\n",
    "    query = f\"{url}countries?lendingType={lending_type}&format=json\"\n",
    "    r_j = requests.get(query).json()\n",
    "    country_count_by_type[lending_type]= r_j[0][\"total\"]"
   ]
  },
  {
   "cell_type": "code",
   "execution_count": 33,
   "metadata": {},
   "outputs": [
    {
     "data": {
      "text/plain": [
       "{'IBD': 69, 'IDB': 16, 'IDX': 59, 'LNX': 74}"
      ]
     },
     "execution_count": 33,
     "metadata": {},
     "output_type": "execute_result"
    }
   ],
   "source": [
    "country_count_by_type"
   ]
  },
  {
   "cell_type": "code",
   "execution_count": 14,
   "metadata": {},
   "outputs": [
    {
     "name": "stdout",
     "output_type": "stream",
     "text": [
      "The number of countries with lending type IBD is 69\n",
      "The number of countries with lending type IDB is 16\n",
      "The number of countries with lending type IDX is 59\n",
      "The number of countries with lending type LNX is 74\n"
     ]
    }
   ],
   "source": [
    "# Print the number of countries of each lending type\n",
    "for lending_type, country_count in country_count_by_type.items():\n",
    "    print(f\"The number of countries with lending type \"\n",
    "          f\"{lending_type} is {country_count}\")"
   ]
  },
  {
   "cell_type": "code",
   "execution_count": null,
   "metadata": {
    "collapsed": true
   },
   "outputs": [],
   "source": []
  }
 ],
 "metadata": {
  "kernelspec": {
   "display_name": "PythonData",
   "language": "python",
   "name": "pythondata"
  },
  "language_info": {
   "codemirror_mode": {
    "name": "ipython",
    "version": 3
   },
   "file_extension": ".py",
   "mimetype": "text/x-python",
   "name": "python",
   "nbconvert_exporter": "python",
   "pygments_lexer": "ipython3",
   "version": "3.6.4"
  }
 },
 "nbformat": 4,
 "nbformat_minor": 2
}
